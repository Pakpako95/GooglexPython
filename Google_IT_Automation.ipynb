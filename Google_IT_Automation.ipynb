{
  "nbformat": 4,
  "nbformat_minor": 0,
  "metadata": {
    "colab": {
      "provenance": [],
      "collapsed_sections": [
        "QzUwXcLt34Ws",
        "vt2PTANsBWbD",
        "IRDYeUSpAVq9",
        "0EBaXzPmW-ip",
        "rO6u3F0ewHwu",
        "RUno6BMIc84q",
        "h96F0Eb92QYQ",
        "rwoMHQn4MQ-B",
        "1Byt_RPJMmO7",
        "3FHGdKF5M507",
        "yf4KTrm9NE_2",
        "N1d2GUprNUzk",
        "xhcOPtEfRAHl",
        "nYKweQyXRAHl",
        "GUhfOQKvRAHm",
        "7Ierol8Qrza8",
        "w2tOpPdnv__a",
        "Faoyo3UStnv_",
        "3Y5JJ1IPtnwA",
        "nWKBtFvetnwC",
        "JQ14OEx4tnwC",
        "QWd9WYIwyPqf",
        "sLhxAANQyPqg",
        "rDr5iO7pyPqh",
        "CD0VG7qvyPqh",
        "kkG4DETmyPqi",
        "SxTXBzILo6bY",
        "cLOfsqLdqDGk",
        "vk62gR53vGpX",
        "yj0dwR4UrLaC",
        "J59mZuS8yDzt",
        "RA_dkFsAbsOi",
        "D-2eOVX_bsOj",
        "Y1KTAptcca1T",
        "u-nBBHCCca1V",
        "U9mJcaFaca1W",
        "yfbW_qWsca1X",
        "NhhARfwuRr37",
        "UOUPiB_KRr37",
        "sBEKyc8SRr38",
        "-OnpXEPFRr38",
        "qmStgsK4Rr39",
        "v_BBNwlPRr39",
        "-LgZ06XpPDpM",
        "SZAMwjOkPDvm",
        "0uqMcqDcPD2b",
        "FC1Nu53bRsTd",
        "Q6dUSlb2dGHI",
        "ju5M1GD_dOo5",
        "A_gaH5fjdPqi",
        "k-jgwF1bh0v_",
        "CPhi1Np911Oj",
        "zMtmxn8f124r",
        "S2Bn_8rD5tNx",
        "qkeNB8sZQg2V",
        "PvNbpz8T-On6",
        "JctVNGgykbaQ",
        "j7BeN_BeVkM4",
        "CmSQQOlNZX0X",
        "hn2uI4d3en1l",
        "BeXhAWRsoPTF"
      ],
      "authorship_tag": "ABX9TyOnJzKQvyS93L2etxHfrk0h",
      "include_colab_link": true
    },
    "kernelspec": {
      "name": "python3",
      "display_name": "Python 3"
    },
    "language_info": {
      "name": "python"
    }
  },
  "cells": [
    {
      "cell_type": "markdown",
      "metadata": {
        "id": "view-in-github",
        "colab_type": "text"
      },
      "source": [
        "<a href=\"https://colab.research.google.com/github/Pakpako95/GooglexPython/blob/main/Google_IT_Automation.ipynb\" target=\"_parent\"><img src=\"https://colab.research.google.com/assets/colab-badge.svg\" alt=\"Open In Colab\"/></a>"
      ]
    },
    {
      "cell_type": "markdown",
      "source": [
        "# **🐍 Google IT Automation with Python Specialization**"
      ],
      "metadata": {
        "id": "HmJUR9sj5gpL"
      }
    },
    {
      "cell_type": "markdown",
      "source": [
        "## 🟥 **Course 2: Using Python to Interact with the Operating System**"
      ],
      "metadata": {
        "id": "YRD9Uz5E34Vg"
      }
    },
    {
      "cell_type": "markdown",
      "source": [
        "### 🟢 **Module 3: Regular Expressions**"
      ],
      "metadata": {
        "id": "QzUwXcLt34Ws"
      }
    },
    {
      "cell_type": "markdown",
      "source": [
        "#### ◽**Theme 2: Basic Regular Expressions**"
      ],
      "metadata": {
        "id": "vUryZVSJ3fjN"
      }
    },
    {
      "cell_type": "markdown",
      "source": [
        "#####💠**Simple Matching in Python**"
      ],
      "metadata": {
        "id": "vt2PTANsBWbD"
      }
    },
    {
      "cell_type": "markdown",
      "source": [
        "In Python's regex implementation, the re module provides functions for string manipulation. Use r prefix to create rawstrings, preventing Python from interpreting special characters.\n",
        "\n",
        "The search function checks if a pattern exists in a string, returning a match object with information like position (span) and the matching substring.\n",
        "\n",
        "If no match is found, search returns None. Special regex characters include ^ to match the beginning of a line and . to match any character. Additional options like re.IGNORECASE can modify matching behavior."
      ],
      "metadata": {
        "id": "ijcqVrsKBWbE"
      }
    },
    {
      "cell_type": "code",
      "execution_count": null,
      "metadata": {
        "id": "CZijaxTPBWbE"
      },
      "outputs": [],
      "source": [
        "import re\n",
        "result = re.search(r\"aza\", \"plaza\")\n",
        "print(result)"
      ]
    },
    {
      "cell_type": "code",
      "source": [
        "import re\n",
        "result = re.search(r\"aza\", \"bazaar\")\n",
        "print(result)"
      ],
      "metadata": {
        "id": "dlIj1AzRBWbF"
      },
      "execution_count": null,
      "outputs": []
    },
    {
      "cell_type": "code",
      "source": [
        "import re\n",
        "result = re.search(r\"aza\", \"maze\")\n",
        "print(result)\n",
        "\n",
        "print(re.search(r\"^x\", \"xenon\"))"
      ],
      "metadata": {
        "collapsed": true,
        "id": "zqF_8QbWBWbF"
      },
      "execution_count": null,
      "outputs": []
    },
    {
      "cell_type": "code",
      "source": [
        "import re\n",
        "print(re.search(r\"p.ng\", \"penguin\"))"
      ],
      "metadata": {
        "id": "s4Uy5YGoBr5g"
      },
      "execution_count": null,
      "outputs": []
    },
    {
      "cell_type": "code",
      "source": [
        "import re\n",
        "print(re.search(r\"p.ng\", \"clapping\"))\n",
        "print(re.search(r\"p.ng\", \"sponge\"))"
      ],
      "metadata": {
        "id": "XGLQ_Ca8BsF0"
      },
      "execution_count": null,
      "outputs": []
    },
    {
      "cell_type": "code",
      "source": [
        "import re\n",
        "print(re.search(r\"p.ng\", \"Pangaea\", re.IGNORECASE))"
      ],
      "metadata": {
        "id": "tO9VlIiyBttm"
      },
      "execution_count": null,
      "outputs": []
    },
    {
      "cell_type": "markdown",
      "source": [
        "##### 💠**Wildcards and Character Classes**"
      ],
      "metadata": {
        "id": "IRDYeUSpAVq9"
      }
    },
    {
      "cell_type": "markdown",
      "source": [
        "Character classes in regex allow matching specific character groups using square brackets.\n",
        "\n",
        "To match Python with either uppercase or lowercase p, use `[Pp]ython`. Ranges are defined with dashes: `[a-z]` for lowercase letters, `[A-Z]` for uppercase, `[0-9]` for digits.\n",
        "\n",
        "The `^` symbol inside brackets negates the class, matching anything not in the specified set. For example, `[^a-zA-Z]` matches characters that aren't letters.\n",
        "\n",
        "The pipe symbol `|` creates alternatives, matching either expression. For instance, cat|dog matches either \"cat\" or \"dog\".\n",
        "While search finds only the first match, findall returns all matches in a string."
      ],
      "metadata": {
        "id": "dBxJZj2uAVrA"
      }
    },
    {
      "cell_type": "code",
      "execution_count": null,
      "metadata": {
        "id": "uwSF0UC5AVrB"
      },
      "outputs": [],
      "source": [
        "import re\n",
        "print(re.search(r\"[Pp]ython\", \"Python\"))"
      ]
    },
    {
      "cell_type": "code",
      "source": [
        "import re\n",
        "print(re.search(r\"[a-z]way\", \"The end of the highway\"))\n",
        "print(re.search(r\"[a-z]way\", \"What a way to go\"))\n",
        "print(re.search(\"cloud[a-zA-Z0-9]\", \"cloudy\"))\n",
        "print(re.search(\"cloud[a-zA-Z0-9]\", \"cloud9\"))"
      ],
      "metadata": {
        "id": "sXDpvwF5AVrC"
      },
      "execution_count": null,
      "outputs": []
    },
    {
      "cell_type": "code",
      "source": [
        "import re\n",
        "print(re.search(r\"[^a-zA-Z]\", \"This is a sentence with spaces.\"))\n",
        "print(re.search(r\"[^a-zA-Z ]\", \"This is a sentence with spaces.\"))\n",
        "\n",
        "print(re.search(r\"cat|dog\", \"I like cats.\"))\n",
        "print(re.search(r\"cat|dog\", \"I love dogs!\"))\n",
        "print(re.search(r\"cat|dog\", \"I like both dogs and cats.\"))\n",
        "\n",
        "print(re.search(r\"cat|dog\", \"I like cats.\"))\n",
        "print(re.search(r\"cat|dog\", \"I love dogs!\"))\n",
        "print(re.search(r\"cat|dog\", \"I like both dogs and cats.\"))\n",
        "print(re.findall(r\"cat|dog\", \"I like both dogs and cats.\"))"
      ],
      "metadata": {
        "id": "_8r27jB-AVrD"
      },
      "execution_count": null,
      "outputs": []
    },
    {
      "cell_type": "markdown",
      "source": [
        "##### 💠**Repetition Qualifiers**"
      ],
      "metadata": {
        "id": "0EBaXzPmW-ip"
      }
    },
    {
      "cell_type": "markdown",
      "source": [
        "Repetition qualifiers in regex allow matching characters multiple times.\n",
        "The ***** matches any character repeated zero or more times, but behaves greedily by matching as much as possible. For example, **p.*n matches from the first \"p\" to the last \"n\" in a string.\n",
        "\n",
        "The + qualifier matches one or more occurrences of the preceding character, while ? matches zero or one occurrence. For example, O+L+ matches one or more O's followed by one or more L's, and P?each matches both \"each\" and \"Peach\".\n",
        "\n",
        "These qualifiers help build more complex patterns for finding specific text patterns like the longest word in a string or hostnames in log files."
      ],
      "metadata": {
        "id": "eFVj0Op3xAu-"
      }
    },
    {
      "cell_type": "code",
      "execution_count": null,
      "metadata": {
        "id": "JtiC5Z3IL3y0"
      },
      "outputs": [],
      "source": [
        "import re\n",
        "print(re.search(r\"Py.*n\", \"Pygmalion\"))\n",
        "print(re.search(r\"Py.*n\", \"Python Programming\"))\n",
        "print(re.search(r\"Py.*?n\", \"Python Programming\"))\n",
        "print(re.search(r\"Py[a-z]*n\", \"Python Programming\"))\n",
        "print(re.search(r\"Py[a-z]*n\", \"Pyn\"))"
      ]
    },
    {
      "cell_type": "code",
      "source": [
        "import re\n",
        "print(re.search(r\"o+l+\", \"goldfish\"))\n",
        "print(re.search(r\"o+l+\", \"woolly\"))\n",
        "print(re.search(r\"o+l+\", \"boil\"))"
      ],
      "metadata": {
        "id": "WlOlpKc_MTPn"
      },
      "execution_count": null,
      "outputs": []
    },
    {
      "cell_type": "code",
      "source": [
        "import re\n",
        "print(re.search(r\"p?each\", \"To each their own\"))\n",
        "print(re.search(r\"p?each\", \"I like peaches\"))"
      ],
      "metadata": {
        "id": "3luHEsH-MU2z"
      },
      "execution_count": null,
      "outputs": []
    },
    {
      "cell_type": "markdown",
      "source": [
        "Greedy vs Non-Greedy in Regular Expressions\\\n",
        "\n",
        "**Greedy:** Matches as much as possible.\n",
        "Example: a.*a\n",
        "→ Captures from the first a to the last a.\n",
        "\n",
        "**Non-Greedy:** Matches as little as possible.\n",
        "Example: a.*?a\n",
        "→ Captures from the first a to the next closest a.\n",
        "\n",
        "Explaining the expression ( . * ? )\n",
        "\n",
        "( . ) means any character (except newlines).\n",
        "\n",
        "( * ) means zero or more repetitions of the preceding item (in this case, any character).\n",
        "\n",
        "( ? ) makes the * non-greedy, so it matches the smallest possible number of characters between the two letters.\n",
        "\n",
        "→ So ( . * ? ) means: “the fewest possible characters of any kind.”"
      ],
      "metadata": {
        "id": "K4_wtWdIdUu2"
      }
    },
    {
      "cell_type": "markdown",
      "source": [
        "##### 💠**Escaping Characters**"
      ],
      "metadata": {
        "id": "rO6u3F0ewHwu"
      }
    },
    {
      "cell_type": "markdown",
      "source": [
        "Escaping special characters in regex requires using a backslash (). For example, to match a literal dot rather than any character, use . as in .com which matches \".com\" specifically.\n",
        "\n",
        "Python uses raw strings (r\"\") to avoid confusion with string escape sequences like \\n or \\t, as backslashes won't be interpreted when generating the string.\n",
        "Python provides special character sequences:\n",
        "\n",
        "* \\w matches alphanumeric characters (letters, numbers, underscores)\n",
        "* \\d matches digits\n",
        "* \\s matches whitespace (space, tab, newline)\n",
        "* \\b matches word boundaries\n",
        "\n",
        "For regex testing and analysis, regex101.com is a helpful resource."
      ],
      "metadata": {
        "id": "VIETjA5idvYd"
      }
    },
    {
      "cell_type": "code",
      "source": [
        "import re\n",
        "print(re.search(r\".com\", \"welcome\"))\n",
        "print(re.search(r\"\\.com\", \"welcome\"))\n",
        "print(re.search(r\"\\.com\", \"mydomain.com\"))"
      ],
      "metadata": {
        "colab": {
          "base_uri": "https://localhost:8080/"
        },
        "id": "eiC33Rrbd20k",
        "outputId": "8579879b-381d-47dd-dda5-db30ec74b828"
      },
      "execution_count": null,
      "outputs": [
        {
          "output_type": "stream",
          "name": "stdout",
          "text": [
            "<re.Match object; span=(2, 6), match='lcom'>\n",
            "None\n",
            "<re.Match object; span=(8, 12), match='.com'>\n"
          ]
        }
      ]
    },
    {
      "cell_type": "code",
      "source": [
        "import re\n",
        "print(re.search(r\"\\w*\", \"This is an example\"))\n",
        "print(re.search(r\"\\w*\", \"And_this_is_another\"))"
      ],
      "metadata": {
        "colab": {
          "base_uri": "https://localhost:8080/"
        },
        "id": "62AJhK3Bd-eK",
        "outputId": "6e3e1cf2-c053-4048-837a-8e80b9652d0b"
      },
      "execution_count": null,
      "outputs": [
        {
          "output_type": "stream",
          "name": "stdout",
          "text": [
            "<re.Match object; span=(0, 4), match='This'>\n",
            "<re.Match object; span=(0, 19), match='And_this_is_another'>\n"
          ]
        }
      ]
    },
    {
      "cell_type": "markdown",
      "source": [
        "##### 💠**Regular Expressions in Action**"
      ],
      "metadata": {
        "id": "RUno6BMIc84q"
      }
    },
    {
      "cell_type": "markdown",
      "source": [
        "Regular expressions can be combined to create powerful pattern matching. To match countries that start and end with \"a\", use `^a.*a$`, where `^` marks the beginning and `$` marks the end of the string.\n",
        "\n",
        "To validate Python variable names (starting with letter or underscore, containing letters, numbers or underscores):\n",
        "\n",
        "Start with:\n",
        "\n",
        "1. `^[a-zA-Z_]` to match first character\n",
        "2. Add `[a-zA-Z0-9_]*$` to match remaining characters\n",
        "3. The complete pattern is ` ^[a-zA-Z_][a-zA-Z0-9_]*$ `\n",
        "\n",
        "This pattern correctly validates variable names like \"my_var1\" while rejecting invalid ones like \"123var\" (starts with number) or \"my var\" (contains space).\n",
        "\n",
        "Practice with regex builds comfort with this powerful tool for text processing."
      ],
      "metadata": {
        "id": "zXm3FcqczUSV"
      }
    },
    {
      "cell_type": "code",
      "source": [
        "import re\n",
        "print(re.search(r\"A.*a\", \"Argentina\"))\n",
        "print(re.search(r\"A.*a\", \"Azerbaijan\"))\n",
        "print(re.search(r\"^A.*a$\", \"Azerbaijan\"))\n",
        "print(re.search(r\"^A.*a$\", \"Argentina\"))"
      ],
      "metadata": {
        "id": "YLXvh4mJx1zQ",
        "outputId": "dc765e7a-5742-4960-e76e-9bcc835f0fc6",
        "colab": {
          "base_uri": "https://localhost:8080/"
        }
      },
      "execution_count": null,
      "outputs": [
        {
          "output_type": "stream",
          "name": "stdout",
          "text": [
            "<re.Match object; span=(0, 9), match='Argentina'>\n",
            "<re.Match object; span=(0, 9), match='Azerbaija'>\n",
            "None\n",
            "<re.Match object; span=(0, 9), match='Argentina'>\n"
          ]
        }
      ]
    },
    {
      "cell_type": "code",
      "source": [
        "import re\n",
        "pattern = r\"^[a-zA-Z_][a-zA-Z0-9_]*$\"\n",
        "print(re.search(pattern, \"_this_is_a_valid_variable_name\"))\n",
        "print(re.search(pattern, \"this isn't a valid variable\"))\n",
        "print(re.search(pattern, \"my_variable1\"))\n",
        "print(re.search(pattern, \"2my_variable1\"))"
      ],
      "metadata": {
        "id": "31bqMZ5gyBMB"
      },
      "execution_count": null,
      "outputs": []
    },
    {
      "cell_type": "markdown",
      "source": [
        "Explanation of the regex `r\"^[A-Z][a-z\\s]+[.?!]$`:\n",
        "\n",
        "`^` — Start of string\n",
        "\n",
        "`[A-Z]` — First character must be an uppercase letter\n",
        "\n",
        "`[a-z\\s]+` — At least one lowercase letter or space\n",
        "\n",
        "`[.?!]` — Ends with a period, question mark, or exclamation mark\n",
        "\n",
        "`$` — End of string"
      ],
      "metadata": {
        "id": "rCacKMWWAjog"
      }
    },
    {
      "cell_type": "markdown",
      "source": [
        "##### 💠**Practice of the Theme: Basic Regular Expressions**"
      ],
      "metadata": {
        "id": "h96F0Eb92QYQ"
      }
    },
    {
      "cell_type": "markdown",
      "source": [
        "Question 1\n",
        "The check_web_address() function checks if the text passed qualifies as a top-level web address, meaning that it contains alphanumeric characters (which includes letters, numbers, and underscores), as well as periods, dashes, and a plus sign, followed by a period and a character-only top-level domain such as \".com\", \".info\", \".edu\", etc. Fill in the regular expression to do that, using escape characters, wildcards, repetition qualifiers, beginning and end-of-line characters, and character classes."
      ],
      "metadata": {
        "id": "Ls5v2dzZ2QYQ"
      }
    },
    {
      "cell_type": "code",
      "source": [
        "import re\n",
        "def check_web_address(text):\n",
        "  pattern = r\"^[\\w\\.\\-\\+]+\\.([a-zA-Z]+)$\"\n",
        "  result = re.search(pattern, text)\n",
        "  return result != None\n",
        "\n",
        "print(check_web_address(\"gmail.com\")) # True\n",
        "print(check_web_address(\"www@google\")) # False\n",
        "print(check_web_address(\"www.Coursera.org\")) # True\n",
        "print(check_web_address(\"web-address.com/homepage\")) # False\n",
        "print(check_web_address(\"My_Favorite-Blog.US\")) # True\n"
      ],
      "metadata": {
        "id": "a4qA9mL12QYR"
      },
      "execution_count": null,
      "outputs": []
    },
    {
      "cell_type": "markdown",
      "source": [
        "Question 2\n",
        "The check_time() function checks for the time format of a 12-hour clock, as follows: the hour is between 1 and 12, with no leading zero, followed by a colon, then minutes between 00 and 59, then an optional space, and then AM or PM, in upper or lower case. Fill in the regular expression to do that. How many of the concepts that you just learned can you use here?"
      ],
      "metadata": {
        "id": "tppYTeJC2ua5"
      }
    },
    {
      "cell_type": "code",
      "source": [
        "import re\n",
        "def check_time(text):\n",
        "  pattern = r\"^(1[0-2]|[1-9]):[0-5][0-9]\\s?(am|pm|AM|PM)$\"\n",
        "  result = re.search(pattern, text)\n",
        "  return result != None\n",
        "\n",
        "print(check_time(\"12:45pm\")) # True\n",
        "print(check_time(\"9:59 AM\")) # True\n",
        "print(check_time(\"6:60am\")) # False\n",
        "print(check_time(\"five o'clock\")) # False\n",
        "print(check_time(\"6:02 am\")) # True\n",
        "print(check_time(\"6:02km\")) # False\n"
      ],
      "metadata": {
        "id": "Zw1lmVjV2QYR"
      },
      "execution_count": null,
      "outputs": []
    },
    {
      "cell_type": "markdown",
      "source": [
        "Question 3\n",
        "The contains_acronym() function checks the text for the presence of 2 or more characters or digits surrounded by parentheses, with at least the first character in uppercase (if it's a letter), returning True if the condition is met, or False otherwise. For example, \"Instant messaging (IM) is a set of communication technologies used for text-based communication\" should return True since (IM) satisfies the match conditions.\" Fill in the regular expression in this function:"
      ],
      "metadata": {
        "id": "Tp60C0xB27Fk"
      }
    },
    {
      "cell_type": "code",
      "source": [
        "import re\n",
        "def contains_acronym(text):\n",
        "  pattern = r\"\\(([A-Z][a-zA-Z0-9]+)\\)\"\n",
        "  result = re.search(pattern, text)\n",
        "  return result != None\n",
        "\n",
        "print(contains_acronym(\"Instant messaging (IM) is a set of communication technologies used for text-based communication\")) # True\n",
        "print(contains_acronym(\"American Standard Code for Information Interchange (ASCII) is a character encoding standard for electronic communication\")) # True\n",
        "print(contains_acronym(\"Please do NOT enter without permission!\")) # False\n",
        "print(contains_acronym(\"PostScript is a fourth-generation programming language (4GL)\")) # True\n",
        "print(contains_acronym(\"Have fun using a self-contained underwater breathing apparatus (Scuba)!\")) # True\n"
      ],
      "metadata": {
        "id": "ZSaT7jlA26AV"
      },
      "execution_count": null,
      "outputs": []
    },
    {
      "cell_type": "markdown",
      "source": [
        "What does the r before the pattern string in re.search(r\"Py.*n\", sample.txt) indicate?\n",
        "\n",
        "Raw Strings\n",
        "\n",
        "What does the plus character [+] do in regex?\n",
        "\n",
        "Matches one or more occurrences of the character before it.\n",
        "\n"
      ],
      "metadata": {
        "id": "QlmpdbFV2QYR"
      }
    },
    {
      "cell_type": "markdown",
      "source": [
        "An intern implemented a zip code checker, but it works only with five-digit zip codes. Your task is to update the checker so that it includes all nine digits of the zip code; the leading five digits and the optional four after the hyphen. The zip code needs to be preceded by at least one space, and cannot be at the start of the text. Update the regular expression."
      ],
      "metadata": {
        "id": "a8TzZmba3NZj"
      }
    },
    {
      "cell_type": "code",
      "source": [
        "import re\n",
        "\n",
        "def correct_function(text):\n",
        "  result = re.search(r\"\\s\\d{5}(-\\d{4})?\", text)  # Corrected regex pattern with space\n",
        "  return result is not None\n",
        "\n",
        "def check_zip_code(text):\n",
        "  return correct_function(text)  # Call the correct_function\n",
        "\n",
        "# Call the check_zip_code function with test cases\n",
        "print(check_zip_code(\"The zip codes for New York are 10001 thru 11104.\"))  # True\n",
        "print(check_zip_code(\"90210 is a TV show\"))  # False (no space before 90210)\n",
        "print(check_zip_code(\"Their address is: 123 Main Street, Anytown, AZ 85258-0001.\"))  # True\n",
        "print(check_zip_code(\"The Parliament of Canada is at 111 Wellington St, Ottawa, ON K1A0A9.\"))  # False\n"
      ],
      "metadata": {
        "id": "5NRaR20M3PHk"
      },
      "execution_count": null,
      "outputs": []
    },
    {
      "cell_type": "markdown",
      "source": [
        "#### ◽**Theme 3: Advanced Regular Expressions**"
      ],
      "metadata": {
        "id": "SKSebztwL-JN"
      }
    },
    {
      "cell_type": "markdown",
      "source": [
        "##### 💠**Capturing Groups**"
      ],
      "metadata": {
        "id": "rwoMHQn4MQ-B"
      }
    },
    {
      "cell_type": "markdown",
      "source": [
        "Capturing groups in regex allow extracting matched portions for further processing. Created by enclosing patterns in parentheses, they store matched text that can be accessed using the `groups()` method or index notation.\n",
        "\n",
        "When working with names in \"lastname, firstname\" format, use `(\\w+)`, `(\\w+)` to capture both parts separately. The complete match is accessed at index 0, while captured groups start at index 1.\n",
        "\n",
        "To handle more complex names with spaces, dots, or dashes, expand the character class: `([a-zA-Z .-]+)`, `([a-zA-Z .-]+)`\n",
        "\n",
        "This pattern can be implemented in a rearrange_name function that returns \"firstname lastname\" when the pattern matches, or the original string if no match is found."
      ],
      "metadata": {
        "id": "b-N3CtXfMWSs"
      }
    },
    {
      "cell_type": "code",
      "execution_count": null,
      "metadata": {
        "id": "LpIK5rwgMaZs",
        "colab": {
          "base_uri": "https://localhost:8080/",
          "height": 128
        },
        "outputId": "a139ee95-fc5c-4a83-c057-dfacc7b7932a"
      },
      "outputs": [
        {
          "output_type": "stream",
          "name": "stdout",
          "text": [
            "<re.Match object; span=(0, 13), match='Lovelace, Ada'>\n",
            "('Lovelace', 'Ada')\n",
            "Lovelace, Ada\n",
            "Lovelace\n",
            "Ada\n"
          ]
        },
        {
          "output_type": "execute_result",
          "data": {
            "text/plain": [
              "'Ada Lovelace'"
            ],
            "application/vnd.google.colaboratory.intrinsic+json": {
              "type": "string"
            }
          },
          "metadata": {},
          "execution_count": 9
        }
      ],
      "source": [
        "import re\n",
        "result = re.search(r\" ^(\\w*), (\\w*)$\", \"Lovelace, Ada\")\n",
        "print(result)\n",
        "print(result.groups())\n",
        "print(result[0])\n",
        "print(result[1])\n",
        "print(result[2])\n",
        "\"{} {}\".format(result[2], result[1])"
      ]
    },
    {
      "cell_type": "code",
      "source": [
        "import re\n",
        "def rearrange_name(name):\n",
        "    result = re.search(r\"^(\\w*), (\\w*)$\", name)\n",
        "    if result is None:\n",
        "        return name\n",
        "    return \"{} {}\".format(result[2], result[1])\n",
        "rearrange_name(\"Lovelace, Ada\")\n",
        "rearrange_name(\"Lovelace, Ada\")"
      ],
      "metadata": {
        "colab": {
          "base_uri": "https://localhost:8080/",
          "height": 36
        },
        "id": "uqGEKGbrCHTU",
        "outputId": "5d8cf490-42d8-4978-e14f-dfaa4b153c3c"
      },
      "execution_count": null,
      "outputs": [
        {
          "output_type": "execute_result",
          "data": {
            "text/plain": [
              "'Ada Lovelace'"
            ],
            "application/vnd.google.colaboratory.intrinsic+json": {
              "type": "string"
            }
          },
          "metadata": {},
          "execution_count": 12
        }
      ]
    },
    {
      "cell_type": "code",
      "source": [
        "import re\n",
        "def rearrange_name(name):\n",
        "    result = re.search(r\"^(\\w*), (\\w*)$\", name)\n",
        "    if result is None:\n",
        "        return name\n",
        "    return \"{} {}\".format(result[2], result[1])\n",
        "rearrange_name(\"Ritchie, Dennis\")"
      ],
      "metadata": {
        "colab": {
          "base_uri": "https://localhost:8080/",
          "height": 36
        },
        "id": "KMB6O9mOCI9c",
        "outputId": "30fa997b-4732-49fd-a544-fcd881db7f2e"
      },
      "execution_count": null,
      "outputs": [
        {
          "output_type": "execute_result",
          "data": {
            "text/plain": [
              "'Dennis Ritchie'"
            ],
            "application/vnd.google.colaboratory.intrinsic+json": {
              "type": "string"
            }
          },
          "metadata": {},
          "execution_count": 13
        }
      ]
    },
    {
      "cell_type": "code",
      "source": [
        "import re\n",
        "def rearrange_name(name):\n",
        "    result = re.search(r\"^([\\w \\.-]*), ([\\w \\.-]*)$\", name)\n",
        "    if result == None:\n",
        "        return name\n",
        "    return \"{} {}\".format(result[2], result[1])\n",
        "rearrange_name(\"Hopper, Grace M.\")"
      ],
      "metadata": {
        "colab": {
          "base_uri": "https://localhost:8080/",
          "height": 36
        },
        "id": "OZMFTdT6CLUz",
        "outputId": "60b3e5d9-fc21-4076-c87a-e3d4f8611168"
      },
      "execution_count": null,
      "outputs": [
        {
          "output_type": "execute_result",
          "data": {
            "text/plain": [
              "'Grace M. Hopper'"
            ],
            "application/vnd.google.colaboratory.intrinsic+json": {
              "type": "string"
            }
          },
          "metadata": {},
          "execution_count": 14
        }
      ]
    },
    {
      "cell_type": "markdown",
      "source": [
        "##### 💠**More on Repetition Qualifiers**"
      ],
      "metadata": {
        "id": "1Byt_RPJMmO7"
      }
    },
    {
      "cell_type": "markdown",
      "source": [
        "Numeric repetition qualifiers in regex allow matching patterns a specific number of times using curly brackets:\n",
        "\n",
        "* `{n}`: Exactly n repetitions\n",
        "* `{n,m}`: Between n and m repetitions\n",
        "* `{n,}`: At least n repetitions\n",
        "* `{,m}`: Up to m repetitions (from zero)\n",
        "\n",
        "For example, `[a-zA-Z]{5}` matches exactly 5 letters. To match complete words of exactly 5 letters, use `\\b[a-zA-Z]{5}\\b` where `\\b` marks word boundaries.\n",
        "\n",
        "The findall function returns all matches rather than just the first one. For instance, `[a-zA-Z0-9]{5,10}` finds all alphanumeric sequences between 5-10 characters long, while `s[a-zA-Z0-9]{,20}` matches \"s\" followed by up to 20 alphanumeric characters."
      ],
      "metadata": {
        "id": "JnE9npC4MnbI"
      }
    },
    {
      "cell_type": "code",
      "execution_count": null,
      "metadata": {
        "id": "t8jr-95PM38o",
        "colab": {
          "base_uri": "https://localhost:8080/"
        },
        "outputId": "911a1722-c67e-4891-af3d-a639c19d7cdb"
      },
      "outputs": [
        {
          "output_type": "stream",
          "name": "stdout",
          "text": [
            "<re.Match object; span=(2, 7), match='ghost'>\n"
          ]
        }
      ],
      "source": [
        "import re\n",
        "print(re.search(r\"[a-zA-Z]{5}\", \"a ghost\"))"
      ]
    },
    {
      "cell_type": "code",
      "source": [
        "import re\n",
        "print(re.search(r\"[a-zA-Z]{5}\", \"a scary ghost appeared\"))"
      ],
      "metadata": {
        "colab": {
          "base_uri": "https://localhost:8080/"
        },
        "id": "lNRcdbafGnq4",
        "outputId": "59aa41af-4e4b-4456-835a-58bb5a46bc48"
      },
      "execution_count": null,
      "outputs": [
        {
          "output_type": "stream",
          "name": "stdout",
          "text": [
            "<re.Match object; span=(2, 7), match='scary'>\n"
          ]
        }
      ]
    },
    {
      "cell_type": "code",
      "source": [
        "import re\n",
        "print(re.findall(r\"[a-zA-Z]{5}\", \"a scary ghost appeared\"))"
      ],
      "metadata": {
        "colab": {
          "base_uri": "https://localhost:8080/"
        },
        "id": "HbNof2xZGoCD",
        "outputId": "df725774-6f6b-491d-e3b3-5fc1ee679fec"
      },
      "execution_count": null,
      "outputs": [
        {
          "output_type": "stream",
          "name": "stdout",
          "text": [
            "['scary', 'ghost', 'appea']\n"
          ]
        }
      ]
    },
    {
      "cell_type": "code",
      "source": [
        "import re\n",
        "re.findall(r\"\\b[a-zA-Z]{5}\\b\", \"A scary ghost appeared\")"
      ],
      "metadata": {
        "colab": {
          "base_uri": "https://localhost:8080/"
        },
        "id": "G302fTGOGoPx",
        "outputId": "0b97f5ce-2e6f-4567-a0b2-7047119baa1e"
      },
      "execution_count": null,
      "outputs": [
        {
          "output_type": "execute_result",
          "data": {
            "text/plain": [
              "['scary', 'ghost']"
            ]
          },
          "metadata": {},
          "execution_count": 18
        }
      ]
    },
    {
      "cell_type": "code",
      "source": [
        "import re\n",
        "print(re.findall(r\"\\w{5,10}\", \"I really like strawberries\"))"
      ],
      "metadata": {
        "colab": {
          "base_uri": "https://localhost:8080/"
        },
        "id": "eiUu96LwGt2_",
        "outputId": "842abc44-3680-4649-da12-7b592b97a565"
      },
      "execution_count": null,
      "outputs": [
        {
          "output_type": "stream",
          "name": "stdout",
          "text": [
            "['really', 'strawberri']\n"
          ]
        }
      ]
    },
    {
      "cell_type": "code",
      "source": [
        "import re\n",
        "print(re.findall(r\"\\w{5,}\", \"I really like strawberries\"))"
      ],
      "metadata": {
        "colab": {
          "base_uri": "https://localhost:8080/"
        },
        "id": "gNNomu2MGvmX",
        "outputId": "8f07459b-977a-4d70-fb4e-8e0dc0c582b0"
      },
      "execution_count": null,
      "outputs": [
        {
          "output_type": "stream",
          "name": "stdout",
          "text": [
            "['really', 'strawberries']\n"
          ]
        }
      ]
    },
    {
      "cell_type": "code",
      "source": [
        "import re\n",
        "print(re.search(r\"s\\w{,20}\", \"I really like strawberries\"))"
      ],
      "metadata": {
        "colab": {
          "base_uri": "https://localhost:8080/"
        },
        "id": "apkOulrfGxm8",
        "outputId": "6036fe09-0c64-4850-9497-3b8586536a09"
      },
      "execution_count": null,
      "outputs": [
        {
          "output_type": "stream",
          "name": "stdout",
          "text": [
            "<re.Match object; span=(14, 26), match='strawberries'>\n"
          ]
        }
      ]
    },
    {
      "cell_type": "markdown",
      "source": [
        "**Reflection:**"
      ],
      "metadata": {
        "id": "OYt1CNYTLDwk"
      }
    },
    {
      "cell_type": "code",
      "source": [
        "import re\n",
        "\n",
        "def long_words(text):\n",
        "  pattern = r\"\\b\\w{7,}\\b\"\n",
        "  result = re.findall(pattern, text)\n",
        "  return result\n",
        "\n",
        "# Test cases\n",
        "print(long_words(\"I like to drink coffee in the morning.\"))  # ['morning']\n",
        "print(long_words(\"I also have a taste for hot chocolate in the afternoon.\"))  # ['chocolate', 'afternoon']\n",
        "print(long_words(\"I never drink tea late at night.\"))  # []"
      ],
      "metadata": {
        "colab": {
          "base_uri": "https://localhost:8080/"
        },
        "id": "fGGePhxWLD_o",
        "outputId": "d68e19ce-4a26-427a-f12e-ee4cbc160208"
      },
      "execution_count": null,
      "outputs": [
        {
          "output_type": "stream",
          "name": "stdout",
          "text": [
            "['morning']\n",
            "['chocolate', 'afternoon']\n",
            "[]\n"
          ]
        }
      ]
    },
    {
      "cell_type": "markdown",
      "source": [
        "##### 💠**Extracting a PID Using regexes in Python**"
      ],
      "metadata": {
        "id": "3FHGdKF5M507"
      }
    },
    {
      "cell_type": "markdown",
      "source": [
        "The process ID extraction example uses capturing groups to get numbers between square brackets:\n",
        "\n",
        "`[(\\d+)]` matches a pattern where:\n",
        "\n",
        "* `[` is an escaped opening square bracket\n",
        "* `(\\d+)` is a capturing group matching one or more digits\n",
        "* `]` is an escaped closing square bracket\n",
        "\n",
        "To safely extract PIDs from log lines, the extract_pid function:\n",
        "\n",
        "1. Searches for the pattern in the string\n",
        "2. Checks if the result exists (not None)\n",
        "3. Returns the first capturing group if found\n",
        "4. Returns an empty string if no match exists\n",
        "\n",
        "This approach prevents errors when processing lines without PIDs. For example, given \"[12345]\" it returns \"12345\", while for strings without this pattern it returns an empty string."
      ],
      "metadata": {
        "id": "9eMuZjFOM61A"
      }
    },
    {
      "cell_type": "markdown",
      "source": [
        "The regex was modified from `r\"\\[(\\d+)\\]\"` to `r\"\\[\" + r\"(\\d+)\" + r\"\\]\"` in order to visualize it correctly in Github"
      ],
      "metadata": {
        "id": "kujVYu1M2hSR"
      }
    },
    {
      "cell_type": "code",
      "execution_count": null,
      "metadata": {
        "id": "JAaYbbofM75o",
        "colab": {
          "base_uri": "https://localhost:8080/"
        },
        "outputId": "7594c1af-508c-4bc2-f7be-94591cfe5652"
      },
      "outputs": [
        {
          "output_type": "stream",
          "name": "stdout",
          "text": [
            "12345\n"
          ]
        }
      ],
      "source": [
        "import re\n",
        "log = \"July 31 07:51:48 mycomputer bad_process[12345]: ERROR Performing package upgrade\"\n",
        "# Regex format to prevent GitHub LaTeX rendering:\n",
        "regex = r\"\\[\" + r\"(\\d+)\" + r\"\\]\"\n",
        "result = re.search(regex, log)\n",
        "print(result[1])"
      ]
    },
    {
      "cell_type": "code",
      "source": [
        "import re\n",
        "log = \"July 31 07:51:48 mycomputer bad_process[12345]: ERROR Performing package upgrade\"\n",
        "regex = r\"\\[\" + r\"(\\d+)\" + r\"\\]\"\n",
        "result = re.search(regex, log)\n",
        "result = re.search(regex, \"A completely different string that also has numbers [34567]\")\n",
        "print(result[1])"
      ],
      "metadata": {
        "colab": {
          "base_uri": "https://localhost:8080/"
        },
        "id": "y1tP_1NzsQYi",
        "outputId": "47d5ebf3-b173-4e4b-d5ec-99a0cf05fec0"
      },
      "execution_count": null,
      "outputs": [
        {
          "output_type": "stream",
          "name": "stdout",
          "text": [
            "34567\n"
          ]
        }
      ]
    },
    {
      "cell_type": "code",
      "source": [
        "import re\n",
        "log = \"July 31 07:51:48 mycomputer bad_process[12345]: ERROR Performing package upgrade\"\n",
        "regex = r\"\\[\" + r\"(\\d+)\" + r\"\\]\"\n",
        "result = re.search(regex, log)\n",
        "result = re.search(regex, \"A completely different string that also has numbers [34567]\")\n",
        "result = re.search(regex, \"99 elephants in a [cage]\")\n",
        "print(result[1])\n",
        "#Note that this print command results in an error as shown in the video."
      ],
      "metadata": {
        "id": "TT4pokI8sSZd"
      },
      "execution_count": null,
      "outputs": []
    },
    {
      "cell_type": "code",
      "source": [
        "import re\n",
        "log = \"July 31 07:51:48 mycomputer bad_process[12345]: ERROR Performing package upgrade\"\n",
        "regex = r\"\\[\" + r\"(\\d+)\" + r\"\\]\"\n",
        "result = re.search(regex, log)\n",
        "result = re.search(regex, \"A completely different string that also has numbers [34567]\")\n",
        "result = re.search(regex, \"99 elephants in a [cage]\")\n",
        "def extract_pid(log_line):\n",
        "    regex = r\"\\[\" + r\"(\\d+)\" + r\"\\]\"\n",
        "    result = re.search(regex, log_line)\n",
        "    if result is None:\n",
        "        return \"\"\n",
        "    return result[1]\n",
        "print(extract_pid(log))"
      ],
      "metadata": {
        "colab": {
          "base_uri": "https://localhost:8080/"
        },
        "id": "LheYMsqTsTul",
        "outputId": "a72df72b-4309-4e43-cfd3-047d494a2827"
      },
      "execution_count": null,
      "outputs": [
        {
          "output_type": "stream",
          "name": "stdout",
          "text": [
            "12345\n"
          ]
        }
      ]
    },
    {
      "cell_type": "code",
      "source": [
        "import re\n",
        "log = \"July 31 07:51:48 mycomputer bad_process[12345]: ERROR Performing package upgrade\"\n",
        "regex = r\"\\[\" + r\"(\\d+)\" + r\"\\]\"\n",
        "result = re.search(regex, log)\n",
        "result = re.search(regex, \"A completely different string that also has numbers [34567]\")\n",
        "result = re.search(regex, \"99 elephants in a [cage]\")\n",
        "def extract_pid(log_line):\n",
        "    regex = r\"\\[\" + r\"(\\d+)\" + r\"\\]\"\n",
        "    result = re.search(regex, log_line)\n",
        "    if result is None:\n",
        "        return \"\"\n",
        "    return result[1]\n",
        "print(extract_pid(\"99 elephants in a [cage]\"))"
      ],
      "metadata": {
        "colab": {
          "base_uri": "https://localhost:8080/"
        },
        "id": "QDNKXbnesVLm",
        "outputId": "3272c8a1-f8ee-48e9-f0ce-a8371d8cbadd"
      },
      "execution_count": null,
      "outputs": [
        {
          "output_type": "stream",
          "name": "stdout",
          "text": [
            "\n"
          ]
        }
      ]
    },
    {
      "cell_type": "markdown",
      "source": [
        "**Reflection:** Add to the regular expression used in the extract_pid function, to return the uppercase message in parenthesis, after the process id."
      ],
      "metadata": {
        "id": "RzlM8HtRt3tZ"
      }
    },
    {
      "cell_type": "code",
      "source": [
        "import re\n",
        "def extract_pid(log_line):\n",
        "    regex = r\"\\[\" + r\"(\\d+)\" + r\"\\]:\\s+([A-Z]+)\"\n",
        "    result = re.search(regex, log_line)\n",
        "    if result is None:\n",
        "        return None\n",
        "    return \"{} ({})\".format(result.group(1), result.group(2))\n",
        "\n",
        "print(extract_pid(\"July 31 07:51:48 mycomputer bad_process[12345]: ERROR Performing package upgrade\")) # 12345 (ERROR)\n",
        "print(extract_pid(\"99 elephants in a [cage]\")) # None\n",
        "print(extract_pid(\"A string that also has numbers [34567] but no uppercase message\")) # None\n",
        "print(extract_pid(\"July 31 08:08:08 mycomputer new_process[67890]: RUNNING Performing backup\")) # 67890 (RUNNING)"
      ],
      "metadata": {
        "colab": {
          "base_uri": "https://localhost:8080/"
        },
        "id": "UcErWkrxt5x_",
        "outputId": "f6bee6bb-83fd-4c95-a3fd-ca1e9bc48a60"
      },
      "execution_count": null,
      "outputs": [
        {
          "output_type": "stream",
          "name": "stdout",
          "text": [
            "12345 (ERROR)\n",
            "None\n",
            "None\n",
            "67890 (RUNNING)\n"
          ]
        }
      ]
    },
    {
      "cell_type": "markdown",
      "source": [
        "**Regular Expression Explanation:**\n",
        "\n",
        "    # r\"\\[\" + r\"(\\d+)\" + r\"\\]:\\s+([A-Z]+)\"\n",
        "    #\n",
        "    # \\[         => Match a literal '[' character. The backslash escapes the special meaning of '['.\n",
        "    # (\\d+)      => Match one or more digits and capture them in group 1 (this is the PID).\n",
        "    # \\]         => Match a literal ']' character.\n",
        "    # :          => Match a literal colon ':'.\n",
        "    # \\s+        => Match one or more whitespace characters (space, tab, etc.).\n",
        "    # ([A-Z]+)   => Match one or more uppercase letters and capture them in group 2 (the status message)."
      ],
      "metadata": {
        "id": "McyJ3loF3ygk"
      }
    },
    {
      "cell_type": "markdown",
      "source": [
        "##### 💠**Splitting and Replacing**"
      ],
      "metadata": {
        "id": "yf4KTrm9NE_2"
      }
    },
    {
      "cell_type": "markdown",
      "source": [
        "* **The `split()` Function**\n",
        "\n",
        "Divides text using regex patterns as separators\n",
        "\n",
        "Example: `re.split(r\"[.?!]\", text)` splits text into sentences\n",
        "Using capturing parentheses (pattern) keeps separators in the result list\n",
        "\n",
        "* **The `sub()` Function**\n",
        "\n",
        "Substitutes matching patterns with replacement text\n",
        "For anonymizing emails: `re.sub(r\"[\\w.%+-]+@[\\w.-]+\", \"[REDACTED]\", text)`\n",
        "\n",
        "Captured groups can be referenced in replacements using `\\1`, `\\2`, etc.\n",
        "\n",
        "Example for name rearrangement: `re.sub(r\"([a-zA-Z \\.-]+), ([a-zA-Z \\.-]+)\", r\"\\2 \\1\", name)`\n",
        "\n",
        "These functions expand regex capabilities for text processing, making them powerful tools for data manipulation despite their complexity."
      ],
      "metadata": {
        "id": "kwxmVnxUNGK8"
      }
    },
    {
      "cell_type": "code",
      "execution_count": null,
      "metadata": {
        "id": "SvLlN9yUNIoI",
        "colab": {
          "base_uri": "https://localhost:8080/"
        },
        "outputId": "3e049d8f-da01-484c-97d7-8c20d4b33ad0"
      },
      "outputs": [
        {
          "output_type": "execute_result",
          "data": {
            "text/plain": [
              "['One sentence', ' Another one', ' And the last one', '']"
            ]
          },
          "metadata": {},
          "execution_count": 13
        }
      ],
      "source": [
        "import re\n",
        "re.split(r\"[.?!]\", \"One sentence. Another one? And the last one!\")"
      ]
    },
    {
      "cell_type": "code",
      "source": [
        "import re\n",
        "re.split(r\"([.?!])\", \"One sentence. Another one? And the last one!\")"
      ],
      "metadata": {
        "colab": {
          "base_uri": "https://localhost:8080/"
        },
        "id": "-kwGi4sbwENK",
        "outputId": "68786fc4-74cc-42f1-8224-b2587ceed3af"
      },
      "execution_count": null,
      "outputs": [
        {
          "output_type": "execute_result",
          "data": {
            "text/plain": [
              "['One sentence', '.', ' Another one', '?', ' And the last one', '!', '']"
            ]
          },
          "metadata": {},
          "execution_count": 14
        }
      ]
    },
    {
      "cell_type": "code",
      "source": [
        "import re\n",
        "re.sub(r\"[\\w.%+-]+@[\\w.-]+\", \"[REDACTED]\", \"Received an email for go_nuts95@my.example.com\")"
      ],
      "metadata": {
        "colab": {
          "base_uri": "https://localhost:8080/",
          "height": 36
        },
        "id": "6NAkW2BywEWl",
        "outputId": "311a899e-ffee-445a-8be0-4712c5f4e5b4"
      },
      "execution_count": null,
      "outputs": [
        {
          "output_type": "execute_result",
          "data": {
            "text/plain": [
              "'Received an email for [REDACTED]'"
            ],
            "application/vnd.google.colaboratory.intrinsic+json": {
              "type": "string"
            }
          },
          "metadata": {},
          "execution_count": 15
        }
      ]
    },
    {
      "cell_type": "code",
      "source": [
        "import re\n",
        "re.sub(r\"^([\\w .-]*), ([\\w .-]*)$\", r\"\\2 \\1\", \"Lovelace, Ada\")"
      ],
      "metadata": {
        "colab": {
          "base_uri": "https://localhost:8080/",
          "height": 36
        },
        "id": "CSOXTPwLwEfK",
        "outputId": "ff7de60a-48fe-4e2d-ca1d-e3b6d00f42dc"
      },
      "execution_count": null,
      "outputs": [
        {
          "output_type": "execute_result",
          "data": {
            "text/plain": [
              "'Ada Lovelace'"
            ],
            "application/vnd.google.colaboratory.intrinsic+json": {
              "type": "string"
            }
          },
          "metadata": {},
          "execution_count": 16
        }
      ]
    },
    {
      "cell_type": "code",
      "source": [
        "re.split(r\"the|a\", \"One sentence. Another one? And the last one!\")"
      ],
      "metadata": {
        "colab": {
          "base_uri": "https://localhost:8080/"
        },
        "id": "HXXETcRTz9MQ",
        "outputId": "d5fe6990-40e5-4cf2-e7bf-bd0894f1a92a"
      },
      "execution_count": null,
      "outputs": [
        {
          "output_type": "execute_result",
          "data": {
            "text/plain": [
              "['One sentence. Ano', 'r one? And ', ' l', 'st one!']"
            ]
          },
          "metadata": {},
          "execution_count": 17
        }
      ]
    },
    {
      "cell_type": "markdown",
      "source": [
        "##### 💠**Practice**"
      ],
      "metadata": {
        "id": "N1d2GUprNUzk"
      }
    },
    {
      "cell_type": "markdown",
      "source": [
        "**Advanced regex techniques expand pattern matching capabilities:**\n",
        "\n",
        "Alterations use pipe symbol `(|)` to match any one of multiple options:\n",
        "\n",
        "`r\"location.*(London|Berlin|Madrid)\"` matches `\"location\"` followed by any of the three cities\n",
        "\n",
        "Position anchors limit where matches can occur:\n",
        "\n",
        "`^` at beginning matches only at start of string\n",
        "`$` at end matches only at end of string\n",
        "Example: `r\"^My name is (\\w+)\"` only matches if string begins with `\"My name is\"`\n",
        "\n",
        "**Character ranges match single characters from defined sets:**\n",
        "\n",
        "`r\"[A-Z]\"` matches any uppercase letter\n",
        "`r\"[0-9$-,.]\"` matches digits or specific symbols\n",
        "Combined with quantities: `r\"([0-9]{3}-[0-9]{3}-[0-9]{4})\"` matches phone numbers like \"888-123-7612\"\n",
        "\n",
        "Backreferences in substitutions refer to captured groups:\n",
        "\n",
        "`re.sub(r\"([A-Z]).\\s+(\\w+)\", r\"Ms. \\2\", text)` changes \"A. Weber\" to \"Ms. Weber\"\n",
        "\n",
        "Lookahead matches patterns only when followed by another pattern:\n",
        "\n",
        "`r\"(Test\\d)-(?=Passed)\"` matches Test numbers only if followed by \"Passed\""
      ],
      "metadata": {
        "id": "U1aaSjUaNZh2"
      }
    },
    {
      "cell_type": "markdown",
      "source": [
        "Question 1\n",
        "You’re working with a CSV file that contains employee information. Each record has a name field, followed by a phone number field, and a role field. The phone number field contains U.S. phone numbers and needs to be modified to the international format, with +1- in front of the phone number. The rest of the phone number should not change. Fill in the regular expression, using groups, to use the transform_record() function to do that."
      ],
      "metadata": {
        "id": "56KwlRae048X"
      }
    },
    {
      "cell_type": "code",
      "execution_count": null,
      "metadata": {
        "id": "Xm_TCJLVNa7a"
      },
      "outputs": [],
      "source": [
        "import re\n",
        "def transform_record(record):\n",
        "  new_record = re.sub(r\"(\\d{3}-\\d{3}-\\d{4}|\\d{3}-\\d{7})\", r\"+1-\\1\", record)\n",
        "  return new_record\n",
        "\n",
        "print(transform_record(\"Sabrina Green,802-867-5309,System Administrator\"))\n",
        "# Sabrina Green,+1-802-867-5309,System Administrator\n",
        "\n",
        "print(transform_record(\"Eli Jones,684-3481127,IT specialist\"))\n",
        "# Eli Jones,+1-684-3481127,IT specialist\n",
        "\n",
        "print(transform_record(\"Melody Daniels,846-687-7436,Programmer\"))\n",
        "# Melody Daniels,+1-846-687-7436,Programmer\n",
        "\n",
        "print(transform_record(\"Charlie Rivera,698-746-3357,Web Developer\"))\n",
        "# Charlie Rivera,+1-698-746-3357,Web Developer"
      ]
    },
    {
      "cell_type": "markdown",
      "source": [
        "The multi_vowel_words() function returns all words with 3 or more consecutive vowels (a, e, i, o, u). Fill in the regular expression to do that."
      ],
      "metadata": {
        "id": "Zyx9590P1J8T"
      }
    },
    {
      "cell_type": "code",
      "source": [
        "import re\n",
        "def multi_vowel_words(text):\n",
        "  pattern = r'\\b\\w*[aeiou]{3,}\\w*\\b'\n",
        "  result = re.findall(pattern, text)\n",
        "  return result\n",
        "\n",
        "print(multi_vowel_words(\"Life is beautiful\"))\n",
        "# ['beautiful']\n",
        "\n",
        "print(multi_vowel_words(\"Obviously, the queen is courageous and gracious.\"))\n",
        "# ['Obviously', 'queen', 'courageous', 'gracious']\n",
        "\n",
        "print(multi_vowel_words(\"The rambunctious children had to sit quietly and await their delicious dinner.\"))\n",
        "# ['rambunctious', 'quietly', 'delicious']\n",
        "\n",
        "print(multi_vowel_words(\"The order of a data queue is First In First Out (FIFO)\"))\n",
        "# ['queue']\n",
        "\n",
        "print(multi_vowel_words(\"Hello world!\"))\n",
        "# []"
      ],
      "metadata": {
        "id": "1hBGmYw21KZE"
      },
      "execution_count": null,
      "outputs": []
    },
    {
      "cell_type": "markdown",
      "source": [
        "When capturing regex groups, what datatype does the groups method return?"
      ],
      "metadata": {
        "id": "NpScSkKN1bQU"
      }
    },
    {
      "cell_type": "markdown",
      "source": [
        "A tuple"
      ],
      "metadata": {
        "id": "uTsdGxx01kFr"
      }
    },
    {
      "cell_type": "markdown",
      "source": [
        "The transform_comments() function converts comments in a Python script into those usable by a C compiler. This means looking for text that begins with a hash mark (#) and replacing it with double slashes (//), which is the C single-line comment indicator. For the purpose of this exercise, we'll ignore the possibility of a hash mark embedded inside of a Python command, and assume that it's only used to indicate a comment. We also want to treat repetitive hash marks (##), (###), etc., as a single comment indicator, to be replaced with just (//) and not (#//) or (//#). Fill in the parameters of the substitution method to complete this function:"
      ],
      "metadata": {
        "id": "iAskeudh1j3b"
      }
    },
    {
      "cell_type": "code",
      "source": [
        "import re\n",
        "def transform_comments(line_of_code):\n",
        "  result = re.sub(r'#+', '//', line_of_code)\n",
        "  return result\n",
        "\n",
        "print(transform_comments(\"### Start of program\"))\n",
        "# Should be \"// Start of program\"\n",
        "print(transform_comments(\"  number = 0   ## Initialize the variable\"))\n",
        "# Should be \"  number = 0   // Initialize the variable\"\n",
        "print(transform_comments(\"  number += 1   # Increment the variable\"))\n",
        "# Should be \"  number += 1   // Increment the variable\"\n",
        "print(transform_comments(\"  return(number)\"))\n",
        "# Should be \"  return(number)\""
      ],
      "metadata": {
        "id": "qBNxWvoN1kT6"
      },
      "execution_count": null,
      "outputs": []
    },
    {
      "cell_type": "markdown",
      "source": [
        "The convert_phone_number() function checks for a U.S. phone number format: XXX-XXX-XXXX (3 digits followed by a dash, 3 more digits followed by a dash, and 4 digits), and converts it to a more formal format that looks like this: (XXX) XXX-XXXX. Fill in the regular expression to complete this function."
      ],
      "metadata": {
        "id": "8zcuI5LG1wm6"
      }
    },
    {
      "cell_type": "code",
      "source": [
        "import re\n",
        "def convert_phone_number(phone):\n",
        "  result = re.sub(r'(\\b\\d{3})-(\\d{3})-(\\d{4}\\b)', r'(\\1) \\2-\\3', phone)\n",
        "  return result\n",
        "\n",
        "print(convert_phone_number(\"My number is 212-345-9999.\")) # My number is (212) 345-9999.\n",
        "print(convert_phone_number(\"Please call 888-555-1234\")) # Please call (888) 555-1234\n",
        "print(convert_phone_number(\"123-123-12345\")) # 123-123-12345\n",
        "print(convert_phone_number(\"Phone number of Buckingham Palace is +44 303 123 7300\"))\n",
        "# Phone number of Buckingham Palace is +44 303 123 7300"
      ],
      "metadata": {
        "id": "IGwwxYR51xAE"
      },
      "execution_count": null,
      "outputs": []
    },
    {
      "cell_type": "markdown",
      "source": [
        "#### ◽**Theme 4: Module Review**"
      ],
      "metadata": {
        "id": "xhcOPtEfRAHl"
      }
    },
    {
      "cell_type": "markdown",
      "source": [
        "##### 💠**Glossary terms from course 2, module 3**"
      ],
      "metadata": {
        "id": "nYKweQyXRAHl"
      }
    },
    {
      "cell_type": "markdown",
      "source": [
        "**Terms and definitions from course 2, module 3**\n",
        "\n",
        "**Alteration:** RegEx that matches any one of the alternatives separated by the pipe symbol\n",
        "\n",
        "**Backreference:** This is applied when using re.sub( ) to substitute the value of a capture group into the output\n",
        "\n",
        "**Character classes:** These are written inside square brackets and let us list the characters we want to match inside of those brackets\n",
        "\n",
        "**Character ranges:** Ranges used to match a single character against a set of possibilities\n",
        "\n",
        "**grep:** An especially easy to use yet extremely powerful tool for applying RegExes\n",
        "\n",
        "**Lookahead:** RegEx that matches a pattern only if it’s followed by another pattern\n",
        "\n",
        "**Regular expression:** A search query for text that's expressed by string pattern, also known as RegEx or RegExp\n",
        "\n",
        "**Wildcard:** A character that can match more than one character"
      ],
      "metadata": {
        "id": "t4hcBJCVt-Hl"
      }
    },
    {
      "cell_type": "markdown",
      "source": [
        "#####💠**Qwiklabs assessment: Work with regular expressions**"
      ],
      "metadata": {
        "id": "GUhfOQKvRAHm"
      }
    },
    {
      "cell_type": "markdown",
      "source": [
        "**Introduction:**\n",
        "It's time to put your new skills to the test! In this lab, you'll have to find the users using an old email domain in a big list using regular expressions.\n",
        "\n",
        "**What you'll do**\n",
        "* Replacing the old domain name (abc.edu) with a new domain name (xyz.edu).\n",
        "\n",
        "* Storing all domain names, including the updated ones, in a new file.\n",
        "\n",
        "Please note that there is a graded quiz that follows this lab. You must complete the lab before attempting the quiz. The quiz will assess your comprehension of the key concepts and procedures covered in the lab.\n",
        "\n",
        "Here's what you can do to prepare:\n",
        "\n",
        "* Pay close attention to the instructions and explanations provided during the lab session.\n",
        "\n",
        "* Actively participate in the lab activities and take notes throughout.\n",
        "\n",
        "* Review your lab notes before taking the quiz.\n",
        "\n",
        "**Pro tip:**\n",
        "You are allowed to refer to your completed lab notes during the quiz."
      ],
      "metadata": {
        "id": "m3_b6nWJRAHm"
      }
    },
    {
      "cell_type": "markdown",
      "source": [
        "Data directory in `cd data`. `ls`. `user_emails.csv`. `cat user_email.csv` -> Access to Python with `cd ~/scripts`. `ls`. `script.py`. Use this file to use regex to find all the instances with the old domain `(\"abc.edu\")` in the user_email.csv and replace them with the new domain `(\"xyz.edu\")`. The file has already the functions. Just complete it to make it work.\n",
        "\n",
        "Let's update permissions `sudo schmod 777 script.py`\n",
        "`nano script.py`. `import csv`, `import re`.\n",
        "\n",
        "**IDENTIFY THE OLD DOMAIN**\n",
        "```\n",
        "def contains_domain(address, domain):\n",
        "  domain_pattern = r'[\\w\\.-]+@'+domain+'$'\n",
        "  if re.match(domain_pattern, address):\n",
        "    return True\n",
        "  return False\n",
        "```\n",
        "**REPLACE THE DOMAIN NAME**\n",
        "```\n",
        "def replace_domain(address, old_domain, new_domain):\n",
        "  old_domain_pattern = r'' + old_domain + '$'\n",
        "  address = re.sub(old_domain_pattern, new_domain, address)\n",
        "  return address\n",
        "```\n",
        "**Write a CSV file with replaced domain from main**\n",
        "```#!/usr/bin/env python3\n",
        "\n",
        "import re\n",
        "import csv\n",
        "\n",
        "def contains_domain(address, domain):\n",
        "    \"\"\"Returns True if the email address contains the given domain in the domain position, False if not.\"\"\"\n",
        "    domain_pattern = r'[\\w\\.-]+@' + domain + '$'\n",
        "    if re.match(domain_pattern, address):\n",
        "        return True\n",
        "    return False\n",
        "\n",
        "def replace_domain(address, old_domain, new_domain):\n",
        "    \"\"\"Replaces the old domain with the new domain in the received address.\"\"\"\n",
        "    old_domain_pattern = r'' + old_domain + '$'\n",
        "    address = re.sub(old_domain_pattern, new_domain, address)\n",
        "    return address\n",
        "\n",
        "def main():\n",
        "    \"\"\"Processes the list of emails, replacing any instances of the old domain with the new domain.\"\"\"\n",
        "    old_domain, new_domain = 'abc.edu', 'xyz.edu'\n",
        "    csv_file_location = '/home/student/data/user_emails.csv'\n",
        "    report_file = '/home/student/data/updated_user_emails.csv'\n",
        "\n",
        "    user_email_list = []\n",
        "    old_domain_email_list = []\n",
        "    new_domain_email_list = []\n",
        "\n",
        "    with open(csv_file_location, 'r') as f:\n",
        "        user_data_list = list(csv.reader(f))\n",
        "        user_email_list = [data[1].strip() for data in user_data_list[1:]]\n",
        "\n",
        "        for email_address in user_email_list:\n",
        "            if contains_domain(email_address, old_domain):\n",
        "                old_domain_email_list.append(email_address)\n",
        "                replaced_email = replace_domain(email_address, old_domain, new_domain)\n",
        "                new_domain_email_list.append(replaced_email)\n",
        "\n",
        "        email_index = user_data_list[0].index('Email Address')\n",
        "\n",
        "        for user in user_data_list[1:]:\n",
        "            for old_email, new_email in zip(old_domain_email_list, new_domain_email_list):\n",
        "                if user[email_index].strip() == old_email:\n",
        "                    user[email_index] = new_email\n",
        "\n",
        "    with open(report_file, 'w+') as output_file:\n",
        "        writer = csv.writer(output_file)\n",
        "        writer.writerows(user_data_list)\n",
        "\n",
        "main()\n",
        "\n",
        "```\n",
        "Run `./script.py`\n",
        "`ls ~/data`\n",
        "`cat /dataupdated_user_emails.csv`\n",
        "\n",
        "Expected result:\n",
        "\n",
        "```\n",
        "Full Name, Email Address\n",
        "Blossom Gill, blossom@xyz.edu\n",
        "Hayes Delgado, nonummy@utnisia.com\n",
        "Petra Jones, ac@xyz.edu\n",
        "Oleg Noel, noel@liberomauris.ca\n",
        "Ahmed Miller, ahmed.miller@nequenonquam.co.uk\n",
        "Macaulay Douglas, mdouglas@xyz.edu\n",
        "Aurora Grant, enim.non@xyz.edu\n",
        "Madison Mcintosh, mcintosh@nisiaenean.net\n",
        "Montana Powell, montanap@semmagna.org\n",
        "Rogan Robinson, rr.robinson@xyz.edu\n",
        "Simon Rivera, sri@xyz.edu\n",
        "Benedict Pacheco, bpacheco@xyz.edu\n",
        "Maisie Hendrix, mai.hendrix@xyz.edu\n",
        "Xaviera Gould, xlg@utnisia.net\n",
        "Oren Rollins, oren@semmagna.com\n",
        "Flavia Santiago, flavia@utnisia.net\n",
        "Jackson Owens, jackowens@xyz.edu\n",
        "Britanni Humphrey, britanni@ut.net\n",
        "Kirk Nixon, kirknixon@xyz.edu\n",
        "Bree Campbell, breee@utnisia.net\n",
        "\n",
        "```\n",
        "\n"
      ],
      "metadata": {
        "id": "CWRoba-8vw68"
      }
    },
    {
      "cell_type": "markdown",
      "source": [
        "##### 💠**Module 3 challenge: Work with Regular Expressions**"
      ],
      "metadata": {
        "id": "7Ierol8Qrza8"
      }
    },
    {
      "cell_type": "markdown",
      "source": [
        "✅ Question 1\n",
        "\n",
        "What is a regular expression?\n",
        "\n",
        "Answer: A sequence of characters that forms a search pattern"
      ],
      "metadata": {
        "id": "n2B5V5JTrzbA"
      }
    },
    {
      "cell_type": "markdown",
      "source": [
        "✅ Question 2\n",
        "\n",
        "What is a characteristic of a CSV file?\n",
        "\n",
        "Answer: Data in each row is separated by a special character"
      ],
      "metadata": {
        "id": "MUbE5op7saI7"
      }
    },
    {
      "cell_type": "markdown",
      "source": [
        "✅ Question 3\n",
        "\n",
        "Complete the function to extract full URLs. Question 3\n",
        "You are reading an article that contains website urls in the format:\n",
        "\n",
        "https://www.website-domain.com\n",
        "\n",
        "You’d like to extract the complete urls from the text automatically, instead of copying and pasting them by hand. Complete the function find_url() to extract all encrypted websites that begin with https:// and end with any top level domain, such as .org, .com, or .co from the text."
      ],
      "metadata": {
        "id": "TiMrZuk3snil"
      }
    },
    {
      "cell_type": "code",
      "source": [
        "def find_url(website):\n",
        " pattern = r\"https://[a-zA-Z0-9.-]+\\.[a-zA-Z]{2,}\"#enter the regex pattern here\n",
        " result = re.findall(pattern, website) #enter the re method here\n",
        " return result\n",
        "\n",
        "\n",
        "print(find_url(\"Go to the website https://www.coursera.com find more information about Google Certificate Programs. Then, visit https://www.python.org/ to learn more about Python. \")) # Should return ['https://www.coursera.com', 'https://www.python.org']\n",
        "print(find_url(\"You can find anything on https://www.google.com!\")) # Should return ['https://www.google.com']\n",
        "print(find_url(\"You can find anything on http://www.google.com!\")) # Should return []\n",
        "print(find_url(\"Check out python.org!\")) # Should return []\n"
      ],
      "metadata": {
        "id": "z8RDJOi-tBxg"
      },
      "execution_count": null,
      "outputs": []
    },
    {
      "cell_type": "markdown",
      "source": [
        "✅ Question 4\n",
        "\n",
        "Split sentences keeping punctuation with the word.\n",
        "\n",
        "You are exploring the punctuation at the end of sentences and want to split sentences so that each word is separate and any punctuation is included in the word next to it. Complete the parse_sentences() function to accomplish this task."
      ],
      "metadata": {
        "id": "qLPrN54isw6E"
      }
    },
    {
      "cell_type": "code",
      "source": [
        "def parse_sentences(sentence):\n",
        " pattern = r'\\w+[\\!\\?\\.]?|[^\\w\\s]' #enter the regex pattern here\n",
        " result = re.findall(pattern, sentence) #enter the re method  here\n",
        " return result\n",
        "\n",
        "print(parse_sentences(\"Hello! How are you doing?\")) # should return ['Hello!', 'How', 'are', 'you', 'doing?']\n",
        "print(parse_sentences(\"what a beautiful day it is\")) # should return ['what', 'a', 'beautiful', 'day', 'it', 'is']\n",
        "print(parse_sentences(\"2 + 2 is definitely 4!\")) # should return ['2', '+', '2', 'is', 'definitely', '4!']\n"
      ],
      "metadata": {
        "id": "h-KIx2XXs-N8"
      },
      "execution_count": null,
      "outputs": []
    },
    {
      "cell_type": "markdown",
      "source": [
        "✅ Question 5\n",
        "\n",
        "Extract 9-character employee IDs. A company uses unique, 9-character codes that begin with a capital letter, followed by a hyphen (-), followed by 7 or 8 digits as employee ID numbers, in the format:\n",
        "\n",
        "A-1234567 or A-12345678\n",
        "\n",
        "Project reports submitted to the company include the employee’s ID number and a summary of the work they completed on the project. A data analyst wants to pull all of the employee ID numbers out of these projects. Complete the find_eid() function to extract these employee ID numbers from the reports."
      ],
      "metadata": {
        "id": "7LBxTiYWtEkx"
      }
    },
    {
      "cell_type": "code",
      "source": [
        "def find_eid(report):\n",
        "  pattern = r'\\b[A-Z]-\\d{7,8}\\b' #enter the regex pattern here\n",
        "  result = re.findall(pattern, report) #enter the re method  here\n",
        "  return result\n",
        "\n",
        "\n",
        "print(find_eid(\"Employees B-1234567 and C-12345678 worked with products X-123456 and Z-123456789\")) # Should return ['B-1234567', 'C-12345678']\n",
        "print(find_eid(\"Employees B-1234567 and C-12345678, not employees b-1234567 and c-12345678\")) #Should return ['B-1234567', 'C-12345678']\n"
      ],
      "metadata": {
        "id": "krnvTzIrtLUr"
      },
      "execution_count": null,
      "outputs": []
    },
    {
      "cell_type": "markdown",
      "source": [
        "✅ Question 6\n",
        "\n",
        "Role of replace_domain() in the lab.\n",
        "\n",
        "Answer: To replace the old domain with the new domain in an email address\n",
        "\n"
      ],
      "metadata": {
        "id": "ecALCetGtPb8"
      }
    },
    {
      "cell_type": "code",
      "source": [
        "def replace_domain(address, old_domain, new_domain):\n",
        "  old_domain_pattern = r'' + old_domain + '$'\n",
        "  address = re.sub(old_domain_pattern, new_domain, address)\n",
        "  return address"
      ],
      "metadata": {
        "id": "c7ZlUApEtXbt"
      },
      "execution_count": null,
      "outputs": []
    },
    {
      "cell_type": "markdown",
      "source": [
        "✅ Question 7\n",
        "\n",
        "Purpose of old_domain_email_list.\n",
        "\n",
        "Answer: To store email addresses with the old domain that match the regex pattern"
      ],
      "metadata": {
        "id": "LgQmf_QMtZWU"
      }
    },
    {
      "cell_type": "markdown",
      "source": [
        "✅ Question 8\n",
        "\n",
        "Why write the updated list to an output file?\n",
        "\n",
        "Answer: To save the changes made to the email addresses and create a new CSV file with updated data"
      ],
      "metadata": {
        "id": "p_XaVubbtejw"
      }
    },
    {
      "cell_type": "markdown",
      "source": [
        "✅ Question 9\n",
        "\n",
        "Why replace domains and generate a new file?\n",
        "\n",
        "Answer: To enhance data security measures"
      ],
      "metadata": {
        "id": "zKhpd-prtg5X"
      }
    },
    {
      "cell_type": "markdown",
      "source": [
        "✅ Question 10\n",
        "\n",
        "How contains_domain() and replace_domain() work together.\n",
        "\n",
        "Answer:\n",
        "contains_domain() uses a regular expression to identify emails with a specific domain, and replace_domain() replaces these domains with new ones"
      ],
      "metadata": {
        "id": "4pLUYtOOtmVl"
      }
    },
    {
      "cell_type": "markdown",
      "source": [
        "### 🟢 **Module 4: Managing Data and Processes**"
      ],
      "metadata": {
        "id": "w2tOpPdnv__a"
      }
    },
    {
      "cell_type": "markdown",
      "source": [
        "\n",
        "#### ◽**Theme 1: Data Streams**"
      ],
      "metadata": {
        "id": "Faoyo3UStnv_"
      }
    },
    {
      "cell_type": "markdown",
      "source": [
        "##### 💠**Reading data interactively** 24/05/20"
      ],
      "metadata": {
        "id": "3Y5JJ1IPtnwA"
      }
    },
    {
      "cell_type": "markdown",
      "source": [
        "Python's `input()` function allows interactive user input during script execution. It always returns data as a string, so conversion to other types is necessary when needed."
      ],
      "metadata": {
        "id": "Rg3UHPt-tnwB"
      }
    },
    {
      "cell_type": "code",
      "execution_count": null,
      "metadata": {
        "id": "RWKvT3xxtnwB",
        "colab": {
          "base_uri": "https://localhost:8080/"
        },
        "outputId": "1a1864a1-77b9-4242-f45e-e8613ad5c718"
      },
      "outputs": [
        {
          "output_type": "stream",
          "name": "stdout",
          "text": [
            "Please enter your name: Paco\n",
            "Hello, Paco\n"
          ]
        }
      ],
      "source": [
        "#!/usr/bin/env python3\n",
        "name = input(\"Please enter your name: \")\n",
        "print(\"Hello, \" + name)"
      ]
    },
    {
      "cell_type": "markdown",
      "source": [
        "When collecting numeric input, convert the string to the appropriate type:"
      ],
      "metadata": {
        "id": "FKFXfNK7E4kr"
      }
    },
    {
      "cell_type": "code",
      "source": [
        "def to_seconds(hours, minutes, seconds):\n",
        "    return hours*3600+minutes*60+seconds\n",
        "\n",
        "print(\"Welcome to this time converter\")\n",
        "\n",
        "cont = \"y\"\n",
        "while(cont.lower() == \"y\"):\n",
        "    hours = int(input(\"Enter the number of hours: \"))\n",
        "    minutes = int(input(\"Enter the number of minutes: \"))\n",
        "    seconds = int(input(\"Enter the number of seconds: \"))\n",
        "\n",
        "    print(\"That's {} seconds\".format(to_seconds(hours, minutes, seconds)))\n",
        "    print()\n",
        "    cont = input(\"Do you want to do another conversion? [y to continue] \")\n",
        "\n",
        "print(\"Goodbye!\")"
      ],
      "metadata": {
        "colab": {
          "base_uri": "https://localhost:8080/"
        },
        "id": "Ur-vmn7vE4JM",
        "outputId": "89786d9c-02d1-4d42-d111-3bf8cccda9d0"
      },
      "execution_count": null,
      "outputs": [
        {
          "output_type": "stream",
          "name": "stdout",
          "text": [
            "Welcome to this time converter\n",
            "Enter the number of hours: 2\n",
            "Enter the number of minutes: 30\n",
            "Enter the number of seconds: 0\n",
            "That's 9000 seconds\n",
            "\n",
            "Do you want to do another conversion? [y to continue] n\n",
            "Goodbye!\n"
          ]
        }
      ]
    },
    {
      "cell_type": "markdown",
      "source": [
        "While interactive input isn't always the best solution for automation tasks, it's valuable for scenarios requiring user-specific information that can't be predetermined."
      ],
      "metadata": {
        "id": "CRSCIxW9E34Y"
      }
    },
    {
      "cell_type": "markdown",
      "source": [
        "##### 💠**Standard Streams**"
      ],
      "metadata": {
        "id": "nWKBtFvetnwC"
      }
    },
    {
      "cell_type": "markdown",
      "source": [
        "I/O streams are pathways for programs to receive input and send output. Python uses three default streams:\n",
        "\n",
        "* STDIN (Standard Input): Channel for receiving input data, typically from keyboard. Used when calling the input() function.\n",
        "* STDOUT (Standard Output): Channel for sending normal program output, usually displayed on screen. Used when calling the print() function.\n",
        "* STDERR (Standard Error): Channel specifically for error messages and diagnostics. Python error messages like TypeError appear here."
      ],
      "metadata": {
        "id": "Tugmor1ktnwC"
      }
    },
    {
      "cell_type": "code",
      "execution_count": null,
      "metadata": {
        "id": "t3F1t9JdtnwC",
        "colab": {
          "base_uri": "https://localhost:8080/"
        },
        "outputId": "fd4cd53c-489c-42e0-b54e-99e037f1acd5"
      },
      "outputs": [
        {
          "output_type": "stream",
          "name": "stdout",
          "text": [
            "This will come from STDIN: Paco\n",
            "Now we write it to STDOUT: Paco\n"
          ]
        }
      ],
      "source": [
        "#!/usr/bin/env python3\n",
        "\n",
        "data = input(\"This will come from STDIN: \")\n",
        "print(\"Now we write it to STDOUT: \" + data)"
      ]
    },
    {
      "cell_type": "markdown",
      "source": [
        "These streams aren't exclusive to Python - all system commands use them. For instance, when using commands like cat or ls, their output goes to STDOUT and their errors to STDERR, though both typically display on screen."
      ],
      "metadata": {
        "id": "80PXRfbyHiJB"
      }
    },
    {
      "cell_type": "markdown",
      "source": [
        "##### 💠**Environment variables**"
      ],
      "metadata": {
        "id": "JQ14OEx4tnwC"
      }
    },
    {
      "cell_type": "markdown",
      "source": [
        "The shell is a command-line interface that executes commands on Linux systems. Common shells include bash (most common), Zsh, and Fish. Environment variables are values set in the shell environment that programs can access.\n",
        "Environment variables store information like:\n",
        "\n",
        "* PATH: Lists directories the shell searches for executable files\n",
        "* HOME: User's home directory location\n",
        "* SHELL: Current shell being used\n",
        "\n",
        "To view environment variables:\n",
        "\n",
        "* Use the env command to see all variables\n",
        "* Use echo $VARIABLE_NAME to see specific variables\n",
        "\n",
        "In Python, access environment variables using the os.environ dictionary from the os module:"
      ],
      "metadata": {
        "id": "2K-1CUuxtnwD"
      }
    },
    {
      "cell_type": "code",
      "source": [
        "!echo $PATH"
      ],
      "metadata": {
        "colab": {
          "base_uri": "https://localhost:8080/"
        },
        "id": "JQy9t-uULBTc",
        "outputId": "62c6b3dc-951c-4b72-d56c-b7791acf7d43"
      },
      "execution_count": null,
      "outputs": [
        {
          "output_type": "stream",
          "name": "stdout",
          "text": [
            "/opt/bin:/usr/local/nvidia/bin:/usr/local/cuda/bin:/usr/local/sbin:/usr/local/bin:/usr/sbin:/usr/bin:/sbin:/bin:/tools/node/bin:/tools/google-cloud-sdk/bin\n"
          ]
        }
      ]
    },
    {
      "cell_type": "code",
      "execution_count": null,
      "metadata": {
        "id": "Z7W9sy1ttnwD",
        "colab": {
          "base_uri": "https://localhost:8080/"
        },
        "outputId": "2851f4f8-fce7-41f8-df14-628d91341e88"
      },
      "outputs": [
        {
          "output_type": "stream",
          "name": "stdout",
          "text": [
            "HOME: /root\n",
            "SHELL: /bin/bash\n",
            "FRUIT: \n"
          ]
        }
      ],
      "source": [
        "#!/usr/bin/env python3\n",
        "import os\n",
        "print(\"HOME: \" + os.environ.get(\"HOME\", \"\"))\n",
        "print(\"SHELL: \" + os.environ.get(\"SHELL\", \"\"))\n",
        "print(\"FRUIT: \" + os.environ.get(\"FRUIT\", \"\"))"
      ]
    },
    {
      "cell_type": "markdown",
      "source": [
        "The get() method returns a default value (empty string) if the variable doesn't exist, preventing errors.\n",
        "\n",
        "To set environment variables for a Python script to access:"
      ],
      "metadata": {
        "id": "2xJXjLnCJqlc"
      }
    },
    {
      "cell_type": "code",
      "source": [
        "!export FRUIT=Strawberry"
      ],
      "metadata": {
        "id": "-vMR93TdL3dx"
      },
      "execution_count": null,
      "outputs": []
    },
    {
      "cell_type": "code",
      "source": [
        "#!/usr/bin/env python3\n",
        "import os\n",
        "os.environ[\"FRUIT\"] = \"Strawberry\"\n",
        "\n",
        "print(\"HOME: \" + os.environ.get(\"HOME\", \"\"))\n",
        "print(\"SHELL: \" + os.environ.get(\"SHELL\", \"\"))\n",
        "print(\"FRUIT: \" + os.environ.get(\"FRUIT\", \"\"))"
      ],
      "metadata": {
        "colab": {
          "base_uri": "https://localhost:8080/"
        },
        "id": "4NLyXetPL3b9",
        "outputId": "229c4d0c-b87b-4be8-a37f-877aaf21aa11"
      },
      "execution_count": null,
      "outputs": [
        {
          "output_type": "stream",
          "name": "stdout",
          "text": [
            "HOME: /root\n",
            "SHELL: /bin/bash\n",
            "FRUIT: Strawberry\n"
          ]
        }
      ]
    },
    {
      "cell_type": "markdown",
      "source": [
        "##### 💠**Command-Line Arguments and Exit Status** 25/05/20"
      ],
      "metadata": {
        "id": "20B3scj9tnwD"
      }
    },
    {
      "cell_type": "markdown",
      "source": [
        "Command line arguments provide information to programs at startup. They enable generic code to run automatically without user input, making them valuable for system administration and automation tasks. Access these values using `sys.argv` list from the sys module. When running a script without parameters, `sys.argv` contains only the program name; with parameters, each appears as a separate element in the list.\n",
        "\n",
        "The exit status (or return code) is a value returned by programs to the shell. In Unix-like systems, exit status 0 indicates success, while non-zero values indicate failure with specific error information. Check exit status using the $? variable. The wc command demonstrates this behavior, returning 0 for success and 1 for failure.\n",
        "\n",
        "Python scripts exit with 0 by default when successful and non-zero values when errors occur. Developers can specify custom exit codes using `sys.exit()` to indicate different error conditions. This functionality helps in error handling, logging failures, and implementing automatic retries when commands fail."
      ],
      "metadata": {
        "id": "w6k0tDfJtnwD"
      }
    },
    {
      "cell_type": "code",
      "execution_count": null,
      "metadata": {
        "id": "n801EY2CtnwE",
        "colab": {
          "base_uri": "https://localhost:8080/"
        },
        "outputId": "dec17f63-e5d1-46fc-f720-8184671a4102"
      },
      "outputs": [
        {
          "output_type": "stream",
          "name": "stdout",
          "text": [
            "['script_name.py', 'one', 'two', 'three']\n"
          ]
        }
      ],
      "source": [
        "import sys\n",
        "\n",
        "# Mocking command-line arguments\n",
        "\n",
        "sys.argv = ['script_name.py', 'one', 'two', 'three']\n",
        "\n",
        "print(sys.argv)"
      ]
    },
    {
      "cell_type": "code",
      "source": [
        "# Execute a command and capture its return code\n",
        "import subprocess\n",
        "\n",
        "# For a successful command\n",
        "result = subprocess.run(['echo', 'hello'], capture_output=True)\n",
        "print(f\"Exit code: {result.returncode}\")  # Should print 0\n",
        "\n",
        "# For a command that fails\n",
        "result = subprocess.run(['cat', 'nonexistent_file.txt'], capture_output=True)\n",
        "print(f\"Exit code: {result.returncode}\")  # Should print non-zero (usually 1)"
      ],
      "metadata": {
        "colab": {
          "base_uri": "https://localhost:8080/"
        },
        "id": "ZTXSAjdnYe7c",
        "outputId": "75879287-1111-4457-9b84-faed34f073ed"
      },
      "execution_count": null,
      "outputs": [
        {
          "output_type": "stream",
          "name": "stdout",
          "text": [
            "Exit code: 0\n",
            "Exit code: 1\n"
          ]
        }
      ]
    },
    {
      "cell_type": "markdown",
      "source": [
        "The image demonstrates the `$?` variable in Linux/Unix terminals, which stores the exit status of the previous command:\n",
        "\n",
        "**Exit status 0:** Indicates successful command execution (shown after wc variables.py)\n",
        "\n",
        "**Exit status non-zero:** Indicates command failure (shown as 1 after trying to access a non-existent file)"
      ],
      "metadata": {
        "id": "S82ceG_yYn7E"
      }
    },
    {
      "cell_type": "markdown",
      "source": [
        "##### 💠**More About Input Functions**"
      ],
      "metadata": {
        "id": "rS5UBdYutnwE"
      }
    },
    {
      "cell_type": "markdown",
      "source": [
        "The shebang line #!/usr/bin/env python3 specifies Python 3 as the interpreter, which is important because of differences in handling data streams between Python versions.\n",
        "\n",
        "In Python 2, raw_input() is the preferred method for getting user input as it simply captures a string without evaluating it. The input() function in Python 2 acts like eval(raw_input()), meaning it evaluates the entered text as a Python expression, performing operations like basic math.\n",
        "\n",
        "In Python 3, input() behaves like Python 2's raw_input(), capturing user input as a plain string without evaluation. The expression entered is treated solely as a string. To evaluate a string as a Python expression in Python 3, eval() must be explicitly called on the input string.\n",
        "\n",
        "Python 3 doesn't natively include raw_input(), though there are techniques to maintain backward compatibility when modernizing legacy Python code. This difference in input handling is crucial when writing code that needs to run in different Python environments."
      ],
      "metadata": {
        "id": "Yv90O5-6tnwE"
      }
    },
    {
      "cell_type": "markdown",
      "source": [
        "##### 💠**Practice**"
      ],
      "metadata": {
        "id": "LhVR6CQTaQdi"
      }
    },
    {
      "cell_type": "markdown",
      "source": [
        "**Question 1**\n",
        "Which command will print out the exit value of a script that just ran successfully? **echo $?**\n",
        "\n",
        "**Question 2** Which command will create a new environment variable? **Env**\n",
        "\n",
        "**Question 3** Which I/O stream are we using when we use the input function to accept user input in a Python script? **STDIN**\n",
        "\n",
        "**Question 4** What is the meaning of an exit code of 0? **The program ended succesfully**\n",
        "\n",
        "**Question 5** Which statements are true about input() and raw_input() in Python 2? (select all that apply) **In Python 2, input() evaluates the user's input as an expression., raw_input() gets a raw string from the user.**"
      ],
      "metadata": {
        "id": "GmQDy6cwaSw5"
      }
    },
    {
      "cell_type": "markdown",
      "source": [
        "#### ◽**Theme 2: Python Subprocesses**"
      ],
      "metadata": {
        "id": "QWd9WYIwyPqf"
      }
    },
    {
      "cell_type": "markdown",
      "source": [
        "##### 💠**Running System Commands in Python**"
      ],
      "metadata": {
        "id": "sLhxAANQyPqg"
      }
    },
    {
      "cell_type": "markdown",
      "source": [
        "The subprocess module enables Python scripts to execute system commands when built-in or external modules lack necessary functionality. The `subprocess.run()` function launches these commands and returns a CompletedProcess object containing execution information.\n",
        "\n",
        "ICMP stands for Internet Control Message Protocol.\n",
        "\n",
        "When executing an external command, Python creates a secondary environment for the child process (subprocess) while the parent process (Python script) remains blocked until completion. The function receives a list starting with the command name followed by any parameters.\n",
        "\n",
        "The returncode attribute in the CompletedProcess object indicates success (0) or failure (non-zero). This information allows scripts to implement conditional logic based on command execution results.\n",
        "\n",
        "This approach works well for commands without useful output (like cp, chmod, sleep) or when displaying output on screen is sufficient. For commands whose output needs further processing, a different strategy is required."
      ],
      "metadata": {
        "id": "nUnnjObpembj"
      }
    },
    {
      "cell_type": "code",
      "source": [
        "import subprocess\n",
        "subprocess.run([\"date\"])"
      ],
      "metadata": {
        "id": "bDpjXZw9yPqf",
        "colab": {
          "base_uri": "https://localhost:8080/"
        },
        "outputId": "8db5c2eb-ae31-4dfc-c8a7-263f092e4f18"
      },
      "execution_count": null,
      "outputs": [
        {
          "output_type": "execute_result",
          "data": {
            "text/plain": [
              "CompletedProcess(args=['date'], returncode=0)"
            ]
          },
          "metadata": {},
          "execution_count": 10
        }
      ]
    },
    {
      "cell_type": "code",
      "source": [
        "import subprocess\n",
        "subprocess.run([\"date\"])\n",
        "subprocess.run([\"sleep\", \"2\"])"
      ],
      "metadata": {
        "colab": {
          "base_uri": "https://localhost:8080/"
        },
        "id": "FTDdN399cu75",
        "outputId": "69e7d59c-6fa4-46f6-cf45-9cdf423ea589"
      },
      "execution_count": null,
      "outputs": [
        {
          "output_type": "execute_result",
          "data": {
            "text/plain": [
              "CompletedProcess(args=['sleep', '2'], returncode=0)"
            ]
          },
          "metadata": {},
          "execution_count": 11
        }
      ]
    },
    {
      "cell_type": "code",
      "source": [
        "import subprocess\n",
        "subprocess.run([\"date\"])\n",
        "subprocess.run([\"sleep\", \"2\"])\n",
        "result = subprocess.run([\"ls\", \"this_file_does_not_exist\"])\n",
        "print(result.returncode)"
      ],
      "metadata": {
        "colab": {
          "base_uri": "https://localhost:8080/"
        },
        "id": "PeV45BVRcuwq",
        "outputId": "363e8bbf-1ac4-419e-f8a2-cba256992b2b"
      },
      "execution_count": null,
      "outputs": [
        {
          "output_type": "stream",
          "name": "stdout",
          "text": [
            "2\n"
          ]
        }
      ]
    },
    {
      "cell_type": "code",
      "execution_count": null,
      "metadata": {
        "id": "Z9Q7Z-6wyPqh",
        "colab": {
          "base_uri": "https://localhost:8080/"
        },
        "outputId": "7380a003-e679-4a73-8dd3-3bbdfa858607"
      },
      "outputs": [
        {
          "output_type": "stream",
          "name": "stdout",
          "text": [
            "Code\n"
          ]
        }
      ],
      "source": [
        "print(\"Code\")"
      ]
    },
    {
      "cell_type": "markdown",
      "source": [
        "##### 💠**Obtaining the Output of a System Command**"
      ],
      "metadata": {
        "id": "rDr5iO7pyPqh"
      }
    },
    {
      "cell_type": "markdown",
      "source": [
        "To manipulate system command output in Python scripts, use subprocess.run() with capture_output=True. This captures command output for further processing, useful for tasks like extracting user login information with commands like who.\n",
        "\n",
        "When output is captured, it's stored in the stdout attribute of the CompletedProcess object. This output appears as a bytes array (indicated by the \"B\" prefix) because Python doesn't automatically know which encoding to use. Convert it to a proper string using the decode() method, which applies UTF-8 encoding by default. Once decoded, the string can be manipulated using standard string operations like split().\n",
        "\n",
        "If the command writes to standard error, this content is captured in the stderr attribute. For example, when running rm with a non-existent filename, the command fails with a non-zero return code, an empty stdout, and error message in stderr. This demonstrates how Python separately captures the different output streams.\n",
        "\n",
        "These capabilities allow Python scripts to execute system commands, verify their success or failure, and process their output, significantly expanding the range of tasks that can be automated."
      ],
      "metadata": {
        "id": "fdYEeLvzyPqh"
      }
    },
    {
      "cell_type": "code",
      "execution_count": null,
      "metadata": {
        "id": "LtVogkdryPqh",
        "colab": {
          "base_uri": "https://localhost:8080/"
        },
        "outputId": "baf7cae3-c5f5-46cc-ba5c-d4ac297688cd"
      },
      "outputs": [
        {
          "output_type": "stream",
          "name": "stdout",
          "text": [
            "0\n",
            "b'8.8.8.8.in-addr.arpa domain name pointer dns.google.\\n'\n",
            "['8.8.8.8.in-addr.arpa', 'domain', 'name', 'pointer', 'dns.google.']\n"
          ]
        }
      ],
      "source": [
        "result = subprocess.run([\"host\", \"8.8.8.8\"], capture_output=True)\n",
        "\n",
        "result = subprocess.run([\"host\", \"8.8.8.8\"], capture_output=True)\n",
        "print(result.returncode)\n",
        "\n",
        "result = subprocess.run([\"host\", \"8.8.8.8\"], capture_output=True)\n",
        "print(result.stdout)\n",
        "\n",
        "result = subprocess.run([\"host\", \"8.8.8.8\"], capture_output=True)\n",
        "print(result.stdout.decode().split())"
      ]
    },
    {
      "cell_type": "code",
      "source": [
        "import subprocess\n",
        "result = subprocess.run([\"rm\", \"does_not_exist\"], capture_output=True)\n",
        "\n",
        "import subprocess\n",
        "result = subprocess.run([\"rm\", \"does_not_exist\"], capture_output=True)\n",
        "print(result.returncode)\n",
        "\n",
        "import subprocess\n",
        "result = subprocess.run([\"rm\", \"does_not_exist\"], capture_output=True)\n",
        "print(result.returncode)\n",
        "print(result.stdout)\n",
        "print(result.stderr)"
      ],
      "metadata": {
        "colab": {
          "base_uri": "https://localhost:8080/"
        },
        "id": "XsXonlTAg2ue",
        "outputId": "1da232fb-a80b-4255-c6ae-d40eddd034fc"
      },
      "execution_count": null,
      "outputs": [
        {
          "output_type": "stream",
          "name": "stdout",
          "text": [
            "1\n",
            "1\n",
            "b''\n",
            "b\"rm: cannot remove 'does_not_exist': No such file or directory\\n\"\n"
          ]
        }
      ]
    },
    {
      "cell_type": "markdown",
      "source": [
        "##### 💠**Advanced subprocess management**"
      ],
      "metadata": {
        "id": "CD0VG7qvyPqh"
      }
    },
    {
      "cell_type": "markdown",
      "source": [
        "The subprocess module offers advanced options for running system commands in Python. To modify environment variables for child processes, first copy the current environment with os.environ.copy(), make necessary changes, and pass this modified dictionary using the env parameter.\n",
        "\n",
        "For example, adding a directory to the PATH variable requires joining the new directory with the existing path using os.path.join() and the appropriate path separator. This allows the command to find executables in additional locations.\n",
        "\n",
        "Other useful run() parameters include:\n",
        "\n",
        "* **cwd:** Changes the current working directory for command execution\n",
        "* **timeout:** Kills the process if it exceeds the specified time limit\n",
        "* **shell:** When set to True, executes the command inside the default system shell, enabling variable expansions and shell operations (though this poses security risks)\n",
        "\n",
        "Using system commands via subprocesses comes with drawbacks. It builds assumptions about the infrastructure into scripts, which can break if command flags change or when switching operating systems. For one-off, well-defined tasks, subprocesses are convenient, but for complex or long-running operations, Python's built-in or external modules are usually better alternatives.\n",
        "\n",
        "Before using subprocesses, check Python's standard library or PyPI repository to avoid reinventing existing solutions."
      ],
      "metadata": {
        "id": "yabJ1WlTyPqh"
      }
    },
    {
      "cell_type": "code",
      "execution_count": null,
      "metadata": {
        "id": "nWUn-NjwyPqi",
        "colab": {
          "base_uri": "https://localhost:8080/"
        },
        "outputId": "facb5ebf-eac5-4242-d74e-4ce85b4d9924"
      },
      "outputs": [
        {
          "output_type": "stream",
          "name": "stdout",
          "text": [
            "Return code: 0\n",
            "Output: Hello from myapp. My PATH is /tmp:/opt/bin:/usr/local/nvidia/bin:/usr/local/cuda/bin:/usr/local/sbin:/usr/local/bin:/usr/sbin:/usr/bin:/sbin:/bin:/tools/node/bin:/tools/google-cloud-sdk/bin\n",
            "\n"
          ]
        }
      ],
      "source": [
        "import os\n",
        "import subprocess\n",
        "\n",
        "# Create a simple script to demonstrate the concept\n",
        "script_path = \"/tmp/myapp\"\n",
        "with open(script_path, \"w\") as f:\n",
        "    f.write('#!/bin/bash\\necho \"Hello from myapp. My PATH is $PATH\"')\n",
        "\n",
        "# Make the script executable\n",
        "os.chmod(script_path, 0o755)\n",
        "\n",
        "# Copy current environment and modify PATH\n",
        "my_env = os.environ.copy()\n",
        "my_env[\"PATH\"] = os.pathsep.join([\"/tmp\", my_env[\"PATH\"]])\n",
        "\n",
        "# Run using full path (no need for shell)\n",
        "result = subprocess.run([script_path], env=my_env, capture_output=True, text=True)\n",
        "\n",
        "# Display the result\n",
        "print(\"Return code:\", result.returncode)\n",
        "print(\"Output:\", result.stdout)\n"
      ]
    },
    {
      "cell_type": "markdown",
      "source": [
        "##### 💠**Study Guide**"
      ],
      "metadata": {
        "id": "kkG4DETmyPqi"
      }
    },
    {
      "cell_type": "markdown",
      "source": [
        "subprocess allows running external applications and scripts from Python, enabling parallel execution and shell integration. It's ideal when interfacing with external processes, capturing outputs, handling errors, or running complex commands with minimal overhead.\n",
        "\n",
        "For tasks like opening multiple files, running shell commands, or capturing return codes and pipe outputs, subprocess is preferred. However, for simple file or directory operations, os and Pathlib are more efficient and readable:\n",
        "\n",
        "**1. Getting current directory:**\n",
        "\n",
        "  * **subprocess:** check_output(['pwd'])\n",
        "\n",
        "  * **os:** getcwd()\n",
        "\n",
        "  * **Pathlib:** Path.cwd()\n",
        "\n",
        "**2. Creating directories:**\n",
        "\n",
        "  * **subprocess:** run(['mkdir', 'dir'])\n",
        "\n",
        "  * **os:** mkdir()\n",
        "\n",
        "  * **Pathlib:** Path().mkdir(exist_ok=True)\n",
        "\n",
        "**subprocess** excels when precision and flexibility are needed:\n",
        "\n",
        "* **run():** Recommended; executes, waits, and returns a CompletedProcess object with stdout, stderr, and return code.\n",
        "\n",
        "* **call():** Older; runs and returns exit code.\n",
        "\n",
        "* **check_call():** Like call(), but raises CalledProcessError on non-zero exit.\n",
        "\n",
        "* **check_output():** Returns output; raises error on failure.\n",
        "\n",
        "All these wrap around Popen(), which provides full control: background execution, input/output/error pipe handling, and non-blocking status checks.\n",
        "\n",
        "This enables background processing without halting the script.\n",
        "\n",
        "Takeaway: Use subprocess when shell-level control, process communication, or parallelism is needed. Use os or Pathlib for standard, readable file and path operations."
      ],
      "metadata": {
        "id": "K9_QscNvyPqi"
      }
    },
    {
      "cell_type": "markdown",
      "source": [
        "##### 💠**Practice**"
      ],
      "metadata": {
        "id": "SxTXBzILo6bY"
      }
    },
    {
      "cell_type": "markdown",
      "source": [
        "**What type of object does a run function return?**\n"
      ],
      "metadata": {
        "id": "jjAQtWeZoaeS"
      }
    },
    {
      "cell_type": "markdown",
      "source": [
        "**How can you change the current working directory where a command will be executed?**\n",
        "\n",
        "This will change the current working directory where the command will be executed."
      ],
      "metadata": {
        "id": "100JYg5Ak8rl"
      }
    },
    {
      "cell_type": "markdown",
      "source": [
        "**When a child process is run using the subprocess module, which of the following are true?**\n",
        "\n",
        "To run the external command, a secondary environment is created for the child subprocess, where the command is executed.\n",
        "\n",
        "While the parent process is waiting on the subprocess to finish, it’s blocked, meaning the parent can’t do any work until the child finishes.\n",
        "\n",
        "After the external command completes its work, the child process exits, and the flow of control returns to the parent."
      ],
      "metadata": {
        "id": "TXjNDqbaoazB"
      }
    },
    {
      "cell_type": "markdown",
      "source": [
        "**When using the run command of the subprocess module, what parameter, when set to True, allows us to store the output of a system command?**\n",
        "\n",
        "The capture_output parameter allows us to get and store the output of the system command we're using."
      ],
      "metadata": {
        "id": "l0V5aYKalKDY"
      }
    },
    {
      "cell_type": "markdown",
      "source": [
        "**What does the copy method of os.environ do?**\n",
        "\n",
        "Creates a new dictionary of environment variables"
      ],
      "metadata": {
        "id": "b-ybmNAyobHJ"
      }
    },
    {
      "cell_type": "markdown",
      "source": [
        "#### ◽**Theme 3: Processing Log Files**"
      ],
      "metadata": {
        "id": "cLOfsqLdqDGk"
      }
    },
    {
      "cell_type": "markdown",
      "source": [
        "Log files are records that document events occurring in operating systems, applications, and services. They contain valuable information about system activities, errors, warnings, and events that happen when programs run without being connected to a terminal. These files are crucial for system administrators and developers, especially when debugging complex problems on a computer.\n",
        "\n",
        "Python provides powerful tools for interacting with the system through file operations, regular expressions, shell interaction, and command execution, making it ideal for processing these log files.\n",
        "\n",
        "Regular expressions combined with scripting offer tremendous flexibility for extracting specific information from log files, which can otherwise be overwhelming to search manually due to their volume and complexity. This approach allows for customized text processing to get precisely the results needed.\n",
        "\n",
        "With these techniques, you can create targeted solutions for handling the large volumes of data commonly found in system logs, web request logs, and other text-based records."
      ],
      "metadata": {
        "id": "kNETebc8qFxj"
      }
    },
    {
      "cell_type": "markdown",
      "source": [
        "##### 💠**Filtering log files with regular expressions**"
      ],
      "metadata": {
        "id": "vk62gR53vGpX"
      }
    },
    {
      "cell_type": "markdown",
      "source": [
        "When processing log files, use open() to access file objects and iterate through lines with for-loops. For large files, read line by line instead of loading everything into memory.\n",
        "\n",
        "\n",
        "The example involves examining server logs for Cron jobs started by system administrators. By filtering lines containing \"Cron\" substring, then using the \"in\" keyword with the \"continue\" statement to skip irrelevant lines.\n",
        "\n",
        "To extract usernames, regular expressions are employed with escape characters, capture groups, and anchors. The pattern r\"USER \\((\\w+)\\)$\" searches for \"USER\" followed by a username in parentheses at line end. Backslashes escape parentheses, while another set creates a capture group for the alphanumeric username (\\w+).\n",
        "\n",
        "After testing the regex in an interpreter and confirming it works, it's incorporated into the script which processes log files, identifies users who started Cron jobs, and prints the results."
      ],
      "metadata": {
        "id": "lVIpHMRrvTdC"
      }
    },
    {
      "cell_type": "code",
      "source": [
        "#!/usr/bin/env python3\n",
        "import re\n",
        "\n",
        "# Create the syslog file content directly in the code\n",
        "syslog_content = \"\"\"Jul 6 14:01:23 computer.name CRON[29440]: USER (good_user)\n",
        "Jul 6 14:02:08 computer.name jam_tag=psim[29187]: (UUID:006)\n",
        "Jul 6 14:02:09 computer.name jam_tag=psim[29187]: (UUID:007)\n",
        "Jul 6 14:03:01 computer.name CRON[29440]: USER (naughty_user)\n",
        "Jul 6 14:03:40 computer.name cacheclient[29807]: start syncing\n",
        "Jul 6 14:04:01 computer.name CRON[29440]: USER (naughty_user)\n",
        "Jul 6 14:05:01 computer.name CRON[29440]: USER (naughty_user)\n",
        "Jul 6 14:06:01 computer.name CRON[29440]: USER (naughty_user)\"\"\"\n",
        "\n",
        "# Write the content to a file\n",
        "with open('syslog.txt', 'w') as f:\n",
        "    f.write(syslog_content)\n",
        "\n",
        "print(\"Created syslog.txt file with sample data\")\n",
        "\n",
        "# Now process the file as in your original script\n",
        "with open('syslog.txt') as f:\n",
        "    for line in f:\n",
        "        if \"CRON\" not in line:\n",
        "            continue\n",
        "        pattern = r\"USER \\((.+)\\)$\"\n",
        "        result = re.search(pattern, line)\n",
        "        if result:\n",
        "            print(result[1])\n"
      ],
      "metadata": {
        "colab": {
          "base_uri": "https://localhost:8080/"
        },
        "outputId": "d32b5ae4-aaee-4da7-b589-20ae6cef8581",
        "id": "uVu6_Q-LqFxk"
      },
      "execution_count": null,
      "outputs": [
        {
          "output_type": "stream",
          "name": "stdout",
          "text": [
            "Created syslog.txt file with sample data\n",
            "good_user\n",
            "naughty_user\n",
            "naughty_user\n",
            "naughty_user\n",
            "naughty_user\n"
          ]
        }
      ]
    },
    {
      "cell_type": "markdown",
      "source": [
        "**Reflect**\n",
        "\n",
        "We're using the same syslog, and we want to display the date, time, and process id that's inside the square brackets. We can read each line of the syslog and pass the contents to the show_time_of_pid function. Fill in the gaps to extract the date, time, and process id from the passed line, and return this format: Jul 6 14:01:23 pid:29440."
      ],
      "metadata": {
        "id": "QZUjc8Jmucbd"
      }
    },
    {
      "cell_type": "code",
      "source": [
        "import re\n",
        "def show_time_of_pid(line):\n",
        "  pattern = r\"(Jul \\d+ \\d+:\\d+:\\d+).*\\[(\\d+)\\]\"\n",
        "  result = re.search(pattern, line)\n",
        "  return \"{} pid:{}\".format(result[1], result[2])\n",
        "\n",
        "print(show_time_of_pid(\"Jul 6 14:01:23 computer.name CRON[29440]: USER (good_user)\")) # Jul 6 14:01:23 pid:29440\n",
        "print(show_time_of_pid(\"Jul 6 14:02:08 computer.name jam_tag=psim[29187]: (UUID:006)\")) # Jul 6 14:02:08 pid:29187\n",
        "print(show_time_of_pid(\"Jul 6 14:02:09 computer.name jam_tag=psim[29187]: (UUID:007)\")) # Jul 6 14:02:09 pid:29187\n",
        "print(show_time_of_pid(\"Jul 6 14:03:01 computer.name CRON[29440]: USER (naughty_user)\")) # Jul 6 14:03:01 pid:29440\n",
        "print(show_time_of_pid(\"Jul 6 14:03:40 computer.name cacheclient[29807]: start syncing from \\\"0xDEADBEEF\\\"\")) # Jul 6 14:03:40 pid:29807\n",
        "print(show_time_of_pid(\"Jul 6 14:04:01 computer.name CRON[29440]: USER (naughty_user)\")) # Jul 6 14:04:01 pid:29440\n",
        "print(show_time_of_pid(\"Jul 6 14:05:01 computer.name CRON[29440]: USER (naughty_user)\")) # Jul 6 14:05:01 pid:29440"
      ],
      "metadata": {
        "colab": {
          "base_uri": "https://localhost:8080/"
        },
        "id": "k_4-aipEutla",
        "outputId": "618486fb-8d73-415a-cfe7-6e5f787046b1"
      },
      "execution_count": null,
      "outputs": [
        {
          "output_type": "stream",
          "name": "stdout",
          "text": [
            "Jul 6 14:01:23 pid:29440\n",
            "Jul 6 14:02:08 pid:29187\n",
            "Jul 6 14:02:09 pid:29187\n",
            "Jul 6 14:03:01 pid:29440\n",
            "Jul 6 14:03:40 pid:29807\n",
            "Jul 6 14:04:01 pid:29440\n",
            "Jul 6 14:05:01 pid:29440\n"
          ]
        }
      ]
    },
    {
      "cell_type": "markdown",
      "source": [
        "##### 💠**Making sense out of the data**"
      ],
      "metadata": {
        "id": "yj0dwR4UrLaC"
      }
    },
    {
      "cell_type": "markdown",
      "source": [
        "A script that extracts usernames starting cron jobs can be improved by counting occurrences of each username. Dictionaries are ideal for counting string appearances, using usernames as keys and occurrence counts as values.\n",
        "\n",
        "The implementation uses the get() method to efficiently handle this counting. First, an empty dictionary is created with curly brackets. When processing each username, the count is incremented by setting dictionary[name] = dictionary.get(name, 0) + 1. The get() method returns the current value or 0 if the key doesn't exist.\n",
        "\n",
        "Before adding values to the dictionary, check that the regular expression actually found a match by verifying if the result is not None. Use the continue keyword to skip lines without matches.\n",
        "\n",
        "**The script flow is modified to:**\n",
        "\n",
        "1. Initialize an empty dictionary\n",
        "2. Process each line for usernames\n",
        "3. Check if regex returned a match\n",
        "4. Extract the name from the capture group\n",
        "5. Increment the count in the dictionary\n",
        "6. Print the completed dictionary\n",
        "\n",
        "The improved script quickly shows both who started cron jobs and their frequency, providing more comprehensive information for investigating server issues."
      ],
      "metadata": {
        "id": "erTsawXDwJy6"
      }
    },
    {
      "cell_type": "code",
      "source": [
        "#!/usr/bin/env python3\n",
        "import re\n",
        "import sys\n",
        "\n",
        "# Create the syslog file content directly in the code\n",
        "syslog_content = \"\"\"Jul 6 14:01:23 computer.name CRON[29440]: USER (good_user)\n",
        "Jul 6 14:02:08 computer.name jam_tag=psim[29187]: (UUID:006)\n",
        "Jul 6 14:02:09 computer.name jam_tag=psim[29187]: (UUID:007)\n",
        "Jul 6 14:03:01 computer.name CRON[29440]: USER (naughty_user)\n",
        "Jul 6 14:03:40 computer.name cacheclient[29807]: start syncing\n",
        "Jul 6 14:04:01 computer.name CRON[29440]: USER (naughty_user)\n",
        "Jul 6 14:05:01 computer.name CRON[29440]: USER (naughty_user)\n",
        "Jul 6 14:06:01 computer.name CRON[29440]: USER (naughty_user)\"\"\"\n",
        "\n",
        "# Write the content to a file\n",
        "with open('syslog.txt', 'w') as f:\n",
        "    f.write(syslog_content)\n",
        "\n",
        "print(\"Created syslog.txt file with sample data\")\n"
      ],
      "metadata": {
        "colab": {
          "base_uri": "https://localhost:8080/"
        },
        "outputId": "6d59dca0-1945-49a0-d4ee-05d857901f8c",
        "id": "0uWi6-QzrLaE"
      },
      "execution_count": null,
      "outputs": [
        {
          "output_type": "stream",
          "name": "stdout",
          "text": [
            "Created syslog.txt file with sample data\n"
          ]
        }
      ]
    },
    {
      "cell_type": "code",
      "source": [
        "\n",
        "# Function to extract time and PID from log lines\n",
        "def show_time_of_pid(line):\n",
        "    pattern = r\"(Jul \\d+ \\d+:\\d+:\\d+).*\\[(\\d+)\\]\"\n",
        "    result = re.search(pattern, line)\n",
        "    if result:\n",
        "        return \"{} pid:{}\".format(result[1], result[2])\n",
        "    return \"No match found\"\n",
        "\n",
        "# Testing the time and PID extraction function\n",
        "print(\"\\nTesting time and PID extraction:\")\n",
        "print(show_time_of_pid(\"Jul 6 14:01:23 computer.name CRON[29440]: USER (good_user)\"))\n",
        "print(show_time_of_pid(\"Jul 6 14:02:08 computer.name jam_tag=psim[29187]: (UUID:006)\"))\n",
        "print(show_time_of_pid(\"Jul 6 14:03:40 computer.name cacheclient[29807]: start syncing\"))\n"
      ],
      "metadata": {
        "colab": {
          "base_uri": "https://localhost:8080/"
        },
        "id": "WBDnF4lkxWoI",
        "outputId": "a251c29e-8cf4-43be-8ef4-517970136aef"
      },
      "execution_count": null,
      "outputs": [
        {
          "output_type": "stream",
          "name": "stdout",
          "text": [
            "\n",
            "Testing time and PID extraction:\n",
            "Jul 6 14:01:23 pid:29440\n",
            "Jul 6 14:02:08 pid:29187\n",
            "Jul 6 14:03:40 pid:29807\n"
          ]
        }
      ]
    },
    {
      "cell_type": "code",
      "source": [
        "# Dictionary to count username occurrences\n",
        "print(\"\\nCounting username occurrences in CRON entries:\")\n",
        "usernames = {}\n",
        "logfile = 'syslog.txt'\n",
        "\n",
        "with open(logfile) as f:\n",
        "    for line in f:\n",
        "        if \"CRON\" not in line:\n",
        "            continue\n",
        "\n",
        "        pattern = r\"USER \\((.+)\\)$\"\n",
        "        result = re.search(pattern, line)\n",
        "\n",
        "        if result is None:\n",
        "            continue\n",
        "\n",
        "        name = result[1]\n",
        "        usernames[name] = usernames.get(name, 0) + 1\n",
        "\n",
        "print(usernames)"
      ],
      "metadata": {
        "colab": {
          "base_uri": "https://localhost:8080/"
        },
        "id": "ilWfiUoPxjeO",
        "outputId": "68cd3427-4759-43ca-ec55-4b93e7571281"
      },
      "execution_count": null,
      "outputs": [
        {
          "output_type": "stream",
          "name": "stdout",
          "text": [
            "\n",
            "Counting username occurrences in CRON entries:\n",
            "{'good_user': 1, 'naughty_user': 4}\n"
          ]
        }
      ]
    },
    {
      "cell_type": "code",
      "source": [
        "# Simple example of dictionary usage\n",
        "print(\"\\nSimple dictionary example:\")\n",
        "usernames = {}\n",
        "name = \"good_user\"\n",
        "usernames[name] = usernames.get(name, 0) + 1\n",
        "print(usernames)\n",
        "usernames[name] = usernames.get(name, 0) + 1\n",
        "print(usernames)\n",
        "\n"
      ],
      "metadata": {
        "colab": {
          "base_uri": "https://localhost:8080/"
        },
        "id": "cJyX_g08xpJH",
        "outputId": "d90fd569-577a-4871-e4a3-8c9f29950fcf"
      },
      "execution_count": null,
      "outputs": [
        {
          "output_type": "stream",
          "name": "stdout",
          "text": [
            "\n",
            "Simple dictionary example:\n",
            "{'good_user': 1}\n",
            "{'good_user': 2}\n"
          ]
        }
      ]
    },
    {
      "cell_type": "code",
      "source": [
        "# Example of extracting all usernames with counts from the log file\n",
        "print(\"\\nCounting all usernames from full log analysis:\")\n",
        "usernames = {}\n",
        "\n",
        "with open(logfile) as f:\n",
        "    for line in f:\n",
        "        if \"CRON\" not in line:\n",
        "            continue\n",
        "\n",
        "        pattern = r\"USER \\((\\w+)\\)\"\n",
        "        result = re.search(pattern, line)\n",
        "\n",
        "        if result is None:\n",
        "            continue\n",
        "\n",
        "        name = result[1]\n",
        "        usernames[name] = usernames.get(name, 0) + 1\n",
        "\n",
        "print(usernames)"
      ],
      "metadata": {
        "colab": {
          "base_uri": "https://localhost:8080/"
        },
        "id": "vZkMQwTpxtZD",
        "outputId": "fbb9c0bc-957c-4aee-fe04-f49ef61e44a4"
      },
      "execution_count": null,
      "outputs": [
        {
          "output_type": "stream",
          "name": "stdout",
          "text": [
            "\n",
            "Counting all usernames from full log analysis:\n",
            "{'good_user': 1, 'naughty_user': 4}\n"
          ]
        }
      ]
    },
    {
      "cell_type": "markdown",
      "source": [
        "**This script combines:**\n",
        "\n",
        "1. Creating the sample syslog file - Instead of reading from a command-line argument, it creates the syslog file directly in code\n",
        "2. The time and PID extraction function - Implements the show_time_of_pid function to extract timestamps and process IDs from log entries\n",
        "3. Username counting from CRON entries - Uses dictionaries to count occurrences of usernames in CRON entries\n",
        "4. Dictionary usage examples - Shows the basic pattern of incrementing counts in a Python dictionary\n",
        "\n",
        "**The script is structured to:**\n",
        "\n",
        "1. Create the syslog file\n",
        "2. Demonstrate the time and PID extraction functionality\n",
        "3. Count usernames from CRON entries\n",
        "4. Show simple dictionary usage for tracking counts\n",
        "5. Perform a full analysis of the log file to count all usernames"
      ],
      "metadata": {
        "id": "B0Jj8n9ErLaD"
      }
    },
    {
      "cell_type": "markdown",
      "source": [
        "##### 💠**Practice**"
      ],
      "metadata": {
        "id": "J59mZuS8yDzt"
      }
    },
    {
      "cell_type": "markdown",
      "source": [
        "You have created a Python script to read a log of users running CRON jobs. The script needs to accept a command line argument for the path to the log file. Which line of code accomplishes this?"
      ],
      "metadata": {
        "id": "oetakn5cyIfa"
      }
    },
    {
      "cell_type": "markdown",
      "source": [
        "**Question 1**\n",
        "You have created a Python script to read a log of users running CRON jobs. The script needs to accept a command line argument for the path to the log file. Which line of code accomplishes this?\n",
        "\n",
        "**syslog=sys.argv[1]**\n",
        "\n",
        "Correct\n",
        "Right on! This will assign the script's first command line argument to the variable syslog.\n",
        "\n",
        "\n",
        "---\n",
        "\n",
        "\n",
        "**Question 2**\n",
        "Which of the following is a data structure that can be used to count how many times a specific error appears in a log?\n",
        "\n",
        "**Dictionary**\n",
        "\n",
        "Correct\n",
        "Great work! A dictionary is useful to count appearances of strings.\n",
        "\n",
        "\n",
        "---\n",
        "\n",
        "\n",
        "**Question 3**\n",
        "Which keyword will return control back to the top of a loop when iterating through logs?\n",
        "\n",
        "**continue**\n",
        "\n",
        "Correct\n",
        "Excellent! The continue statement is used to return control back to the top of a loop.\n",
        "\n",
        "\n",
        "\n",
        "---\n",
        "\n",
        "\n",
        "**Question 4**\n",
        "When searching log files using regex, which statement uses a capture group to search for the alphanumeric word \"IP\" followed by one or more digits wrapped in parentheses at the end of a line?\n",
        "\n",
        "**r\"IP \\((\\d+)\\)$\"**\n",
        "\n",
        "Correct\n",
        "Awesome! This expression will search for the word IP followed by a space and parentheses. It uses a capture group and \\d+ to capture any digit characters found in the parentheses.\n",
        "\n",
        "\n",
        "---\n",
        "\n",
        "\n",
        "\n",
        "**Question 5**\n",
        "Which of the following are true about parsing log files? (Select all that apply.)\n",
        "\n",
        "**You should parse log files line by line.**\n",
        "Correct\n",
        "Well done! Since log files can get pretty large, it's a good idea to parse them one line at a time instead of loading the entire file into memory at once.\n",
        "\n",
        "**It is efficient to ignore lines that don't contain the information we need.**\n",
        "Correct\n",
        "Right on! We can save a lot of time by not parsing lines that don't contain what we need.\n",
        "\n",
        "**We have to open() the log files first.**\n",
        "Correct\n",
        "Nice job! Before we can parse our log file, we have to use the open() or with open() command on the file first.\n"
      ],
      "metadata": {
        "id": "jxfHJTcbZ55W"
      }
    },
    {
      "cell_type": "markdown",
      "source": [
        "\n",
        "#### ◽**Theme 4: Module Review**"
      ],
      "metadata": {
        "id": "RA_dkFsAbsOi"
      }
    },
    {
      "cell_type": "markdown",
      "source": [
        "##### 💠**Glossary terms from course 2, module 4**"
      ],
      "metadata": {
        "id": "D-2eOVX_bsOj"
      }
    },
    {
      "cell_type": "markdown",
      "source": [
        "**Bash:** The most commonly used shell on Linux\n",
        "\n",
        "**Command line arguments:** Inputs provided to a program when running it from the command line\n",
        "\n",
        "**Environment variables:** Settings and data stored outside a program that can be accessed by it to alter how the program behaves in a particular environment\n",
        "\n",
        "**Input / Output (I/O):** These streams are the basic mechanism for performing input and output operations in your programs\n",
        "\n",
        "**Log files:** Log files are records or text files that store a history of events, actions, or errors generated by a computer system, software, or application for diagnostic, troubleshooting, or auditing purposes\n",
        "\n",
        "**Standard input stream commonly (STDIN):** A channel between a program and a source of input\n",
        "\n",
        "**Standard output stream (STDOUT):** A pathway between a program and a target of output, like a display\n",
        "\n",
        "**Standard error (STDERR):** This displays output like standard out, but is used specifically as a channel to show error messages and diagnostics from the program\n",
        "\n",
        "**Shell:** The application that reads and executes all commands\n",
        "\n",
        "**Subprocesses:** A process to call and run other applications from within Python, including other Python scripts"
      ],
      "metadata": {
        "id": "7QJPaKWqbsOj"
      }
    },
    {
      "cell_type": "markdown",
      "source": [
        "##### 💠**Quiklabs: Work with Log Files**"
      ],
      "metadata": {
        "id": "5MEeTPK9bsOm"
      }
    },
    {
      "cell_type": "markdown",
      "source": [
        "Introduction\n",
        "You dealt with a program that kept throwing an error because the source code was too complicated to quickly find the error. The good news is that the program outputs a log file you could read! Let's review how to write a script to search the log file for the exact error, then output that error into a separate file so you can work out what's wrong.\n",
        "\n",
        "This exemplar is a walkthrough of the previous Qwiklab activity, including detailed instructions and solutions. You may use this exemplar if you were unable to complete the lab and/or you need extra guidance in competing lab tasks. You may also refer to this exemplar to prepare for the graded quiz in this module."
      ],
      "metadata": {
        "id": "YTb_gi-HbsOm"
      }
    },
    {
      "cell_type": "markdown",
      "source": [
        "View log file\n",
        "In the /data directory, there's a file named fishy.log, which contains the system log. Log entries are written in this format:"
      ],
      "metadata": {
        "id": "fkm-_RUor-NT"
      }
    },
    {
      "cell_type": "code",
      "source": [
        "Month Day hour:minute:second mycomputername \"process_name\"[\"random 5 digit number\"] \"ERROR/INFO/WARN\" \"Error description\""
      ],
      "metadata": {
        "id": "lESm49UItF04"
      },
      "execution_count": null,
      "outputs": []
    },
    {
      "cell_type": "markdown",
      "source": [
        "For every process, the runtime log that's generated contains a timestamp and appropriate message alongside. You can view all logs using the command below:"
      ],
      "metadata": {
        "id": "vx3vcBZgsC-f"
      }
    },
    {
      "cell_type": "code",
      "source": [
        "cat ~/data/fishy.log"
      ],
      "metadata": {
        "id": "Y5_plQw5sEV4"
      },
      "execution_count": null,
      "outputs": []
    },
    {
      "cell_type": "markdown",
      "source": [
        "Output:"
      ],
      "metadata": {
        "id": "aCi5tfutsF6Z"
      }
    },
    {
      "cell_type": "code",
      "source": [
        "July 31 00:06:21 mycomputername kernel[96041]: WARN Failed to start network connection\n",
        "July 31 00:09:53 mycomputername updater[46711]: WARN Computer needs to be turned off and on again\n",
        "July 31 00:12:36 mycomputername kernel[48462]: INFO Successfully connected\n",
        "July 31 00:13:52 mycomputername updater[43530]: ERROR Error running Python2.exe: Segmentation Fault (core dumped)\n",
        "July 31 00:16:13 mycomputername NetworkManager[63902]: WARN Failed to start application install\n",
        "July 31 00:26:45 mycomputername CRON[83063]: INFO I'm sorry Dave. I'm afraid I can't do that\n",
        "July 31 00:27:56 mycomputername cacheclient[75746]: WARN PC Load Letter\n",
        "July 31 00:33:31 mycomputername system[25588]: ERROR Out of yellow ink, specifically, even though you want grayscale\n",
        "July 31 00:36:55 mycomputername updater[73786]: WARN Packet loss\n",
        "July 31 00:37:38 mycomputername dhcpclient[87602]: INFO Googling the answer\n",
        "July 31 00:37:48 mycomputername utility[21449]: ERROR The cake is a lie!\n",
        "July 31 00:44:50 mycomputername kernel[63793]: ERROR Failed process [13966]"
      ],
      "metadata": {
        "id": "NJPD66ELsGM8"
      },
      "execution_count": null,
      "outputs": []
    },
    {
      "cell_type": "markdown",
      "source": [
        "Find an error\n",
        "In this lab, we'll search for the CRON error that failed to start. To do this, we'll use a python script to search log files for a particular type of ERROR log. In this case, we'll search for a CRON error within the fishy.log file that failed to start by narrowing our search to \"CRON ERROR Failed to start\".\n",
        "\n",
        "To get started, let's create a python script named find_error.py within scripts directory using nano editor."
      ],
      "metadata": {
        "id": "WDQlkFGZppPd"
      }
    },
    {
      "cell_type": "code",
      "source": [
        "cd ~/scripts\n",
        "nano find_error.py"
      ],
      "metadata": {
        "id": "HrO-x_07sMhd"
      },
      "execution_count": null,
      "outputs": []
    },
    {
      "cell_type": "markdown",
      "source": [
        "Completed Script\n",
        "The Python code you wrote is designed to search a log file for user-specified errors. It prompts the user to enter the error message, then iterates through each line of the log file, checking for matches against the specified error pattern. If a match is found, the line is added to a list of found errors. Once the search is complete, the found errors are written to a separate output file for further analysis. The script uses regular expressions for pattern matching and provides flexibility in defining error patterns."
      ],
      "metadata": {
        "id": "f5YuG4w-sN-T"
      }
    },
    {
      "cell_type": "code",
      "source": [
        "#!/usr/bin/env python3\n",
        "import sys\n",
        "import os\n",
        "import re\n",
        "\n",
        "\n",
        "def error_search(log_file):\n",
        "        error = input(\"What is the error?\")\n",
        "        returned_errors = []\n",
        "        with open(log_file, mode='r',encoding='UTF-8') as file:\n",
        "                for log in file.readlines():\n",
        "                        error_patterns = [\"error\"]\n",
        "                for i in range(len(error.split(' '))):\n",
        "client_loop: send disconnect: I/O errorappend(r\"{}\".format(error.split(' ')[i].lower()))\n",
        "                if all(re.search(error_pattern, log.lower()) for error_pattern in error_patterns$\n",
        "                        returned_errors.append(log)\n",
        "        file.close()\n",
        "        return returned_errors\n",
        "\n",
        "\n",
        "def file_output(returned_errors):\n",
        "        with open(os.path.expanduser('~') + '/data/errors_found.log', 'w') as file:\n",
        "                for error in returned_errors:\n",
        "                        file.write(error)\n",
        "                file.close()\n",
        "if __name__ == \"__main__\":\n",
        "        log_file = sys.argv[1]\n",
        "        returned_errors = error_search(log_file)\n",
        "        file_output(returned_errors)\n",
        "        sys.exit(0)\n"
      ],
      "metadata": {
        "id": "SxyE3OxssQJP"
      },
      "execution_count": null,
      "outputs": []
    },
    {
      "cell_type": "markdown",
      "source": [
        "Save the file by clicking Ctrl-o, followed by the Enter key and Ctrl-x.\n",
        "\n",
        "Make the file executable before running it."
      ],
      "metadata": {
        "id": "Cl76DvP8sZM0"
      }
    },
    {
      "cell_type": "code",
      "source": [
        "sudp chmod +x find_error.py"
      ],
      "metadata": {
        "id": "u7WPmkn1sX7L"
      },
      "execution_count": null,
      "outputs": []
    },
    {
      "cell_type": "markdown",
      "source": [
        " Now, run the file by passing the path to fishy.log as a parameter to the script."
      ],
      "metadata": {
        "id": "FShh06SZsbT7"
      }
    },
    {
      "cell_type": "code",
      "source": [
        "./find_error.py ~/data/fishy.log"
      ],
      "metadata": {
        "id": "mStG-S5PscP0"
      },
      "execution_count": null,
      "outputs": []
    },
    {
      "cell_type": "markdown",
      "source": [
        "This script will now prompt for the type of error to be searched. Continue by entering the following type of error:"
      ],
      "metadata": {
        "id": "j60hxYb7sdiV"
      }
    },
    {
      "cell_type": "code",
      "source": [
        "CRON ERROR Failed to start"
      ],
      "metadata": {
        "id": "PecOOvGwsflt"
      },
      "execution_count": null,
      "outputs": []
    },
    {
      "cell_type": "markdown",
      "source": [
        "On successful execution, this will generate an errors_found.log file, where you will find all the ERROR logs based on your search. You can view the ERROR log using the command below:"
      ],
      "metadata": {
        "id": "OI3N7qJHshJr"
      }
    },
    {
      "cell_type": "code",
      "source": [
        "cat ~/data/errors_found.log"
      ],
      "metadata": {
        "id": "aM1Ti1ylsiCN"
      },
      "execution_count": null,
      "outputs": []
    },
    {
      "cell_type": "markdown",
      "source": [
        "Output:"
      ],
      "metadata": {
        "id": "IfToY3rIsjYb"
      }
    },
    {
      "cell_type": "code",
      "source": [
        "July 31 04:11:32 mycomputername CRON[51253]: ERROR: Failed to start CRON job due to script syntax error. Inform the CRON job owner!"
      ],
      "metadata": {
        "id": "pCUh-qsHskfw"
      },
      "execution_count": null,
      "outputs": []
    },
    {
      "cell_type": "markdown",
      "source": [
        "Congratulations!\n",
        "Congrats! You've written a script to search the log file for the exact error, and then output that error into a separate file for further analysis. As an IT specialist, this tool will be super helpful, allowing you to use Python scripting to filter out and analyze all types of logs.\n",
        "\n"
      ],
      "metadata": {
        "id": "DQRcdOECspbL"
      }
    },
    {
      "cell_type": "markdown",
      "source": [
        "##### 💠**Module 4 challenge: Working with log files**"
      ],
      "metadata": {
        "id": "ySrOaoIdtekC"
      }
    },
    {
      "cell_type": "markdown",
      "source": [
        "1. In the process of connecting to a virtual machine using SSH and PuTTY on Windows, which of the following steps is necessary?\n",
        "✅ Downloading the PPK key file from the Qwiklabs Start Lab page\n",
        "\n",
        "2. What is the primary purpose of the sys module in Python?\n",
        "✅ Provides functions and variables to interact with the Python interpreter and the runtime environment\n",
        "\n",
        "3. In the lab’s Python script, what is the role of the error_search function in relation to processing log files with regular expressions (RegEx)?\n",
        "✅ To interactively receive an error type from the user and use RegEx to find corresponding logs\n",
        "\n",
        "4. What is the role of fishy.log in the provided Python script for log file analysis?\n",
        "✅ It is the log file that is being analyzed for specific error patterns.\n",
        "\n",
        "5. What is the step-by-step process of how errors are searched for and processed in the script within the lab?\n",
        "✅ Set the log_file variable, call the error_search() function with the log_file parameter to search for errors, and store the matching errors in the returned_errors list.\n",
        "\n",
        "6. Based on the Python script provided for log file analysis, what type of information would you expect to find in the errors_found.log file?\n",
        "✅ Specific error logs that match the user-defined search criteria\n",
        "\n",
        "7. What is the function that takes the errors returned by another function as a formal parameter?\n",
        "✅ file_output\n",
        "\n",
        "8. In the lab’s Python script find_error.py, what happens when the script is executed with a log file like fishy.log?\n",
        "✅ The script prompts the user for a type of error, searches fishy.log for that error, and writes the found errors to errors_found.log.\n",
        "\n",
        "9. What is the primary function of the os module in Python?\n",
        "✅ For managing and manipulating file paths and directory structures\n",
        "\n",
        "10. How would you modify the script to also search for warning messages in addition to errors?\n",
        "✅ Modify the error_patterns list initialization to include both \"error\" and \"WARN\" as base patterns.\n",
        "\n"
      ],
      "metadata": {
        "id": "cqRCPhButekI"
      }
    },
    {
      "cell_type": "markdown",
      "source": [
        "### 🟢 **Module 5: Testing in Python** 27/05/25"
      ],
      "metadata": {
        "id": "Y1KTAptcca1T"
      }
    },
    {
      "cell_type": "markdown",
      "source": [
        "#### ◽**Theme 1: Simple Tests**"
      ],
      "metadata": {
        "id": "u-nBBHCCca1V"
      }
    },
    {
      "cell_type": "markdown",
      "source": [
        "##### 💠**What is testing?**"
      ],
      "metadata": {
        "id": "U9mJcaFaca1W"
      }
    },
    {
      "cell_type": "markdown",
      "source": [
        "**Software testing**\n",
        "\n",
        "The process of evaluating computer code to determine whether or not it does what you expect it to do."
      ],
      "metadata": {
        "id": "JykaGpG4ca1X"
      }
    },
    {
      "cell_type": "markdown",
      "source": [
        "##### 💠**Manual Testing and Automated Testing**"
      ],
      "metadata": {
        "id": "yfbW_qWsca1X"
      }
    },
    {
      "cell_type": "markdown",
      "source": [
        "To ensure software behaves correctly, developers use test cases, which are predefined scenarios to check code functionality. The most basic testing method involves trying different parameters and comparing outcomes to expected results. When tests are written as part of the code, they become automatic tests, enabling ongoing validation without manual effort. Using test cases simplifies repeated testing across various inputs, improving reliability. As software grows more complex, software testing becomes increasingly valuable for detecting and managing errors effectively."
      ],
      "metadata": {
        "id": "-dO5gIdWWUPU"
      }
    },
    {
      "cell_type": "markdown",
      "source": [
        "#### ◽**Theme 2: Unit Tests**"
      ],
      "metadata": {
        "id": "NhhARfwuRr37"
      }
    },
    {
      "cell_type": "markdown",
      "source": [
        "##### 💠**unittest**"
      ],
      "metadata": {
        "id": "UOUPiB_KRr37"
      }
    },
    {
      "cell_type": "markdown",
      "source": [
        "A unittest provides developers with a set of tools to construct and run tests.\n",
        "\n",
        "**Concepts**\n",
        "\n",
        "* **Test fixture:** Preparation to perform one or more tests.\n",
        "\n",
        "* **Test case:** Individual unit of testing for specific response.\n",
        "\n",
        "* **Test suite:** Collection of test cases.\n",
        "\n",
        "* **Test runner:** Run the test."
      ],
      "metadata": {
        "id": "Zl1TccCGRr38"
      }
    },
    {
      "cell_type": "markdown",
      "source": [
        "##### 💠**pytest**"
      ],
      "metadata": {
        "id": "sBEKyc8SRr38"
      }
    },
    {
      "cell_type": "markdown",
      "source": [
        "Powerful Python testing tool. Supports automatic test discovery and generates infomative test reports."
      ],
      "metadata": {
        "id": "I4kQmsDzRr38"
      }
    },
    {
      "cell_type": "markdown",
      "source": [
        "**How to write tests**\n",
        "\n",
        "Pytest are written using operation **assert ()**. It is a sanity check for the code.\n",
        "\n",
        "If the condition provided to **assert()** turns out to be false, it indicates a bug, an exception is raised and stops execution.\n",
        "\n"
      ],
      "metadata": {
        "id": "DlV2lw-DtYwe"
      }
    },
    {
      "cell_type": "markdown",
      "source": [
        "**Pytest fixtures**\n",
        "\n",
        "Are used to separate parts of code that only run for tests. They are reusable pieces of test setups."
      ],
      "metadata": {
        "id": "DXwt2Af8uDBA"
      }
    },
    {
      "cell_type": "markdown",
      "source": [
        "Pytest is a user-friendly testing framework for developers writing code in Python to focus on creating simple and clear tests."
      ],
      "metadata": {
        "id": "C9a_z4tnyuB3"
      }
    },
    {
      "cell_type": "markdown",
      "source": [
        "##### 💠**Comparing unittest and pytest**"
      ],
      "metadata": {
        "id": "-OnpXEPFRr38"
      }
    },
    {
      "cell_type": "markdown",
      "source": [
        "Unittest is a tool that is built directly into Python, while pytest must be imported from outside your script. Test discovery acts differently for each test type. Unittest has the functionality to automatically detect test cases within an application, but it must be called from the command line. Pytests are performed automatically using the prefix test_. Unittests use an object-oriented approach to write tests, while pytests use a functional approach. Pytests use built-in assert statements, making tests easier to read and write. On the other hand, unittests provide special assert methods like assertEqual() or assertTrue()."
      ],
      "metadata": {
        "id": "I4mHWfS3Rr38"
      }
    },
    {
      "cell_type": "markdown",
      "source": [
        "Unittest and pytest are both beneficial to developers in executing tests on their code written in Python. Each one has its pros and cons, and it is up to the developer and their preference on which type of testing framework they want to use."
      ],
      "metadata": {
        "id": "mwROYoSHGJEL"
      }
    },
    {
      "cell_type": "markdown",
      "source": [
        "##### 💠**Unit tests**"
      ],
      "metadata": {
        "id": "qmStgsK4Rr39"
      }
    },
    {
      "cell_type": "markdown",
      "source": [
        " Used to verify that small, isolated parts of a program are correct."
      ],
      "metadata": {
        "id": "6-mHtyXARr39"
      }
    },
    {
      "cell_type": "markdown",
      "source": [
        "##### 💠**Writing unit tests in python**"
      ],
      "metadata": {
        "id": "v_BBNwlPRr39"
      }
    },
    {
      "cell_type": "markdown",
      "source": [
        "Should import the part of code you want to test and the unittest module.\n",
        "\n",
        "Define the class that is Test and call it with unittest as a test case.\n",
        "\n",
        "Define the initial input to test that is the testcase and the expected result.\n",
        "\n",
        "Make the assert evaluation that compare the real result with the expectation\n",
        "\n",
        "Run it and see the result."
      ],
      "metadata": {
        "id": "rz-vVs__Rr39"
      }
    },
    {
      "cell_type": "code",
      "execution_count": null,
      "metadata": {
        "id": "sqx89Of4Rr39"
      },
      "outputs": [],
      "source": [
        "#!/usr/bin/env python3\n",
        "\n",
        "from rearrange import rearrange_name\n",
        "import unittest\n",
        "\n",
        "\n",
        "class TestRearrange(unittest.TestCase):\n",
        "    def test_basic(self):\n",
        "        testcase = \"Gonzalez, Luis\"\n",
        "        expected = \"Luis Gonzalez\"\n",
        "        self.assertEqual(rearrange_name(testcase), expected)\n",
        "\n",
        "unittest.main()"
      ]
    },
    {
      "cell_type": "markdown",
      "source": [
        "##### 💠**Edge Cases**"
      ],
      "metadata": {
        "id": "-LgZ06XpPDpM"
      }
    },
    {
      "cell_type": "markdown",
      "source": [
        "Are inputs to our code that produce unexpected results, and are found at the extreme endes of the ranges of input we imagine our programs will typically work with."
      ],
      "metadata": {
        "id": "xQyqorPhPDpN"
      }
    },
    {
      "cell_type": "code",
      "execution_count": null,
      "metadata": {
        "id": "Yv8L_H3CPDpO"
      },
      "outputs": [],
      "source": [
        "def test_empty(self):\n",
        "        testcase = \" \"\n",
        "        expected = \" \"\n",
        "        self.assertEqual(rearrange_name(testcase), expected)"
      ]
    },
    {
      "cell_type": "markdown",
      "source": [
        "##### 💠**Additional test cases**"
      ],
      "metadata": {
        "id": "SZAMwjOkPDvm"
      }
    },
    {
      "cell_type": "markdown",
      "source": [
        "Test are good to prove that the code works for the cases it will receive potentially in use, with this information we can anticipate to malfunctions."
      ],
      "metadata": {
        "id": "EPwa0BcDPDvn"
      }
    },
    {
      "cell_type": "code",
      "execution_count": null,
      "metadata": {
        "id": "aK0FKhSaPDvn"
      },
      "outputs": [],
      "source": [
        "    def test_double_name(self):\n",
        "        testcase = \"Hopper, Grace M.\"\n",
        "        expected = \"Grace M. Hopper\"\n",
        "        self.assertEqual(rearrange_name(testcase), expected)\n",
        "\n",
        "    def test_one_name(self):\n",
        "        testcase = \"Voltaire\"\n",
        "        expected = \"Voltaire\"\n",
        "        self.assertEqual(rearrange_name(testcase), expected)"
      ]
    },
    {
      "cell_type": "markdown",
      "source": [
        "##### 💠**Study guide: Unit tests**"
      ],
      "metadata": {
        "id": "0uqMcqDcPD2b"
      }
    },
    {
      "cell_type": "markdown",
      "source": [
        "Unit tests check individual functions or methods for correct behavior.\n",
        "\n",
        "Use Python's unittest module to write and run tests.\n",
        "\n",
        "Test methods must start with test_ and belong to a class inheriting from unittest.TestCase.\n",
        "\n",
        "**Use assertions like:**\n",
        "\n",
        "* assertEqual(a, b)\n",
        "\n",
        "* assertTrue(x)\n",
        "\n",
        "* assertRaises(Exception)\n",
        "\n",
        "**Run tests via command line:**\n",
        "\n",
        "* python -m unittest test_module.TestClass.test_method\n",
        "\n",
        "**Structure tests using:**\n",
        "\n",
        "* setUp() and tearDown() (run before and after each test)\n",
        "\n",
        "Use the Arrange-Act-Assert pattern to organize test logic.\n",
        "\n",
        "Group related tests into test suites for better management.\n",
        "\n",
        "Unit testing helps catch bugs early and supports automation."
      ],
      "metadata": {
        "id": "Gv3vSHBYPD2b"
      }
    },
    {
      "cell_type": "markdown",
      "source": [
        "#### ◽**Theme 3: Other Test Concepts**"
      ],
      "metadata": {
        "id": "FC1Nu53bRsTd"
      }
    },
    {
      "cell_type": "markdown",
      "source": [
        "##### 💠**Black Box vs White Box**"
      ],
      "metadata": {
        "id": "XFEoYjRrRsTe"
      }
    },
    {
      "cell_type": "markdown",
      "source": [
        "* **White Box** relies on the test creator's knowledge of the software being tested to construct the text cases.\n",
        "\n",
        "* **Black Box** Written and awareness of what the program is supposed to do - its requirements or specifications - but not how it does it.\n",
        "\n",
        "\n"
      ],
      "metadata": {
        "id": "Eghln9jhRsTe"
      }
    },
    {
      "cell_type": "markdown",
      "source": [
        "##### 💠**Other Test Types**"
      ],
      "metadata": {
        "id": "fJ6HizvORsTe"
      }
    },
    {
      "cell_type": "markdown",
      "source": [
        "**Integration Tests** Verify interactions and validate whole systems.\n",
        "\n",
        "**Regression Tests** Written as part of debugging and troubleshooting process to verify fixed bugs.\n",
        "\n",
        "**Build Verification Tests / Smoke Test** Running a piece of software code as-is to see if it runs\n",
        "\n",
        "**Load Tests** These tests verify that the system behaves well when it's under significant load."
      ],
      "metadata": {
        "id": "IeVwqhyhRsTe"
      }
    },
    {
      "cell_type": "markdown",
      "source": [
        "##### 💠**Test-Driven Development TDD**"
      ],
      "metadata": {
        "id": "7tnsaWsqRsTf"
      }
    },
    {
      "cell_type": "markdown",
      "source": [
        "This concept is based in start coding keeping in mind the solution that the script should do, if you assure first it pass the needed tests, you can write code with no coming back to see if it works."
      ],
      "metadata": {
        "id": "YHhDSMn9RsTf"
      }
    },
    {
      "cell_type": "markdown",
      "source": [
        "#### ◽**Theme 4: Errors and Exceptions**"
      ],
      "metadata": {
        "id": "Q6dUSlb2dGHI"
      }
    },
    {
      "cell_type": "markdown",
      "source": [
        "##### 💠**The Try-Except concept**"
      ],
      "metadata": {
        "id": "ju5M1GD_dOo5"
      }
    },
    {
      "cell_type": "markdown",
      "source": [
        "The code in the except block is only executed if one of the instructions in the try block raises an error of the matching type.\n",
        "\n",
        "An exception is not meant to produce an error, but to bypass it."
      ],
      "metadata": {
        "id": "OHeUCN7KdR4Q"
      }
    },
    {
      "cell_type": "code",
      "source": [
        "#!/usr/bin/env python3\n",
        "\n",
        "def character_frequency(filename):\n",
        "  \"\"\"Counts the frequency of each character in the given file.\"\"\"\n",
        "  # First try to open the file\n",
        "  try:\n",
        "    f = open(filename)\n",
        "  except OSError:\n",
        "    return None\n",
        "\n",
        "  # Now process the file\n",
        "  characters = {}\n",
        "  for line in f:\n",
        "    for char in line:\n",
        "      characters[char] = characters.get(char, 0) + 1\n",
        "  f.close()\n",
        "  return characters"
      ],
      "metadata": {
        "id": "JB2lxY8bebUB"
      },
      "execution_count": null,
      "outputs": []
    },
    {
      "cell_type": "markdown",
      "source": [
        "##### 💠**Raising Errors**"
      ],
      "metadata": {
        "id": "A_gaH5fjdPqi"
      }
    },
    {
      "cell_type": "markdown",
      "source": [
        "Giving a visual output is useful to identify the kind of errors that are happening."
      ],
      "metadata": {
        "id": "jQedub_oe-oy"
      }
    },
    {
      "cell_type": "code",
      "source": [
        "#!/usr/bin/env python3\n",
        "\n",
        "def validate_user(username, minlen):\n",
        "    assert type(username) == str, \"username must be a string\"\n",
        "    if minlen < 1:\n",
        "        raise ValueError(\"minlen must be at least 1\")\n",
        "    if len(username) < minlen:\n",
        "        return False\n",
        "    if not username.isalnum():\n",
        "        return False\n",
        "    return True\n"
      ],
      "metadata": {
        "id": "dWZ9VWSofJ90"
      },
      "execution_count": null,
      "outputs": []
    },
    {
      "cell_type": "markdown",
      "source": [
        "##### 💠**Testing for expected errors**"
      ],
      "metadata": {
        "id": "k-jgwF1bh0v_"
      }
    },
    {
      "cell_type": "markdown",
      "source": [
        "It is helpful to create test units to test expected situations in combo, this example makes 4 tests in one run:"
      ],
      "metadata": {
        "id": "yIOFNXIEh0wB"
      }
    },
    {
      "cell_type": "code",
      "source": [
        "#!/usr/bin/env python3\n",
        "\n",
        "import unittest\n",
        "\n",
        "from validations import validate_user\n",
        "\n",
        "class TestValidateUser(unittest.TestCase):\n",
        "  def test_valid(self):\n",
        "    self.assertEqual(validate_user(\"validuser\", 3), True)\n",
        "\n",
        "  def test_too_short(self):\n",
        "    self.assertEqual(validate_user(\"inv\", 5), False)\n",
        "\n",
        "  def test_invalid_characters(self):\n",
        "    self.assertEqual(validate_user(\"invalid_user\", 1), False)\n",
        "\n",
        "  def test_invalid_minlen(self):\n",
        "    self.assertRaises(ValueError, validate_user, \"user\", -1)\n",
        "\n",
        "# Run the tests\n",
        "unittest.main()\n"
      ],
      "metadata": {
        "id": "1OzT8U-ph0wC"
      },
      "execution_count": null,
      "outputs": []
    },
    {
      "cell_type": "markdown",
      "source": [
        "##### 💠**Study Guide: Handling Errors**"
      ],
      "metadata": {
        "id": "8dr4XMV2qPPh"
      }
    },
    {
      "cell_type": "markdown",
      "source": [
        "In Python, error handling allows you to anticipate and manage problems during code execution using try and except blocks. Code inside the try block runs until an error occurs, which is then caught by a matching except clause—otherwise, the error propagates and may crash the program. Developers should be specific about the errors they catch (e.g., ValueError, FileNotFoundError, ZeroDivisionError) and use raise to deliberately trigger exceptions when certain conditions aren’t met. Additionally, assert statements help catch issues early by enforcing conditions during development. Good practice involves predicting where failures may occur, handling them clearly, and avoiding vague or overly broad exception handling."
      ],
      "metadata": {
        "id": "N5saD1E6qPPi"
      }
    },
    {
      "cell_type": "markdown",
      "source": [
        "\n",
        "### 🟢 **Module 6: Bash Scripting** 06/06/25"
      ],
      "metadata": {
        "id": "QOFgL0mI1qw9"
      }
    },
    {
      "cell_type": "markdown",
      "source": [
        "#### ◽**Theme 1: Interacting with the Command Line Shell**"
      ],
      "metadata": {
        "id": "CPhi1Np911Oj"
      }
    },
    {
      "cell_type": "markdown",
      "source": [
        "##### 💠**Basic Linux commands**"
      ],
      "metadata": {
        "id": "zMtmxn8f124r"
      }
    },
    {
      "cell_type": "markdown",
      "source": [
        "**Command Summary – Shell (Git Bash on Windows)**\n",
        "\n",
        "`mkdir mynewdir`\n",
        "Creates a new directory named mynewdir.\n",
        "\n",
        "`cd mynewdir`\n",
        "Changes into the mynewdir directory.\n",
        "\n",
        "`pwd`\n",
        "Prints the current working directory path.\n",
        "\n",
        "`cp ../spider.txt`\n",
        "Attempted copy failed – missing destination.\n",
        "\n",
        "`cp ../spider.txt .`\n",
        "Corrects the previous command – copies spider.txt into the current directory.\n",
        "\n",
        "`touch myfile.txt`\n",
        "Creates a new empty file named myfile.txt.\n",
        "\n",
        "`ls -l`\n",
        "Lists files in long format (shows permissions, size, etc.).\n",
        "\n",
        "`ls -la`\n",
        "Same as ls -l, but includes hidden files and . / ...\n",
        "\n",
        "`mv myfile.txt emptyfile.txt`\n",
        "Renames myfile.txt to emptyfile.txt.\n",
        "\n",
        "`cp spider.txt yetanotherfile.txt`\n",
        "Copies spider.txt to a new file named yetanotherfile.txt.\n",
        "\n",
        "`rm *`\n",
        "Deletes all files in the current directory.\n",
        "\n",
        "`ls -l`\n",
        "Confirms the directory is empty.\n",
        "\n",
        "`cd ..`\n",
        "Moves up one level to the parent directory.\n",
        "\n",
        "`rmdir mynewdir/`\n",
        "Deletes the now-empty mynewdir directory.\n",
        "\n",
        "`ls mynewdir`\n",
        "Error – confirms the directory no longer exists.\n",
        "\n",
        "`ls`\n",
        "Lists the contents of the current (home) directory."
      ],
      "metadata": {
        "id": "SgiEkehw2GYx"
      }
    },
    {
      "cell_type": "markdown",
      "source": [
        "##### 💠**Redirecting streams**"
      ],
      "metadata": {
        "id": "S2Bn_8rD5tNx"
      }
    },
    {
      "cell_type": "markdown",
      "source": [
        "**Redirection** The process of sending a stream to a different destination"
      ],
      "metadata": {
        "id": "b-H6KTDb5uQF"
      }
    },
    {
      "cell_type": "markdown",
      "source": [
        "`>` Each time that STDOUT is performed to redirection, the destination is overwritten."
      ],
      "metadata": {
        "id": "NhesWLei72_Q"
      }
    },
    {
      "cell_type": "markdown",
      "source": [
        "To APPEND it is possible to use `>>`"
      ],
      "metadata": {
        "id": "qBUFoa-U8ID9"
      }
    },
    {
      "cell_type": "markdown",
      "source": [
        "The `<` symbol in the terminal is used to redirect input from a file into a command. It tells the command, \"use this file as if I were typing it.\" For example, sort < names.txt will sort the lines from the names.txt file without needing manual input."
      ],
      "metadata": {
        "id": "AYmZbcaT8b_Q"
      }
    },
    {
      "cell_type": "markdown",
      "source": [
        "< new_file.txt\n",
        "Redirects the contents of new_file.txt into the script’s input (input() reads this instead of waiting for keyboard input).\n",
        "\n",
        "2> error_file.txt\n",
        "Redirects the error messages (STDERR, file descriptor 2) to a file called error_file.txt."
      ],
      "metadata": {
        "id": "C5lHyvlW9ugq"
      }
    },
    {
      "cell_type": "markdown",
      "source": [
        "##### 💠**Pipes and pipelines** 07/06/25"
      ],
      "metadata": {
        "id": "hGVXZyRnC9dU"
      }
    },
    {
      "cell_type": "markdown",
      "source": [
        "**Pipes** connect the output of one program to the input of another in order to pass data between programs."
      ],
      "metadata": {
        "id": "cXxNnvu-C_Kp"
      }
    },
    {
      "cell_type": "markdown",
      "source": [
        "Breakdown of the command:\n",
        "\n",
        "`cat spider.txt | tr ' ' '\\n' | sort | uniq -c | sort -nr | head`\n",
        "\n",
        "1. cat spider.txt\n",
        "Reads and outputs the content of spider.txt.\n",
        "\n",
        "cat: Short for concatenate, it was originally meant to join multiple files. Today, it's often used to simply dump a file to standard output.\n",
        "\n",
        "2. tr ' ' '\\n'\n",
        "Replaces each space (' ') with a newline ('\\n'), effectively putting each word on a new line. This assumes that words are space-separated.\n",
        "\n",
        "Stands for translate. It’s a character-by-character translator, ideal for quick transformations like this one.\n",
        "\n",
        "3. sort\n",
        "Sorts the lines alphabetically. Required for the next step (uniq) to work properly.\n",
        "\n",
        "Literally just sorts input. Unix naming kept it minimal and literal.\n",
        "\n",
        "4. uniq -c\n",
        "Counts unique lines and prefixes each with the number of occurrences.\n",
        "\n",
        "It filters for unique lines. With -c, it counts how many times each one occurs.\n",
        "\n",
        "5. sort -nr\n",
        "Sorts the result numerically (-n) in reverse order (-r), so the most frequent items appear first.\n",
        "\n",
        "This time used with different options — again, a straightforward name doing multiple types of sorting depending on flags.\n",
        "\n",
        "6. head\n",
        "Shows the first 10 lines of the result — i.e., the 10 most frequent tokens.\n",
        "\n",
        "Because it displays the “head” (top) of the output.\n",
        "\n"
      ],
      "metadata": {
        "id": "r-RSFOjzD-g8"
      }
    },
    {
      "cell_type": "markdown",
      "source": [
        "##### 💠**Signaling processes**"
      ],
      "metadata": {
        "id": "tW-ZH1IgI6-2"
      }
    },
    {
      "cell_type": "markdown",
      "source": [
        "Signals are tokens delivered to running processes to indicate a desired action"
      ],
      "metadata": {
        "id": "umvV7E2iJJOU"
      }
    },
    {
      "cell_type": "markdown",
      "source": [
        "CTRL + C = SIGNINT (Interrupt)\n",
        "\n",
        "CTRL + Z = SIGNSTOP\n",
        "\n",
        "fg = SIGNCONTINUE\n",
        "\n",
        "kill = SIGNTERM (Terminate)\n",
        "\n",
        "ps = send the PID\n",
        "\n",
        "\n",
        "ps ax | grep ping (To find the ID of the process and could interact with it from another terminal)\n",
        "\n"
      ],
      "metadata": {
        "id": "67Y3kqwJJTIv"
      }
    },
    {
      "cell_type": "markdown",
      "source": [],
      "metadata": {
        "id": "rfi0O_q5LB0P"
      }
    },
    {
      "cell_type": "markdown",
      "source": [
        "#### ◽**Theme 2: Bash Scripting**"
      ],
      "metadata": {
        "id": "aedoCbj2QfIT"
      }
    },
    {
      "cell_type": "markdown",
      "source": [
        "##### 💠**Creating Bash Scripts** 08/06/25"
      ],
      "metadata": {
        "id": "qkeNB8sZQg2V"
      }
    },
    {
      "cell_type": "markdown",
      "source": [
        "Bash is the most commonly used shell in linux."
      ],
      "metadata": {
        "id": "12C24GH0QhRt"
      }
    },
    {
      "cell_type": "markdown",
      "source": [
        "`gather-information.sh`\n"
      ],
      "metadata": {
        "id": "PbczPzpY76KP"
      }
    },
    {
      "cell_type": "code",
      "source": [
        "#!/bin/bash\n",
        "\n",
        "echo \"starting at: $(date)\"; echo\n",
        "\n",
        "echo \"UPTIME\"; uptime; echo\n",
        "\n",
        "echo \"FREE\"; free; echo\n",
        "\n",
        "echo \"WHO\"; who; echo\n",
        "\n",
        "echo \"Finishing at: $(date)\"\n"
      ],
      "metadata": {
        "id": "ndMB_tNYjsfy"
      },
      "execution_count": null,
      "outputs": []
    },
    {
      "cell_type": "markdown",
      "source": [
        "##### 💠**Using variables and Globs**"
      ],
      "metadata": {
        "id": "PvNbpz8T-On6"
      }
    },
    {
      "cell_type": "markdown",
      "source": [
        "Bash is a full scripting language, not just for running commands. It supports variables, conditionals, loops, and functions. Variables are assigned with =, without spaces, and accessed using $. To make a variable available to subprocesses, use export.\n",
        "\n",
        "You can enhance scripts using variables, like creating a line variable to print separators.\n",
        "\n",
        "Bash also supports globs — wildcards like * and ? — to match filenames. For example:\n",
        "\n",
        "    *.py matches all Python files,\n",
        "\n",
        "    C* matches files starting with \"C\",\n",
        "\n",
        "    ????? matches files with five-character names.\n",
        "\n",
        "These help batch-process files, and similar functionality exists in Python's glob module.\n"
      ],
      "metadata": {
        "id": "qcaBYoRLkFXb"
      }
    },
    {
      "cell_type": "markdown",
      "source": [
        "##### 💠**Conditional execution in Bash**"
      ],
      "metadata": {
        "id": "JctVNGgykbaQ"
      }
    },
    {
      "cell_type": "markdown",
      "source": [
        "In bash scripting, an exit value of 0 means success."
      ],
      "metadata": {
        "id": "Ij07DUVakb3y"
      }
    },
    {
      "cell_type": "code",
      "source": [
        "#!/bin/bash\n",
        "\n",
        "if grep \"127.0.0.1\" /etc/hosts; then\n",
        "\techo \"Everything OK\"\n",
        "else\n",
        "\techo \"ERROR! 127.0.0.1 is not in /etc/hosts\"\n",
        "fi\n"
      ],
      "metadata": {
        "id": "Fsi0CTUylwd1"
      },
      "execution_count": null,
      "outputs": []
    },
    {
      "cell_type": "markdown",
      "source": [
        "**Test** A command that evaluates the conditions received and exits with zero when they're true and with one when they're false"
      ],
      "metadata": {
        "id": "ualRb-7tlxpU"
      }
    },
    {
      "cell_type": "markdown",
      "source": [
        "\n",
        "\n",
        "```\n",
        "luis@Luis-HP-EliteBook-840-G5:~$ if test -n \"$PATH\"; then echo \"Your PATH is not empty\"; fi\n",
        "Your PATH is not empty\n",
        "\n",
        "\n",
        "luis@Luis-HP-EliteBook-840-G5:~$ if [ -n \"$PATH\" ]; then echo \"Your PATH is not empty\"; fi\n",
        "Your PATH is not empty\n",
        "\n",
        "```\n",
        "\n",
        "\n"
      ],
      "metadata": {
        "id": "WURvHRRpnEo4"
      }
    },
    {
      "cell_type": "markdown",
      "source": [
        "#### ◽**Theme 3: Advanced Bash Concepts**"
      ],
      "metadata": {
        "id": "Q9JbC8l3nsaN"
      }
    },
    {
      "cell_type": "markdown",
      "source": [
        "##### 💠**While loops in Bash Scripts**"
      ],
      "metadata": {
        "id": "j7BeN_BeVkM4"
      }
    },
    {
      "cell_type": "markdown",
      "source": [
        "**./while.sh**"
      ],
      "metadata": {
        "id": "iKFbRfAmY-l8"
      }
    },
    {
      "cell_type": "markdown",
      "source": [
        "\n",
        "\n",
        "```\n",
        "#!/bin/bash\n",
        "\n",
        "n=1\n",
        "while [ $n -le 5 ]; do\n",
        "  echo \"Iteration number $n\"\n",
        "  ((n+=1))\n",
        "done\n",
        "\n",
        "\n",
        "```\n",
        "\n"
      ],
      "metadata": {
        "id": "R_oSCuJmVrBp"
      }
    },
    {
      "cell_type": "markdown",
      "source": [
        "**./random-exit.py**\n"
      ],
      "metadata": {
        "id": "guSCgYHCZEsb"
      }
    },
    {
      "cell_type": "markdown",
      "source": [
        "\n",
        "\n",
        "```\n",
        "#!/usr/bin/env python3\n",
        "\n",
        "import sys\n",
        "import random\n",
        "\n",
        "value=random.randitn(0, 3)\n",
        "print(\"Returning: \" + str(value))\n",
        "sys.exit(value)\n",
        "\n",
        "```\n",
        "\n"
      ],
      "metadata": {
        "id": "W2eAkkL6WVxs"
      }
    },
    {
      "cell_type": "markdown",
      "source": [
        "**./retry.sh**"
      ],
      "metadata": {
        "id": "vzwa27NRZJgJ"
      }
    },
    {
      "cell_type": "markdown",
      "source": [
        "\n",
        "\n",
        "```\n",
        "#!/bin/bash\n",
        "\n",
        "n=0\n",
        "command=$1\n",
        "while ! $command && [ $n -le 5 ]; do\n",
        "  sleep $n\n",
        "  ((n=n+1))\n",
        "  echo \"Retry #$n\"\n",
        "done;\n",
        "\n",
        "```\n",
        "\n"
      ],
      "metadata": {
        "id": "sr6nkzFvY3fi"
      }
    },
    {
      "cell_type": "markdown",
      "source": [
        "##### 💠**For loops in Bash Scripts**"
      ],
      "metadata": {
        "id": "CmSQQOlNZX0X"
      }
    },
    {
      "cell_type": "markdown",
      "source": [
        "\n",
        "```\n",
        "luis@Luis-HP-EliteBook-840-G5:~$ nano fruits.sh\n",
        "\n",
        "luis@Luis-HP-EliteBook-840-G5:~$ cat fruits.sh\n",
        "#!/bin/bash\n",
        "\n",
        "for fruit in peach orange apple; do\n",
        "\techo \"I like $fruit!\"\n",
        "done\n",
        "\n",
        "luis@Luis-HP-EliteBook-840-G5:~$ chmod +x fruits.sh\n",
        "\n",
        "luis@Luis-HP-EliteBook-840-G5:~$ ./fruits.sh\n",
        "I like peach!\n",
        "I like orange!\n",
        "I like apple!\n",
        "\n",
        "luis@Luis-HP-EliteBook-840-G5:~$\n",
        "\n",
        "```\n",
        "\n",
        "\n",
        "\n"
      ],
      "metadata": {
        "id": "7z7dTNgvZZOo"
      }
    },
    {
      "cell_type": "markdown",
      "source": [
        "```\n",
        "luis@Luis-HP-EliteBook-840-G5:~/old_website_practice$ ls -l\n",
        "total 12\n",
        "-rw-rw-r-- 1 luis luis 1 Jun  9 22:46 Test1.HTM\n",
        "-rw-rw-r-- 1 luis luis 1 Jun  9 22:46 Test2.HTM\n",
        "-rw-rw-r-- 1 luis luis 1 Jun  9 22:46 Test3.HTM\n",
        "luis@Luis-HP-EliteBook-840-G5:~/old_website_practice$ basename Test1.HTM .HTM\n",
        "Test1\n",
        "luis@Luis-HP-EliteBook-840-G5:~/old_website_practice$ nano\n",
        "luis@Luis-HP-EliteBook-840-G5:~/old_website_practice$ nano rename.sh\n",
        "luis@Luis-HP-EliteBook-840-G5:~/old_website_practice$ chmod +x rename.sh\n",
        "luis@Luis-HP-EliteBook-840-G5:~/old_website_practice$ ./rename.sh\n",
        "mv Test1.HTM Test1.html\n",
        "mv Test2.HTM Test2.html\n",
        "mv Test3.HTM Test3.html\n",
        "luis@Luis-HP-EliteBook-840-G5:~/old_website_practice$ nano rename.sh\n",
        "luis@Luis-HP-EliteBook-840-G5:~/old_website_practice$ ./rename.sh\n",
        "luis@Luis-HP-EliteBook-840-G5:~/old_website_practice$ ls -l\n",
        "total 16\n",
        "-rwxrwxr-x 1 luis luis 98 Jun  9 22:53 rename.sh\n",
        "-rw-rw-r-- 1 luis luis  1 Jun  9 22:46 Test1.html\n",
        "-rw-rw-r-- 1 luis luis  1 Jun  9 22:46 Test2.html\n",
        "-rw-rw-r-- 1 luis luis  1 Jun  9 22:46 Test3.html\n",
        "luis@Luis-HP-EliteBook-840-G5:~/old_website_practice$\n",
        "\n",
        "```\n",
        "\n",
        "\n"
      ],
      "metadata": {
        "id": "9HWpeFbKcVP7"
      }
    },
    {
      "cell_type": "markdown",
      "source": [
        "##### 💠**Advanced Command Interaction**"
      ],
      "metadata": {
        "id": "hn2uI4d3en1l"
      }
    },
    {
      "cell_type": "markdown",
      "source": [
        "\n",
        "```\n",
        "luis@Luis-HP-EliteBook-840-G5:~$ nano toploglines.sh\n",
        "luis@Luis-HP-EliteBook-840-G5:~$ cat toploglines.sh\n",
        "#!/bin/bash\n",
        "\n",
        "for logfile in /var/log/*log; do\n",
        "    echo \"Processing: $logfile\"\n",
        "    cut -d' ' -f5- $logfile | sort | uniq -c | sort -nr | head -5\n",
        "done\n",
        "luis@Luis-HP-EliteBook-840-G5:~$ chmod +x toploglines.sh\n",
        "luis@Luis-HP-EliteBook-840-G5:~$ ./toploglines.sh\n",
        "\n",
        "```\n",
        "\n",
        "\n"
      ],
      "metadata": {
        "id": "Qm561cNie3Ni"
      }
    },
    {
      "cell_type": "markdown",
      "source": [
        "##### 💠**Choosing between Bash and Python**"
      ],
      "metadata": {
        "id": "BeXhAWRsoPTF"
      }
    },
    {
      "cell_type": "markdown",
      "source": [
        "```\n",
        "luis@Luis-HP-EliteBook-840-G5:~$ nano capitalize_words.py\n",
        "luis@Luis-HP-EliteBook-840-G5:~$ cat capitalize_words.py\n",
        "#!/usr/bin/env python3\n",
        "\n",
        "import sys\n",
        "\n",
        "for line in sys.stdin:\n",
        "    words = line.strip().split()\n",
        "    print(\" \".join([word.capitalize() for word in words]))\n",
        "\n",
        "luis@Luis-HP-EliteBook-840-G5:~$ nano story.txt\n",
        "luis@Luis-HP-EliteBook-840-G5:~$ cat story.txt\n",
        "once upon a time there was an egg of programming language called python\n",
        "luis@Luis-HP-EliteBook-840-G5:~$ cat story.txt | ./capitalize_words.py\n",
        "bash: ./capitalize_words.py: Permission denied\n",
        "luis@Luis-HP-EliteBook-840-G5:~$ chmod +x capitalize_words.py\n",
        "luis@Luis-HP-EliteBook-840-G5:~$ cat story.txt | ./capitalize_words.py\n",
        "Once Upon A Time There Was An Egg Of Programming Language Called Python\n",
        "luis@Luis-HP-EliteBook-840-G5:~$\n",
        "\n",
        "```"
      ],
      "metadata": {
        "id": "3EGTfXXsoT6G"
      }
    }
  ]
}