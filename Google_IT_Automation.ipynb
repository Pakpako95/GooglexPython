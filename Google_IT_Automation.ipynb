{
  "nbformat": 4,
  "nbformat_minor": 0,
  "metadata": {
    "colab": {
      "provenance": [],
      "collapsed_sections": [
        "QzUwXcLt34Ws",
        "vUryZVSJ3fjN",
        "vt2PTANsBWbD",
        "IRDYeUSpAVq9",
        "0EBaXzPmW-ip",
        "rO6u3F0ewHwu",
        "RUno6BMIc84q",
        "h96F0Eb92QYQ",
        "SKSebztwL-JN",
        "rwoMHQn4MQ-B",
        "1Byt_RPJMmO7",
        "3FHGdKF5M507",
        "yf4KTrm9NE_2",
        "N1d2GUprNUzk",
        "xhcOPtEfRAHl",
        "nYKweQyXRAHl",
        "GUhfOQKvRAHm",
        "7Ierol8Qrza8",
        "3Y5JJ1IPtnwA",
        "nWKBtFvetnwC",
        "JQ14OEx4tnwC",
        "uno5nzKoyPqd"
      ],
      "authorship_tag": "ABX9TyM+ZbVu0QbzGkBDHRM1hAud",
      "include_colab_link": true
    },
    "kernelspec": {
      "name": "python3",
      "display_name": "Python 3"
    },
    "language_info": {
      "name": "python"
    }
  },
  "cells": [
    {
      "cell_type": "markdown",
      "metadata": {
        "id": "view-in-github",
        "colab_type": "text"
      },
      "source": [
        "<a href=\"https://colab.research.google.com/github/Pakpako95/GooglexPython/blob/main/Google_IT_Automation.ipynb\" target=\"_parent\"><img src=\"https://colab.research.google.com/assets/colab-badge.svg\" alt=\"Open In Colab\"/></a>"
      ]
    },
    {
      "cell_type": "markdown",
      "source": [
        "# **🐍 Google IT Automation with Python Specialization**"
      ],
      "metadata": {
        "id": "HmJUR9sj5gpL"
      }
    },
    {
      "cell_type": "markdown",
      "source": [
        "## 🟥 **Course 2: Using Python to Interact with the Operating System**"
      ],
      "metadata": {
        "id": "YRD9Uz5E34Vg"
      }
    },
    {
      "cell_type": "markdown",
      "source": [
        "### 🟢 **Module 3: Regular Expressions**"
      ],
      "metadata": {
        "id": "QzUwXcLt34Ws"
      }
    },
    {
      "cell_type": "markdown",
      "source": [
        "#### ◽**Theme 2: Basic Regular Expressions**"
      ],
      "metadata": {
        "id": "vUryZVSJ3fjN"
      }
    },
    {
      "cell_type": "markdown",
      "source": [
        "#####💠**Simple Matching in Python**"
      ],
      "metadata": {
        "id": "vt2PTANsBWbD"
      }
    },
    {
      "cell_type": "markdown",
      "source": [
        "In Python's regex implementation, the re module provides functions for string manipulation. Use r prefix to create rawstrings, preventing Python from interpreting special characters.\n",
        "\n",
        "The search function checks if a pattern exists in a string, returning a match object with information like position (span) and the matching substring.\n",
        "\n",
        "If no match is found, search returns None. Special regex characters include ^ to match the beginning of a line and . to match any character. Additional options like re.IGNORECASE can modify matching behavior."
      ],
      "metadata": {
        "id": "ijcqVrsKBWbE"
      }
    },
    {
      "cell_type": "code",
      "execution_count": null,
      "metadata": {
        "id": "CZijaxTPBWbE"
      },
      "outputs": [],
      "source": [
        "import re\n",
        "result = re.search(r\"aza\", \"plaza\")\n",
        "print(result)"
      ]
    },
    {
      "cell_type": "code",
      "source": [
        "import re\n",
        "result = re.search(r\"aza\", \"bazaar\")\n",
        "print(result)"
      ],
      "metadata": {
        "id": "dlIj1AzRBWbF"
      },
      "execution_count": null,
      "outputs": []
    },
    {
      "cell_type": "code",
      "source": [
        "import re\n",
        "result = re.search(r\"aza\", \"maze\")\n",
        "print(result)\n",
        "\n",
        "print(re.search(r\"^x\", \"xenon\"))"
      ],
      "metadata": {
        "collapsed": true,
        "id": "zqF_8QbWBWbF"
      },
      "execution_count": null,
      "outputs": []
    },
    {
      "cell_type": "code",
      "source": [
        "import re\n",
        "print(re.search(r\"p.ng\", \"penguin\"))"
      ],
      "metadata": {
        "id": "s4Uy5YGoBr5g"
      },
      "execution_count": null,
      "outputs": []
    },
    {
      "cell_type": "code",
      "source": [
        "import re\n",
        "print(re.search(r\"p.ng\", \"clapping\"))\n",
        "print(re.search(r\"p.ng\", \"sponge\"))"
      ],
      "metadata": {
        "id": "XGLQ_Ca8BsF0"
      },
      "execution_count": null,
      "outputs": []
    },
    {
      "cell_type": "code",
      "source": [
        "import re\n",
        "print(re.search(r\"p.ng\", \"Pangaea\", re.IGNORECASE))"
      ],
      "metadata": {
        "id": "tO9VlIiyBttm"
      },
      "execution_count": null,
      "outputs": []
    },
    {
      "cell_type": "markdown",
      "source": [
        "##### 💠**Wildcards and Character Classes**"
      ],
      "metadata": {
        "id": "IRDYeUSpAVq9"
      }
    },
    {
      "cell_type": "markdown",
      "source": [
        "Character classes in regex allow matching specific character groups using square brackets.\n",
        "\n",
        "To match Python with either uppercase or lowercase p, use `[Pp]ython`. Ranges are defined with dashes: `[a-z]` for lowercase letters, `[A-Z]` for uppercase, `[0-9]` for digits.\n",
        "\n",
        "The `^` symbol inside brackets negates the class, matching anything not in the specified set. For example, `[^a-zA-Z]` matches characters that aren't letters.\n",
        "\n",
        "The pipe symbol `|` creates alternatives, matching either expression. For instance, cat|dog matches either \"cat\" or \"dog\".\n",
        "While search finds only the first match, findall returns all matches in a string."
      ],
      "metadata": {
        "id": "dBxJZj2uAVrA"
      }
    },
    {
      "cell_type": "code",
      "execution_count": null,
      "metadata": {
        "id": "uwSF0UC5AVrB"
      },
      "outputs": [],
      "source": [
        "import re\n",
        "print(re.search(r\"[Pp]ython\", \"Python\"))"
      ]
    },
    {
      "cell_type": "code",
      "source": [
        "import re\n",
        "print(re.search(r\"[a-z]way\", \"The end of the highway\"))\n",
        "print(re.search(r\"[a-z]way\", \"What a way to go\"))\n",
        "print(re.search(\"cloud[a-zA-Z0-9]\", \"cloudy\"))\n",
        "print(re.search(\"cloud[a-zA-Z0-9]\", \"cloud9\"))"
      ],
      "metadata": {
        "id": "sXDpvwF5AVrC"
      },
      "execution_count": null,
      "outputs": []
    },
    {
      "cell_type": "code",
      "source": [
        "import re\n",
        "print(re.search(r\"[^a-zA-Z]\", \"This is a sentence with spaces.\"))\n",
        "print(re.search(r\"[^a-zA-Z ]\", \"This is a sentence with spaces.\"))\n",
        "\n",
        "print(re.search(r\"cat|dog\", \"I like cats.\"))\n",
        "print(re.search(r\"cat|dog\", \"I love dogs!\"))\n",
        "print(re.search(r\"cat|dog\", \"I like both dogs and cats.\"))\n",
        "\n",
        "print(re.search(r\"cat|dog\", \"I like cats.\"))\n",
        "print(re.search(r\"cat|dog\", \"I love dogs!\"))\n",
        "print(re.search(r\"cat|dog\", \"I like both dogs and cats.\"))\n",
        "print(re.findall(r\"cat|dog\", \"I like both dogs and cats.\"))"
      ],
      "metadata": {
        "id": "_8r27jB-AVrD"
      },
      "execution_count": null,
      "outputs": []
    },
    {
      "cell_type": "markdown",
      "source": [
        "##### 💠**Repetition Qualifiers**"
      ],
      "metadata": {
        "id": "0EBaXzPmW-ip"
      }
    },
    {
      "cell_type": "markdown",
      "source": [
        "Repetition qualifiers in regex allow matching characters multiple times.\n",
        "The ***** matches any character repeated zero or more times, but behaves greedily by matching as much as possible. For example, **p.*n matches from the first \"p\" to the last \"n\" in a string.\n",
        "\n",
        "The + qualifier matches one or more occurrences of the preceding character, while ? matches zero or one occurrence. For example, O+L+ matches one or more O's followed by one or more L's, and P?each matches both \"each\" and \"Peach\".\n",
        "\n",
        "These qualifiers help build more complex patterns for finding specific text patterns like the longest word in a string or hostnames in log files."
      ],
      "metadata": {
        "id": "eFVj0Op3xAu-"
      }
    },
    {
      "cell_type": "code",
      "execution_count": null,
      "metadata": {
        "id": "JtiC5Z3IL3y0"
      },
      "outputs": [],
      "source": [
        "import re\n",
        "print(re.search(r\"Py.*n\", \"Pygmalion\"))\n",
        "print(re.search(r\"Py.*n\", \"Python Programming\"))\n",
        "print(re.search(r\"Py.*?n\", \"Python Programming\"))\n",
        "print(re.search(r\"Py[a-z]*n\", \"Python Programming\"))\n",
        "print(re.search(r\"Py[a-z]*n\", \"Pyn\"))"
      ]
    },
    {
      "cell_type": "code",
      "source": [
        "import re\n",
        "print(re.search(r\"o+l+\", \"goldfish\"))\n",
        "print(re.search(r\"o+l+\", \"woolly\"))\n",
        "print(re.search(r\"o+l+\", \"boil\"))"
      ],
      "metadata": {
        "id": "WlOlpKc_MTPn"
      },
      "execution_count": null,
      "outputs": []
    },
    {
      "cell_type": "code",
      "source": [
        "import re\n",
        "print(re.search(r\"p?each\", \"To each their own\"))\n",
        "print(re.search(r\"p?each\", \"I like peaches\"))"
      ],
      "metadata": {
        "id": "3luHEsH-MU2z"
      },
      "execution_count": null,
      "outputs": []
    },
    {
      "cell_type": "markdown",
      "source": [
        "Greedy vs Non-Greedy in Regular Expressions\\\n",
        "\n",
        "**Greedy:** Matches as much as possible.\n",
        "Example: a.*a\n",
        "→ Captures from the first a to the last a.\n",
        "\n",
        "**Non-Greedy:** Matches as little as possible.\n",
        "Example: a.*?a\n",
        "→ Captures from the first a to the next closest a.\n",
        "\n",
        "Explaining the expression ( . * ? )\n",
        "\n",
        "( . ) means any character (except newlines).\n",
        "\n",
        "( * ) means zero or more repetitions of the preceding item (in this case, any character).\n",
        "\n",
        "( ? ) makes the * non-greedy, so it matches the smallest possible number of characters between the two letters.\n",
        "\n",
        "→ So ( . * ? ) means: “the fewest possible characters of any kind.”"
      ],
      "metadata": {
        "id": "K4_wtWdIdUu2"
      }
    },
    {
      "cell_type": "markdown",
      "source": [
        "##### 💠**Escaping Characters**"
      ],
      "metadata": {
        "id": "rO6u3F0ewHwu"
      }
    },
    {
      "cell_type": "markdown",
      "source": [
        "Escaping special characters in regex requires using a backslash (). For example, to match a literal dot rather than any character, use . as in .com which matches \".com\" specifically.\n",
        "\n",
        "Python uses raw strings (r\"\") to avoid confusion with string escape sequences like \\n or \\t, as backslashes won't be interpreted when generating the string.\n",
        "Python provides special character sequences:\n",
        "\n",
        "* \\w matches alphanumeric characters (letters, numbers, underscores)\n",
        "* \\d matches digits\n",
        "* \\s matches whitespace (space, tab, newline)\n",
        "* \\b matches word boundaries\n",
        "\n",
        "For regex testing and analysis, regex101.com is a helpful resource."
      ],
      "metadata": {
        "id": "VIETjA5idvYd"
      }
    },
    {
      "cell_type": "code",
      "source": [
        "import re\n",
        "print(re.search(r\".com\", \"welcome\"))\n",
        "print(re.search(r\"\\.com\", \"welcome\"))\n",
        "print(re.search(r\"\\.com\", \"mydomain.com\"))"
      ],
      "metadata": {
        "colab": {
          "base_uri": "https://localhost:8080/"
        },
        "id": "eiC33Rrbd20k",
        "outputId": "8579879b-381d-47dd-dda5-db30ec74b828"
      },
      "execution_count": null,
      "outputs": [
        {
          "output_type": "stream",
          "name": "stdout",
          "text": [
            "<re.Match object; span=(2, 6), match='lcom'>\n",
            "None\n",
            "<re.Match object; span=(8, 12), match='.com'>\n"
          ]
        }
      ]
    },
    {
      "cell_type": "code",
      "source": [
        "import re\n",
        "print(re.search(r\"\\w*\", \"This is an example\"))\n",
        "print(re.search(r\"\\w*\", \"And_this_is_another\"))"
      ],
      "metadata": {
        "colab": {
          "base_uri": "https://localhost:8080/"
        },
        "id": "62AJhK3Bd-eK",
        "outputId": "6e3e1cf2-c053-4048-837a-8e80b9652d0b"
      },
      "execution_count": null,
      "outputs": [
        {
          "output_type": "stream",
          "name": "stdout",
          "text": [
            "<re.Match object; span=(0, 4), match='This'>\n",
            "<re.Match object; span=(0, 19), match='And_this_is_another'>\n"
          ]
        }
      ]
    },
    {
      "cell_type": "markdown",
      "source": [
        "##### 💠**Regular Expressions in Action**"
      ],
      "metadata": {
        "id": "RUno6BMIc84q"
      }
    },
    {
      "cell_type": "markdown",
      "source": [
        "Regular expressions can be combined to create powerful pattern matching. To match countries that start and end with \"a\", use `^a.*a$`, where `^` marks the beginning and `$` marks the end of the string.\n",
        "\n",
        "To validate Python variable names (starting with letter or underscore, containing letters, numbers or underscores):\n",
        "\n",
        "Start with:\n",
        "\n",
        "1. `^[a-zA-Z_]` to match first character\n",
        "2. Add `[a-zA-Z0-9_]*$` to match remaining characters\n",
        "3. The complete pattern is ` ^[a-zA-Z_][a-zA-Z0-9_]*$ `\n",
        "\n",
        "This pattern correctly validates variable names like \"my_var1\" while rejecting invalid ones like \"123var\" (starts with number) or \"my var\" (contains space).\n",
        "\n",
        "Practice with regex builds comfort with this powerful tool for text processing."
      ],
      "metadata": {
        "id": "zXm3FcqczUSV"
      }
    },
    {
      "cell_type": "code",
      "source": [
        "import re\n",
        "print(re.search(r\"A.*a\", \"Argentina\"))\n",
        "print(re.search(r\"A.*a\", \"Azerbaijan\"))\n",
        "print(re.search(r\"^A.*a$\", \"Azerbaijan\"))\n",
        "print(re.search(r\"^A.*a$\", \"Argentina\"))"
      ],
      "metadata": {
        "id": "YLXvh4mJx1zQ",
        "outputId": "dc765e7a-5742-4960-e76e-9bcc835f0fc6",
        "colab": {
          "base_uri": "https://localhost:8080/"
        }
      },
      "execution_count": null,
      "outputs": [
        {
          "output_type": "stream",
          "name": "stdout",
          "text": [
            "<re.Match object; span=(0, 9), match='Argentina'>\n",
            "<re.Match object; span=(0, 9), match='Azerbaija'>\n",
            "None\n",
            "<re.Match object; span=(0, 9), match='Argentina'>\n"
          ]
        }
      ]
    },
    {
      "cell_type": "code",
      "source": [
        "import re\n",
        "pattern = r\"^[a-zA-Z_][a-zA-Z0-9_]*$\"\n",
        "print(re.search(pattern, \"_this_is_a_valid_variable_name\"))\n",
        "print(re.search(pattern, \"this isn't a valid variable\"))\n",
        "print(re.search(pattern, \"my_variable1\"))\n",
        "print(re.search(pattern, \"2my_variable1\"))"
      ],
      "metadata": {
        "id": "31bqMZ5gyBMB"
      },
      "execution_count": null,
      "outputs": []
    },
    {
      "cell_type": "markdown",
      "source": [
        "Explanation of the regex `r\"^[A-Z][a-z\\s]+[.?!]$`:\n",
        "\n",
        "`^` — Start of string\n",
        "\n",
        "`[A-Z]` — First character must be an uppercase letter\n",
        "\n",
        "`[a-z\\s]+` — At least one lowercase letter or space\n",
        "\n",
        "`[.?!]` — Ends with a period, question mark, or exclamation mark\n",
        "\n",
        "`$` — End of string"
      ],
      "metadata": {
        "id": "rCacKMWWAjog"
      }
    },
    {
      "cell_type": "markdown",
      "source": [
        "##### 💠**Practice of the Theme: Basic Regular Expressions**"
      ],
      "metadata": {
        "id": "h96F0Eb92QYQ"
      }
    },
    {
      "cell_type": "markdown",
      "source": [
        "Question 1\n",
        "The check_web_address() function checks if the text passed qualifies as a top-level web address, meaning that it contains alphanumeric characters (which includes letters, numbers, and underscores), as well as periods, dashes, and a plus sign, followed by a period and a character-only top-level domain such as \".com\", \".info\", \".edu\", etc. Fill in the regular expression to do that, using escape characters, wildcards, repetition qualifiers, beginning and end-of-line characters, and character classes."
      ],
      "metadata": {
        "id": "Ls5v2dzZ2QYQ"
      }
    },
    {
      "cell_type": "code",
      "source": [
        "import re\n",
        "def check_web_address(text):\n",
        "  pattern = r\"^[\\w\\.\\-\\+]+\\.([a-zA-Z]+)$\"\n",
        "  result = re.search(pattern, text)\n",
        "  return result != None\n",
        "\n",
        "print(check_web_address(\"gmail.com\")) # True\n",
        "print(check_web_address(\"www@google\")) # False\n",
        "print(check_web_address(\"www.Coursera.org\")) # True\n",
        "print(check_web_address(\"web-address.com/homepage\")) # False\n",
        "print(check_web_address(\"My_Favorite-Blog.US\")) # True\n"
      ],
      "metadata": {
        "id": "a4qA9mL12QYR"
      },
      "execution_count": null,
      "outputs": []
    },
    {
      "cell_type": "markdown",
      "source": [
        "Question 2\n",
        "The check_time() function checks for the time format of a 12-hour clock, as follows: the hour is between 1 and 12, with no leading zero, followed by a colon, then minutes between 00 and 59, then an optional space, and then AM or PM, in upper or lower case. Fill in the regular expression to do that. How many of the concepts that you just learned can you use here?"
      ],
      "metadata": {
        "id": "tppYTeJC2ua5"
      }
    },
    {
      "cell_type": "code",
      "source": [
        "import re\n",
        "def check_time(text):\n",
        "  pattern = r\"^(1[0-2]|[1-9]):[0-5][0-9]\\s?(am|pm|AM|PM)$\"\n",
        "  result = re.search(pattern, text)\n",
        "  return result != None\n",
        "\n",
        "print(check_time(\"12:45pm\")) # True\n",
        "print(check_time(\"9:59 AM\")) # True\n",
        "print(check_time(\"6:60am\")) # False\n",
        "print(check_time(\"five o'clock\")) # False\n",
        "print(check_time(\"6:02 am\")) # True\n",
        "print(check_time(\"6:02km\")) # False\n"
      ],
      "metadata": {
        "id": "Zw1lmVjV2QYR"
      },
      "execution_count": null,
      "outputs": []
    },
    {
      "cell_type": "markdown",
      "source": [
        "Question 3\n",
        "The contains_acronym() function checks the text for the presence of 2 or more characters or digits surrounded by parentheses, with at least the first character in uppercase (if it's a letter), returning True if the condition is met, or False otherwise. For example, \"Instant messaging (IM) is a set of communication technologies used for text-based communication\" should return True since (IM) satisfies the match conditions.\" Fill in the regular expression in this function:"
      ],
      "metadata": {
        "id": "Tp60C0xB27Fk"
      }
    },
    {
      "cell_type": "code",
      "source": [
        "import re\n",
        "def contains_acronym(text):\n",
        "  pattern = r\"\\(([A-Z][a-zA-Z0-9]+)\\)\"\n",
        "  result = re.search(pattern, text)\n",
        "  return result != None\n",
        "\n",
        "print(contains_acronym(\"Instant messaging (IM) is a set of communication technologies used for text-based communication\")) # True\n",
        "print(contains_acronym(\"American Standard Code for Information Interchange (ASCII) is a character encoding standard for electronic communication\")) # True\n",
        "print(contains_acronym(\"Please do NOT enter without permission!\")) # False\n",
        "print(contains_acronym(\"PostScript is a fourth-generation programming language (4GL)\")) # True\n",
        "print(contains_acronym(\"Have fun using a self-contained underwater breathing apparatus (Scuba)!\")) # True\n"
      ],
      "metadata": {
        "id": "ZSaT7jlA26AV"
      },
      "execution_count": null,
      "outputs": []
    },
    {
      "cell_type": "markdown",
      "source": [
        "What does the r before the pattern string in re.search(r\"Py.*n\", sample.txt) indicate?\n",
        "\n",
        "Raw Strings\n",
        "\n",
        "What does the plus character [+] do in regex?\n",
        "\n",
        "Matches one or more occurrences of the character before it.\n",
        "\n"
      ],
      "metadata": {
        "id": "QlmpdbFV2QYR"
      }
    },
    {
      "cell_type": "markdown",
      "source": [
        "An intern implemented a zip code checker, but it works only with five-digit zip codes. Your task is to update the checker so that it includes all nine digits of the zip code; the leading five digits and the optional four after the hyphen. The zip code needs to be preceded by at least one space, and cannot be at the start of the text. Update the regular expression."
      ],
      "metadata": {
        "id": "a8TzZmba3NZj"
      }
    },
    {
      "cell_type": "code",
      "source": [
        "import re\n",
        "\n",
        "def correct_function(text):\n",
        "  result = re.search(r\"\\s\\d{5}(-\\d{4})?\", text)  # Corrected regex pattern with space\n",
        "  return result is not None\n",
        "\n",
        "def check_zip_code(text):\n",
        "  return correct_function(text)  # Call the correct_function\n",
        "\n",
        "# Call the check_zip_code function with test cases\n",
        "print(check_zip_code(\"The zip codes for New York are 10001 thru 11104.\"))  # True\n",
        "print(check_zip_code(\"90210 is a TV show\"))  # False (no space before 90210)\n",
        "print(check_zip_code(\"Their address is: 123 Main Street, Anytown, AZ 85258-0001.\"))  # True\n",
        "print(check_zip_code(\"The Parliament of Canada is at 111 Wellington St, Ottawa, ON K1A0A9.\"))  # False\n"
      ],
      "metadata": {
        "id": "5NRaR20M3PHk"
      },
      "execution_count": null,
      "outputs": []
    },
    {
      "cell_type": "markdown",
      "source": [
        "#### ◽**Theme 3: Advanced Regular Expressions**"
      ],
      "metadata": {
        "id": "SKSebztwL-JN"
      }
    },
    {
      "cell_type": "markdown",
      "source": [
        "##### 💠**Capturing Groups**"
      ],
      "metadata": {
        "id": "rwoMHQn4MQ-B"
      }
    },
    {
      "cell_type": "markdown",
      "source": [
        "Capturing groups in regex allow extracting matched portions for further processing. Created by enclosing patterns in parentheses, they store matched text that can be accessed using the `groups()` method or index notation.\n",
        "\n",
        "When working with names in \"lastname, firstname\" format, use `(\\w+)`, `(\\w+)` to capture both parts separately. The complete match is accessed at index 0, while captured groups start at index 1.\n",
        "\n",
        "To handle more complex names with spaces, dots, or dashes, expand the character class: `([a-zA-Z .-]+)`, `([a-zA-Z .-]+)`\n",
        "\n",
        "This pattern can be implemented in a rearrange_name function that returns \"firstname lastname\" when the pattern matches, or the original string if no match is found."
      ],
      "metadata": {
        "id": "b-N3CtXfMWSs"
      }
    },
    {
      "cell_type": "code",
      "execution_count": null,
      "metadata": {
        "id": "LpIK5rwgMaZs",
        "colab": {
          "base_uri": "https://localhost:8080/",
          "height": 128
        },
        "outputId": "a139ee95-fc5c-4a83-c057-dfacc7b7932a"
      },
      "outputs": [
        {
          "output_type": "stream",
          "name": "stdout",
          "text": [
            "<re.Match object; span=(0, 13), match='Lovelace, Ada'>\n",
            "('Lovelace', 'Ada')\n",
            "Lovelace, Ada\n",
            "Lovelace\n",
            "Ada\n"
          ]
        },
        {
          "output_type": "execute_result",
          "data": {
            "text/plain": [
              "'Ada Lovelace'"
            ],
            "application/vnd.google.colaboratory.intrinsic+json": {
              "type": "string"
            }
          },
          "metadata": {},
          "execution_count": 9
        }
      ],
      "source": [
        "import re\n",
        "result = re.search(r\" ^(\\w*), (\\w*)$\", \"Lovelace, Ada\")\n",
        "print(result)\n",
        "print(result.groups())\n",
        "print(result[0])\n",
        "print(result[1])\n",
        "print(result[2])\n",
        "\"{} {}\".format(result[2], result[1])"
      ]
    },
    {
      "cell_type": "code",
      "source": [
        "import re\n",
        "def rearrange_name(name):\n",
        "    result = re.search(r\"^(\\w*), (\\w*)$\", name)\n",
        "    if result is None:\n",
        "        return name\n",
        "    return \"{} {}\".format(result[2], result[1])\n",
        "rearrange_name(\"Lovelace, Ada\")\n",
        "rearrange_name(\"Lovelace, Ada\")"
      ],
      "metadata": {
        "colab": {
          "base_uri": "https://localhost:8080/",
          "height": 36
        },
        "id": "uqGEKGbrCHTU",
        "outputId": "5d8cf490-42d8-4978-e14f-dfaa4b153c3c"
      },
      "execution_count": null,
      "outputs": [
        {
          "output_type": "execute_result",
          "data": {
            "text/plain": [
              "'Ada Lovelace'"
            ],
            "application/vnd.google.colaboratory.intrinsic+json": {
              "type": "string"
            }
          },
          "metadata": {},
          "execution_count": 12
        }
      ]
    },
    {
      "cell_type": "code",
      "source": [
        "import re\n",
        "def rearrange_name(name):\n",
        "    result = re.search(r\"^(\\w*), (\\w*)$\", name)\n",
        "    if result is None:\n",
        "        return name\n",
        "    return \"{} {}\".format(result[2], result[1])\n",
        "rearrange_name(\"Ritchie, Dennis\")"
      ],
      "metadata": {
        "colab": {
          "base_uri": "https://localhost:8080/",
          "height": 36
        },
        "id": "KMB6O9mOCI9c",
        "outputId": "30fa997b-4732-49fd-a544-fcd881db7f2e"
      },
      "execution_count": null,
      "outputs": [
        {
          "output_type": "execute_result",
          "data": {
            "text/plain": [
              "'Dennis Ritchie'"
            ],
            "application/vnd.google.colaboratory.intrinsic+json": {
              "type": "string"
            }
          },
          "metadata": {},
          "execution_count": 13
        }
      ]
    },
    {
      "cell_type": "code",
      "source": [
        "import re\n",
        "def rearrange_name(name):\n",
        "    result = re.search(r\"^([\\w \\.-]*), ([\\w \\.-]*)$\", name)\n",
        "    if result == None:\n",
        "        return name\n",
        "    return \"{} {}\".format(result[2], result[1])\n",
        "rearrange_name(\"Hopper, Grace M.\")"
      ],
      "metadata": {
        "colab": {
          "base_uri": "https://localhost:8080/",
          "height": 36
        },
        "id": "OZMFTdT6CLUz",
        "outputId": "60b3e5d9-fc21-4076-c87a-e3d4f8611168"
      },
      "execution_count": null,
      "outputs": [
        {
          "output_type": "execute_result",
          "data": {
            "text/plain": [
              "'Grace M. Hopper'"
            ],
            "application/vnd.google.colaboratory.intrinsic+json": {
              "type": "string"
            }
          },
          "metadata": {},
          "execution_count": 14
        }
      ]
    },
    {
      "cell_type": "markdown",
      "source": [
        "##### 💠**More on Repetition Qualifiers**"
      ],
      "metadata": {
        "id": "1Byt_RPJMmO7"
      }
    },
    {
      "cell_type": "markdown",
      "source": [
        "Numeric repetition qualifiers in regex allow matching patterns a specific number of times using curly brackets:\n",
        "\n",
        "* `{n}`: Exactly n repetitions\n",
        "* `{n,m}`: Between n and m repetitions\n",
        "* `{n,}`: At least n repetitions\n",
        "* `{,m}`: Up to m repetitions (from zero)\n",
        "\n",
        "For example, `[a-zA-Z]{5}` matches exactly 5 letters. To match complete words of exactly 5 letters, use `\\b[a-zA-Z]{5}\\b` where `\\b` marks word boundaries.\n",
        "\n",
        "The findall function returns all matches rather than just the first one. For instance, `[a-zA-Z0-9]{5,10}` finds all alphanumeric sequences between 5-10 characters long, while `s[a-zA-Z0-9]{,20}` matches \"s\" followed by up to 20 alphanumeric characters."
      ],
      "metadata": {
        "id": "JnE9npC4MnbI"
      }
    },
    {
      "cell_type": "code",
      "execution_count": null,
      "metadata": {
        "id": "t8jr-95PM38o",
        "colab": {
          "base_uri": "https://localhost:8080/"
        },
        "outputId": "911a1722-c67e-4891-af3d-a639c19d7cdb"
      },
      "outputs": [
        {
          "output_type": "stream",
          "name": "stdout",
          "text": [
            "<re.Match object; span=(2, 7), match='ghost'>\n"
          ]
        }
      ],
      "source": [
        "import re\n",
        "print(re.search(r\"[a-zA-Z]{5}\", \"a ghost\"))"
      ]
    },
    {
      "cell_type": "code",
      "source": [
        "import re\n",
        "print(re.search(r\"[a-zA-Z]{5}\", \"a scary ghost appeared\"))"
      ],
      "metadata": {
        "colab": {
          "base_uri": "https://localhost:8080/"
        },
        "id": "lNRcdbafGnq4",
        "outputId": "59aa41af-4e4b-4456-835a-58bb5a46bc48"
      },
      "execution_count": null,
      "outputs": [
        {
          "output_type": "stream",
          "name": "stdout",
          "text": [
            "<re.Match object; span=(2, 7), match='scary'>\n"
          ]
        }
      ]
    },
    {
      "cell_type": "code",
      "source": [
        "import re\n",
        "print(re.findall(r\"[a-zA-Z]{5}\", \"a scary ghost appeared\"))"
      ],
      "metadata": {
        "colab": {
          "base_uri": "https://localhost:8080/"
        },
        "id": "HbNof2xZGoCD",
        "outputId": "df725774-6f6b-491d-e3b3-5fc1ee679fec"
      },
      "execution_count": null,
      "outputs": [
        {
          "output_type": "stream",
          "name": "stdout",
          "text": [
            "['scary', 'ghost', 'appea']\n"
          ]
        }
      ]
    },
    {
      "cell_type": "code",
      "source": [
        "import re\n",
        "re.findall(r\"\\b[a-zA-Z]{5}\\b\", \"A scary ghost appeared\")"
      ],
      "metadata": {
        "colab": {
          "base_uri": "https://localhost:8080/"
        },
        "id": "G302fTGOGoPx",
        "outputId": "0b97f5ce-2e6f-4567-a0b2-7047119baa1e"
      },
      "execution_count": null,
      "outputs": [
        {
          "output_type": "execute_result",
          "data": {
            "text/plain": [
              "['scary', 'ghost']"
            ]
          },
          "metadata": {},
          "execution_count": 18
        }
      ]
    },
    {
      "cell_type": "code",
      "source": [
        "import re\n",
        "print(re.findall(r\"\\w{5,10}\", \"I really like strawberries\"))"
      ],
      "metadata": {
        "colab": {
          "base_uri": "https://localhost:8080/"
        },
        "id": "eiUu96LwGt2_",
        "outputId": "842abc44-3680-4649-da12-7b592b97a565"
      },
      "execution_count": null,
      "outputs": [
        {
          "output_type": "stream",
          "name": "stdout",
          "text": [
            "['really', 'strawberri']\n"
          ]
        }
      ]
    },
    {
      "cell_type": "code",
      "source": [
        "import re\n",
        "print(re.findall(r\"\\w{5,}\", \"I really like strawberries\"))"
      ],
      "metadata": {
        "colab": {
          "base_uri": "https://localhost:8080/"
        },
        "id": "gNNomu2MGvmX",
        "outputId": "8f07459b-977a-4d70-fb4e-8e0dc0c582b0"
      },
      "execution_count": null,
      "outputs": [
        {
          "output_type": "stream",
          "name": "stdout",
          "text": [
            "['really', 'strawberries']\n"
          ]
        }
      ]
    },
    {
      "cell_type": "code",
      "source": [
        "import re\n",
        "print(re.search(r\"s\\w{,20}\", \"I really like strawberries\"))"
      ],
      "metadata": {
        "colab": {
          "base_uri": "https://localhost:8080/"
        },
        "id": "apkOulrfGxm8",
        "outputId": "6036fe09-0c64-4850-9497-3b8586536a09"
      },
      "execution_count": null,
      "outputs": [
        {
          "output_type": "stream",
          "name": "stdout",
          "text": [
            "<re.Match object; span=(14, 26), match='strawberries'>\n"
          ]
        }
      ]
    },
    {
      "cell_type": "markdown",
      "source": [
        "**Reflection:**"
      ],
      "metadata": {
        "id": "OYt1CNYTLDwk"
      }
    },
    {
      "cell_type": "code",
      "source": [
        "import re\n",
        "\n",
        "def long_words(text):\n",
        "  pattern = r\"\\b\\w{7,}\\b\"\n",
        "  result = re.findall(pattern, text)\n",
        "  return result\n",
        "\n",
        "# Test cases\n",
        "print(long_words(\"I like to drink coffee in the morning.\"))  # ['morning']\n",
        "print(long_words(\"I also have a taste for hot chocolate in the afternoon.\"))  # ['chocolate', 'afternoon']\n",
        "print(long_words(\"I never drink tea late at night.\"))  # []"
      ],
      "metadata": {
        "colab": {
          "base_uri": "https://localhost:8080/"
        },
        "id": "fGGePhxWLD_o",
        "outputId": "d68e19ce-4a26-427a-f12e-ee4cbc160208"
      },
      "execution_count": null,
      "outputs": [
        {
          "output_type": "stream",
          "name": "stdout",
          "text": [
            "['morning']\n",
            "['chocolate', 'afternoon']\n",
            "[]\n"
          ]
        }
      ]
    },
    {
      "cell_type": "markdown",
      "source": [
        "##### 💠**Extracting a PID Using regexes in Python**"
      ],
      "metadata": {
        "id": "3FHGdKF5M507"
      }
    },
    {
      "cell_type": "markdown",
      "source": [
        "The process ID extraction example uses capturing groups to get numbers between square brackets:\n",
        "\n",
        "`[(\\d+)]` matches a pattern where:\n",
        "\n",
        "* `[` is an escaped opening square bracket\n",
        "* `(\\d+)` is a capturing group matching one or more digits\n",
        "* `]` is an escaped closing square bracket\n",
        "\n",
        "To safely extract PIDs from log lines, the extract_pid function:\n",
        "\n",
        "1. Searches for the pattern in the string\n",
        "2. Checks if the result exists (not None)\n",
        "3. Returns the first capturing group if found\n",
        "4. Returns an empty string if no match exists\n",
        "\n",
        "This approach prevents errors when processing lines without PIDs. For example, given \"[12345]\" it returns \"12345\", while for strings without this pattern it returns an empty string."
      ],
      "metadata": {
        "id": "9eMuZjFOM61A"
      }
    },
    {
      "cell_type": "code",
      "execution_count": null,
      "metadata": {
        "id": "JAaYbbofM75o",
        "colab": {
          "base_uri": "https://localhost:8080/"
        },
        "outputId": "a230891e-06b9-47bd-8d69-d623d57e6bf6"
      },
      "outputs": [
        {
          "output_type": "stream",
          "name": "stdout",
          "text": [
            "12345\n"
          ]
        }
      ],
      "source": [
        "import re\n",
        "log = \"July 31 07:51:48 mycomputer bad_process[12345]: ERROR Performing package upgrade\"\n",
        "regex = r\"\\[(\\d+)\\]\"\n",
        "result = re.search(regex, log)\n",
        "print(result[1])"
      ]
    },
    {
      "cell_type": "code",
      "source": [
        "import re\n",
        "log = \"July 31 07:51:48 mycomputer bad_process[12345]: ERROR Performing package upgrade\"\n",
        "regex = r\"\\[(\\d+)\\]\"\n",
        "result = re.search(regex, log)\n",
        "result = re.search(regex, \"A completely different string that also has numbers [34567]\")\n",
        "print(result[1])"
      ],
      "metadata": {
        "colab": {
          "base_uri": "https://localhost:8080/"
        },
        "id": "y1tP_1NzsQYi",
        "outputId": "fe61b41c-1b69-4654-8ad3-dd026e534fa3"
      },
      "execution_count": null,
      "outputs": [
        {
          "output_type": "stream",
          "name": "stdout",
          "text": [
            "34567\n"
          ]
        }
      ]
    },
    {
      "cell_type": "code",
      "source": [
        "import re\n",
        "log = \"July 31 07:51:48 mycomputer bad_process[12345]: ERROR Performing package upgrade\"\n",
        "regex = r\"\\[(\\d+)\\]\"\n",
        "result = re.search(regex, log)\n",
        "result = re.search(regex, \"A completely different string that also has numbers [34567]\")\n",
        "result = re.search(regex, \"99 elephants in a [cage]\")\n",
        "print(result[1])\n",
        "#Note that this print command results in an error as shown in the video."
      ],
      "metadata": {
        "colab": {
          "base_uri": "https://localhost:8080/",
          "height": 203
        },
        "id": "TT4pokI8sSZd",
        "outputId": "1e15cbc9-41c8-4e32-91a5-d61fb52cd8ee"
      },
      "execution_count": null,
      "outputs": [
        {
          "output_type": "error",
          "ename": "TypeError",
          "evalue": "'NoneType' object is not subscriptable",
          "traceback": [
            "\u001b[0;31m---------------------------------------------------------------------------\u001b[0m",
            "\u001b[0;31mTypeError\u001b[0m                                 Traceback (most recent call last)",
            "\u001b[0;32m<ipython-input-12-86ccb106aa99>\u001b[0m in \u001b[0;36m<cell line: 0>\u001b[0;34m()\u001b[0m\n\u001b[1;32m      5\u001b[0m \u001b[0mresult\u001b[0m \u001b[0;34m=\u001b[0m \u001b[0mre\u001b[0m\u001b[0;34m.\u001b[0m\u001b[0msearch\u001b[0m\u001b[0;34m(\u001b[0m\u001b[0mregex\u001b[0m\u001b[0;34m,\u001b[0m \u001b[0;34m\"A completely different string that also has numbers [34567]\"\u001b[0m\u001b[0;34m)\u001b[0m\u001b[0;34m\u001b[0m\u001b[0;34m\u001b[0m\u001b[0m\n\u001b[1;32m      6\u001b[0m \u001b[0mresult\u001b[0m \u001b[0;34m=\u001b[0m \u001b[0mre\u001b[0m\u001b[0;34m.\u001b[0m\u001b[0msearch\u001b[0m\u001b[0;34m(\u001b[0m\u001b[0mregex\u001b[0m\u001b[0;34m,\u001b[0m \u001b[0;34m\"99 elephants in a [cage]\"\u001b[0m\u001b[0;34m)\u001b[0m\u001b[0;34m\u001b[0m\u001b[0;34m\u001b[0m\u001b[0m\n\u001b[0;32m----> 7\u001b[0;31m \u001b[0mprint\u001b[0m\u001b[0;34m(\u001b[0m\u001b[0mresult\u001b[0m\u001b[0;34m[\u001b[0m\u001b[0;36m1\u001b[0m\u001b[0;34m]\u001b[0m\u001b[0;34m)\u001b[0m\u001b[0;34m\u001b[0m\u001b[0;34m\u001b[0m\u001b[0m\n\u001b[0m\u001b[1;32m      8\u001b[0m \u001b[0;31m#Note that this print command results in an error as shown in the video.\u001b[0m\u001b[0;34m\u001b[0m\u001b[0;34m\u001b[0m\u001b[0m\n",
            "\u001b[0;31mTypeError\u001b[0m: 'NoneType' object is not subscriptable"
          ]
        }
      ]
    },
    {
      "cell_type": "code",
      "source": [
        "import re\n",
        "log = \"July 31 07:51:48 mycomputer bad_process[12345]: ERROR Performing package upgrade\"\n",
        "regex = r\"\\[(\\d+)\\]\"\n",
        "result = re.search(regex, log)\n",
        "result = re.search(regex, \"A completely different string that also has numbers [34567]\")\n",
        "result = re.search(regex, \"99 elephants in a [cage]\")\n",
        "def extract_pid(log_line):\n",
        "    regex = r\"\\[(\\d+)\\]\"\n",
        "    result = re.search(regex, log_line)\n",
        "    if result is None:\n",
        "        return \"\"\n",
        "    return result[1]\n",
        "print(extract_pid(log))"
      ],
      "metadata": {
        "colab": {
          "base_uri": "https://localhost:8080/"
        },
        "id": "LheYMsqTsTul",
        "outputId": "1857356f-f0be-42e4-ffe4-3ad56448741a"
      },
      "execution_count": null,
      "outputs": [
        {
          "output_type": "stream",
          "name": "stdout",
          "text": [
            "12345\n"
          ]
        }
      ]
    },
    {
      "cell_type": "code",
      "source": [
        "import re\n",
        "log = \"July 31 07:51:48 mycomputer bad_process[12345]: ERROR Performing package upgrade\"\n",
        "regex = r\"\\[(\\d+)\\]\"\n",
        "result = re.search(regex, log)\n",
        "result = re.search(regex, \"A completely different string that also has numbers [34567]\")\n",
        "result = re.search(regex, \"99 elephants in a [cage]\")\n",
        "def extract_pid(log_line):\n",
        "    regex = r\"\\[(\\d+)\\]\"\n",
        "    result = re.search(regex, log_line)\n",
        "    if result is None:\n",
        "        return \"\"\n",
        "    return result[1]\n",
        "print(extract_pid(\"99 elephants in a [cage]\"))"
      ],
      "metadata": {
        "colab": {
          "base_uri": "https://localhost:8080/"
        },
        "id": "QDNKXbnesVLm",
        "outputId": "f0d6eed2-0827-45f0-cebc-cd27a0031d3b"
      },
      "execution_count": null,
      "outputs": [
        {
          "output_type": "stream",
          "name": "stdout",
          "text": [
            "\n"
          ]
        }
      ]
    },
    {
      "cell_type": "markdown",
      "source": [
        "**Reflection:** Add to the regular expression used in the extract_pid function, to return the uppercase message in parenthesis, after the process id."
      ],
      "metadata": {
        "id": "RzlM8HtRt3tZ"
      }
    },
    {
      "cell_type": "code",
      "source": [
        "import re\n",
        "def extract_pid(log_line):\n",
        "    regex = r\"\\[(\\d+)\\]:\\s+([A-Z]+)\"\n",
        "    result = re.search(regex, log_line)\n",
        "    if result is None:\n",
        "        return None\n",
        "    return \"{} ({})\".format(result.group(1), result.group(2))\n",
        "\n",
        "print(extract_pid(\"July 31 07:51:48 mycomputer bad_process[12345]: ERROR Performing package upgrade\")) # 12345 (ERROR)\n",
        "print(extract_pid(\"99 elephants in a [cage]\")) # None\n",
        "print(extract_pid(\"A string that also has numbers [34567] but no uppercase message\")) # None\n",
        "print(extract_pid(\"July 31 08:08:08 mycomputer new_process[67890]: RUNNING Performing backup\")) # 67890 (RUNNING)"
      ],
      "metadata": {
        "colab": {
          "base_uri": "https://localhost:8080/"
        },
        "id": "UcErWkrxt5x_",
        "outputId": "02ca6319-2abe-43c9-c6f3-6971e9d68381"
      },
      "execution_count": null,
      "outputs": [
        {
          "output_type": "stream",
          "name": "stdout",
          "text": [
            "12345 (ERROR)\n",
            "None\n",
            "None\n",
            "67890 (RUNNING)\n"
          ]
        }
      ]
    },
    {
      "cell_type": "code",
      "source": [
        "# Regular Expression Explanation:\n",
        "    # r\"\\[(\\d+)\\]:\\s+([A-Z]+)\"\n",
        "    #\n",
        "    # \\[         => Match a literal '[' character. The backslash escapes the special meaning of '['.\n",
        "    # (\\d+)      => Match one or more digits and capture them in group 1 (this is the PID).\n",
        "    # \\]         => Match a literal ']' character.\n",
        "    # :          => Match a literal colon ':'.\n",
        "    # \\s+        => Match one or more whitespace characters (space, tab, etc.).\n",
        "    # ([A-Z]+)   => Match one or more uppercase letters and capture them in group 2 (the status message)."
      ],
      "metadata": {
        "id": "6ZpFggYhvwtN"
      },
      "execution_count": null,
      "outputs": []
    },
    {
      "cell_type": "markdown",
      "source": [
        "##### 💠**Splitting and Replacing**"
      ],
      "metadata": {
        "id": "yf4KTrm9NE_2"
      }
    },
    {
      "cell_type": "markdown",
      "source": [
        "* **The `split()` Function**\n",
        "\n",
        "Divides text using regex patterns as separators\n",
        "\n",
        "Example: `re.split(r\"[.?!]\", text)` splits text into sentences\n",
        "Using capturing parentheses (pattern) keeps separators in the result list\n",
        "\n",
        "* **The `sub()` Function**\n",
        "\n",
        "Substitutes matching patterns with replacement text\n",
        "For anonymizing emails: `re.sub(r\"[\\w.%+-]+@[\\w.-]+\", \"[REDACTED]\", text)`\n",
        "\n",
        "Captured groups can be referenced in replacements using `\\1`, `\\2`, etc.\n",
        "\n",
        "Example for name rearrangement: `re.sub(r\"([a-zA-Z \\.-]+), ([a-zA-Z \\.-]+)\", r\"\\2 \\1\", name)`\n",
        "\n",
        "These functions expand regex capabilities for text processing, making them powerful tools for data manipulation despite their complexity."
      ],
      "metadata": {
        "id": "kwxmVnxUNGK8"
      }
    },
    {
      "cell_type": "code",
      "execution_count": null,
      "metadata": {
        "id": "SvLlN9yUNIoI",
        "colab": {
          "base_uri": "https://localhost:8080/"
        },
        "outputId": "3e049d8f-da01-484c-97d7-8c20d4b33ad0"
      },
      "outputs": [
        {
          "output_type": "execute_result",
          "data": {
            "text/plain": [
              "['One sentence', ' Another one', ' And the last one', '']"
            ]
          },
          "metadata": {},
          "execution_count": 13
        }
      ],
      "source": [
        "import re\n",
        "re.split(r\"[.?!]\", \"One sentence. Another one? And the last one!\")"
      ]
    },
    {
      "cell_type": "code",
      "source": [
        "import re\n",
        "re.split(r\"([.?!])\", \"One sentence. Another one? And the last one!\")"
      ],
      "metadata": {
        "colab": {
          "base_uri": "https://localhost:8080/"
        },
        "id": "-kwGi4sbwENK",
        "outputId": "68786fc4-74cc-42f1-8224-b2587ceed3af"
      },
      "execution_count": null,
      "outputs": [
        {
          "output_type": "execute_result",
          "data": {
            "text/plain": [
              "['One sentence', '.', ' Another one', '?', ' And the last one', '!', '']"
            ]
          },
          "metadata": {},
          "execution_count": 14
        }
      ]
    },
    {
      "cell_type": "code",
      "source": [
        "import re\n",
        "re.sub(r\"[\\w.%+-]+@[\\w.-]+\", \"[REDACTED]\", \"Received an email for go_nuts95@my.example.com\")"
      ],
      "metadata": {
        "colab": {
          "base_uri": "https://localhost:8080/",
          "height": 36
        },
        "id": "6NAkW2BywEWl",
        "outputId": "311a899e-ffee-445a-8be0-4712c5f4e5b4"
      },
      "execution_count": null,
      "outputs": [
        {
          "output_type": "execute_result",
          "data": {
            "text/plain": [
              "'Received an email for [REDACTED]'"
            ],
            "application/vnd.google.colaboratory.intrinsic+json": {
              "type": "string"
            }
          },
          "metadata": {},
          "execution_count": 15
        }
      ]
    },
    {
      "cell_type": "code",
      "source": [
        "import re\n",
        "re.sub(r\"^([\\w .-]*), ([\\w .-]*)$\", r\"\\2 \\1\", \"Lovelace, Ada\")"
      ],
      "metadata": {
        "colab": {
          "base_uri": "https://localhost:8080/",
          "height": 36
        },
        "id": "CSOXTPwLwEfK",
        "outputId": "ff7de60a-48fe-4e2d-ca1d-e3b6d00f42dc"
      },
      "execution_count": null,
      "outputs": [
        {
          "output_type": "execute_result",
          "data": {
            "text/plain": [
              "'Ada Lovelace'"
            ],
            "application/vnd.google.colaboratory.intrinsic+json": {
              "type": "string"
            }
          },
          "metadata": {},
          "execution_count": 16
        }
      ]
    },
    {
      "cell_type": "code",
      "source": [
        "re.split(r\"the|a\", \"One sentence. Another one? And the last one!\")"
      ],
      "metadata": {
        "colab": {
          "base_uri": "https://localhost:8080/"
        },
        "id": "HXXETcRTz9MQ",
        "outputId": "d5fe6990-40e5-4cf2-e7bf-bd0894f1a92a"
      },
      "execution_count": null,
      "outputs": [
        {
          "output_type": "execute_result",
          "data": {
            "text/plain": [
              "['One sentence. Ano', 'r one? And ', ' l', 'st one!']"
            ]
          },
          "metadata": {},
          "execution_count": 17
        }
      ]
    },
    {
      "cell_type": "markdown",
      "source": [
        "##### 💠**Practice**"
      ],
      "metadata": {
        "id": "N1d2GUprNUzk"
      }
    },
    {
      "cell_type": "markdown",
      "source": [
        "**Advanced regex techniques expand pattern matching capabilities:**\n",
        "\n",
        "Alterations use pipe symbol `(|)` to match any one of multiple options:\n",
        "\n",
        "`r\"location.*(London|Berlin|Madrid)\"` matches `\"location\"` followed by any of the three cities\n",
        "\n",
        "Position anchors limit where matches can occur:\n",
        "\n",
        "`^` at beginning matches only at start of string\n",
        "`$` at end matches only at end of string\n",
        "Example: `r\"^My name is (\\w+)\"` only matches if string begins with `\"My name is\"`\n",
        "\n",
        "**Character ranges match single characters from defined sets:**\n",
        "\n",
        "`r\"[A-Z]\"` matches any uppercase letter\n",
        "`r\"[0-9$-,.]\"` matches digits or specific symbols\n",
        "Combined with quantities: `r\"([0-9]{3}-[0-9]{3}-[0-9]{4})\"` matches phone numbers like \"888-123-7612\"\n",
        "\n",
        "Backreferences in substitutions refer to captured groups:\n",
        "\n",
        "`re.sub(r\"([A-Z]).\\s+(\\w+)\", r\"Ms. \\2\", text)` changes \"A. Weber\" to \"Ms. Weber\"\n",
        "\n",
        "Lookahead matches patterns only when followed by another pattern:\n",
        "\n",
        "`r\"(Test\\d)-(?=Passed)\"` matches Test numbers only if followed by \"Passed\""
      ],
      "metadata": {
        "id": "U1aaSjUaNZh2"
      }
    },
    {
      "cell_type": "markdown",
      "source": [
        "Question 1\n",
        "You’re working with a CSV file that contains employee information. Each record has a name field, followed by a phone number field, and a role field. The phone number field contains U.S. phone numbers and needs to be modified to the international format, with +1- in front of the phone number. The rest of the phone number should not change. Fill in the regular expression, using groups, to use the transform_record() function to do that."
      ],
      "metadata": {
        "id": "56KwlRae048X"
      }
    },
    {
      "cell_type": "code",
      "execution_count": null,
      "metadata": {
        "id": "Xm_TCJLVNa7a"
      },
      "outputs": [],
      "source": [
        "import re\n",
        "def transform_record(record):\n",
        "  new_record = re.sub(r\"(\\d{3}-\\d{3}-\\d{4}|\\d{3}-\\d{7})\", r\"+1-\\1\", record)\n",
        "  return new_record\n",
        "\n",
        "print(transform_record(\"Sabrina Green,802-867-5309,System Administrator\"))\n",
        "# Sabrina Green,+1-802-867-5309,System Administrator\n",
        "\n",
        "print(transform_record(\"Eli Jones,684-3481127,IT specialist\"))\n",
        "# Eli Jones,+1-684-3481127,IT specialist\n",
        "\n",
        "print(transform_record(\"Melody Daniels,846-687-7436,Programmer\"))\n",
        "# Melody Daniels,+1-846-687-7436,Programmer\n",
        "\n",
        "print(transform_record(\"Charlie Rivera,698-746-3357,Web Developer\"))\n",
        "# Charlie Rivera,+1-698-746-3357,Web Developer"
      ]
    },
    {
      "cell_type": "markdown",
      "source": [
        "The multi_vowel_words() function returns all words with 3 or more consecutive vowels (a, e, i, o, u). Fill in the regular expression to do that."
      ],
      "metadata": {
        "id": "Zyx9590P1J8T"
      }
    },
    {
      "cell_type": "code",
      "source": [
        "import re\n",
        "def multi_vowel_words(text):\n",
        "  pattern = r'\\b\\w*[aeiou]{3,}\\w*\\b'\n",
        "  result = re.findall(pattern, text)\n",
        "  return result\n",
        "\n",
        "print(multi_vowel_words(\"Life is beautiful\"))\n",
        "# ['beautiful']\n",
        "\n",
        "print(multi_vowel_words(\"Obviously, the queen is courageous and gracious.\"))\n",
        "# ['Obviously', 'queen', 'courageous', 'gracious']\n",
        "\n",
        "print(multi_vowel_words(\"The rambunctious children had to sit quietly and await their delicious dinner.\"))\n",
        "# ['rambunctious', 'quietly', 'delicious']\n",
        "\n",
        "print(multi_vowel_words(\"The order of a data queue is First In First Out (FIFO)\"))\n",
        "# ['queue']\n",
        "\n",
        "print(multi_vowel_words(\"Hello world!\"))\n",
        "# []"
      ],
      "metadata": {
        "id": "1hBGmYw21KZE"
      },
      "execution_count": null,
      "outputs": []
    },
    {
      "cell_type": "markdown",
      "source": [
        "When capturing regex groups, what datatype does the groups method return?"
      ],
      "metadata": {
        "id": "NpScSkKN1bQU"
      }
    },
    {
      "cell_type": "markdown",
      "source": [
        "A tuple"
      ],
      "metadata": {
        "id": "uTsdGxx01kFr"
      }
    },
    {
      "cell_type": "markdown",
      "source": [
        "The transform_comments() function converts comments in a Python script into those usable by a C compiler. This means looking for text that begins with a hash mark (#) and replacing it with double slashes (//), which is the C single-line comment indicator. For the purpose of this exercise, we'll ignore the possibility of a hash mark embedded inside of a Python command, and assume that it's only used to indicate a comment. We also want to treat repetitive hash marks (##), (###), etc., as a single comment indicator, to be replaced with just (//) and not (#//) or (//#). Fill in the parameters of the substitution method to complete this function:"
      ],
      "metadata": {
        "id": "iAskeudh1j3b"
      }
    },
    {
      "cell_type": "code",
      "source": [
        "import re\n",
        "def transform_comments(line_of_code):\n",
        "  result = re.sub(r'#+', '//', line_of_code)\n",
        "  return result\n",
        "\n",
        "print(transform_comments(\"### Start of program\"))\n",
        "# Should be \"// Start of program\"\n",
        "print(transform_comments(\"  number = 0   ## Initialize the variable\"))\n",
        "# Should be \"  number = 0   // Initialize the variable\"\n",
        "print(transform_comments(\"  number += 1   # Increment the variable\"))\n",
        "# Should be \"  number += 1   // Increment the variable\"\n",
        "print(transform_comments(\"  return(number)\"))\n",
        "# Should be \"  return(number)\""
      ],
      "metadata": {
        "id": "qBNxWvoN1kT6"
      },
      "execution_count": null,
      "outputs": []
    },
    {
      "cell_type": "markdown",
      "source": [
        "The convert_phone_number() function checks for a U.S. phone number format: XXX-XXX-XXXX (3 digits followed by a dash, 3 more digits followed by a dash, and 4 digits), and converts it to a more formal format that looks like this: (XXX) XXX-XXXX. Fill in the regular expression to complete this function."
      ],
      "metadata": {
        "id": "8zcuI5LG1wm6"
      }
    },
    {
      "cell_type": "code",
      "source": [
        "import re\n",
        "def convert_phone_number(phone):\n",
        "  result = re.sub(r'(\\b\\d{3})-(\\d{3})-(\\d{4}\\b)', r'(\\1) \\2-\\3', phone)\n",
        "  return result\n",
        "\n",
        "print(convert_phone_number(\"My number is 212-345-9999.\")) # My number is (212) 345-9999.\n",
        "print(convert_phone_number(\"Please call 888-555-1234\")) # Please call (888) 555-1234\n",
        "print(convert_phone_number(\"123-123-12345\")) # 123-123-12345\n",
        "print(convert_phone_number(\"Phone number of Buckingham Palace is +44 303 123 7300\"))\n",
        "# Phone number of Buckingham Palace is +44 303 123 7300"
      ],
      "metadata": {
        "id": "IGwwxYR51xAE"
      },
      "execution_count": null,
      "outputs": []
    },
    {
      "cell_type": "markdown",
      "source": [
        "#### ◽**Theme 4: Module Review**"
      ],
      "metadata": {
        "id": "xhcOPtEfRAHl"
      }
    },
    {
      "cell_type": "markdown",
      "source": [
        "##### 💠**Glossary terms from course 2, module 3**"
      ],
      "metadata": {
        "id": "nYKweQyXRAHl"
      }
    },
    {
      "cell_type": "markdown",
      "source": [
        "**Terms and definitions from course 2, module 3**\n",
        "\n",
        "**Alteration:** RegEx that matches any one of the alternatives separated by the pipe symbol\n",
        "\n",
        "**Backreference:** This is applied when using re.sub( ) to substitute the value of a capture group into the output\n",
        "\n",
        "**Character classes:** These are written inside square brackets and let us list the characters we want to match inside of those brackets\n",
        "\n",
        "**Character ranges:** Ranges used to match a single character against a set of possibilities\n",
        "\n",
        "**grep:** An especially easy to use yet extremely powerful tool for applying RegExes\n",
        "\n",
        "**Lookahead:** RegEx that matches a pattern only if it’s followed by another pattern\n",
        "\n",
        "**Regular expression:** A search query for text that's expressed by string pattern, also known as RegEx or RegExp\n",
        "\n",
        "**Wildcard:** A character that can match more than one character"
      ],
      "metadata": {
        "id": "t4hcBJCVt-Hl"
      }
    },
    {
      "cell_type": "markdown",
      "source": [
        "#####💠**Qwiklabs assessment: Work with regular expressions**"
      ],
      "metadata": {
        "id": "GUhfOQKvRAHm"
      }
    },
    {
      "cell_type": "markdown",
      "source": [
        "**Introduction:**\n",
        "It's time to put your new skills to the test! In this lab, you'll have to find the users using an old email domain in a big list using regular expressions.\n",
        "\n",
        "**What you'll do**\n",
        "* Replacing the old domain name (abc.edu) with a new domain name (xyz.edu).\n",
        "\n",
        "* Storing all domain names, including the updated ones, in a new file.\n",
        "\n",
        "Please note that there is a graded quiz that follows this lab. You must complete the lab before attempting the quiz. The quiz will assess your comprehension of the key concepts and procedures covered in the lab.\n",
        "\n",
        "Here's what you can do to prepare:\n",
        "\n",
        "* Pay close attention to the instructions and explanations provided during the lab session.\n",
        "\n",
        "* Actively participate in the lab activities and take notes throughout.\n",
        "\n",
        "* Review your lab notes before taking the quiz.\n",
        "\n",
        "**Pro tip:**\n",
        "You are allowed to refer to your completed lab notes during the quiz."
      ],
      "metadata": {
        "id": "m3_b6nWJRAHm"
      }
    },
    {
      "cell_type": "markdown",
      "source": [
        "Data directory in `cd data`. `ls`. `user_emails.csv`. `cat user_email.csv` -> Access to Python with `cd ~/scripts`. `ls`. `script.py`. Use this file to use regex to find all the instances with the old domain `(\"abc.edu\")` in the user_email.csv and replace them with the new domain `(\"xyz.edu\")`. The file has already the functions. Just complete it to make it work.\n",
        "\n",
        "Let's update permissions `sudo schmod 777 script.py`\n",
        "`nano script.py`. `import csv`, `import re`.\n",
        "\n",
        "**IDENTIFY THE OLD DOMAIN**\n",
        "```\n",
        "def contains_domain(address, domain):\n",
        "  domain_pattern = r'[\\w\\.-]+@'+domain+'$'\n",
        "  if re.match(domain_pattern, address):\n",
        "    return True\n",
        "  return False\n",
        "```\n",
        "**REPLACE THE DOMAIN NAME**\n",
        "```\n",
        "def replace_domain(address, old_domain, new_domain):\n",
        "  old_domain_pattern = r'' + old_domain + '$'\n",
        "  address = re.sub(old_domain_pattern, new_domain, address)\n",
        "  return address\n",
        "```\n",
        "**Write a CSV file with replaced domain from main**\n",
        "```#!/usr/bin/env python3\n",
        "\n",
        "import re\n",
        "import csv\n",
        "\n",
        "def contains_domain(address, domain):\n",
        "    \"\"\"Returns True if the email address contains the given domain in the domain position, False if not.\"\"\"\n",
        "    domain_pattern = r'[\\w\\.-]+@' + domain + '$'\n",
        "    if re.match(domain_pattern, address):\n",
        "        return True\n",
        "    return False\n",
        "\n",
        "def replace_domain(address, old_domain, new_domain):\n",
        "    \"\"\"Replaces the old domain with the new domain in the received address.\"\"\"\n",
        "    old_domain_pattern = r'' + old_domain + '$'\n",
        "    address = re.sub(old_domain_pattern, new_domain, address)\n",
        "    return address\n",
        "\n",
        "def main():\n",
        "    \"\"\"Processes the list of emails, replacing any instances of the old domain with the new domain.\"\"\"\n",
        "    old_domain, new_domain = 'abc.edu', 'xyz.edu'\n",
        "    csv_file_location = '/home/student/data/user_emails.csv'\n",
        "    report_file = '/home/student/data/updated_user_emails.csv'\n",
        "\n",
        "    user_email_list = []\n",
        "    old_domain_email_list = []\n",
        "    new_domain_email_list = []\n",
        "\n",
        "    with open(csv_file_location, 'r') as f:\n",
        "        user_data_list = list(csv.reader(f))\n",
        "        user_email_list = [data[1].strip() for data in user_data_list[1:]]\n",
        "\n",
        "        for email_address in user_email_list:\n",
        "            if contains_domain(email_address, old_domain):\n",
        "                old_domain_email_list.append(email_address)\n",
        "                replaced_email = replace_domain(email_address, old_domain, new_domain)\n",
        "                new_domain_email_list.append(replaced_email)\n",
        "\n",
        "        email_index = user_data_list[0].index('Email Address')\n",
        "\n",
        "        for user in user_data_list[1:]:\n",
        "            for old_email, new_email in zip(old_domain_email_list, new_domain_email_list):\n",
        "                if user[email_index].strip() == old_email:\n",
        "                    user[email_index] = new_email\n",
        "\n",
        "    with open(report_file, 'w+') as output_file:\n",
        "        writer = csv.writer(output_file)\n",
        "        writer.writerows(user_data_list)\n",
        "\n",
        "main()\n",
        "\n",
        "```\n",
        "Run `./script.py`\n",
        "`ls ~/data`\n",
        "`cat /dataupdated_user_emails.csv`\n",
        "\n",
        "Expected result:\n",
        "\n",
        "```\n",
        "Full Name, Email Address\n",
        "Blossom Gill, blossom@xyz.edu\n",
        "Hayes Delgado, nonummy@utnisia.com\n",
        "Petra Jones, ac@xyz.edu\n",
        "Oleg Noel, noel@liberomauris.ca\n",
        "Ahmed Miller, ahmed.miller@nequenonquam.co.uk\n",
        "Macaulay Douglas, mdouglas@xyz.edu\n",
        "Aurora Grant, enim.non@xyz.edu\n",
        "Madison Mcintosh, mcintosh@nisiaenean.net\n",
        "Montana Powell, montanap@semmagna.org\n",
        "Rogan Robinson, rr.robinson@xyz.edu\n",
        "Simon Rivera, sri@xyz.edu\n",
        "Benedict Pacheco, bpacheco@xyz.edu\n",
        "Maisie Hendrix, mai.hendrix@xyz.edu\n",
        "Xaviera Gould, xlg@utnisia.net\n",
        "Oren Rollins, oren@semmagna.com\n",
        "Flavia Santiago, flavia@utnisia.net\n",
        "Jackson Owens, jackowens@xyz.edu\n",
        "Britanni Humphrey, britanni@ut.net\n",
        "Kirk Nixon, kirknixon@xyz.edu\n",
        "Bree Campbell, breee@utnisia.net\n",
        "\n",
        "```\n",
        "\n"
      ],
      "metadata": {
        "id": "CWRoba-8vw68"
      }
    },
    {
      "cell_type": "markdown",
      "source": [
        "##### 💠**Module 3 challenge: Work with Regular Expressions**"
      ],
      "metadata": {
        "id": "7Ierol8Qrza8"
      }
    },
    {
      "cell_type": "markdown",
      "source": [
        "✅ Question 1\n",
        "\n",
        "What is a regular expression?\n",
        "\n",
        "Answer: A sequence of characters that forms a search pattern"
      ],
      "metadata": {
        "id": "n2B5V5JTrzbA"
      }
    },
    {
      "cell_type": "markdown",
      "source": [
        "✅ Question 2\n",
        "\n",
        "What is a characteristic of a CSV file?\n",
        "\n",
        "Answer: Data in each row is separated by a special character"
      ],
      "metadata": {
        "id": "MUbE5op7saI7"
      }
    },
    {
      "cell_type": "markdown",
      "source": [
        "✅ Question 3\n",
        "\n",
        "Complete the function to extract full URLs. Question 3\n",
        "You are reading an article that contains website urls in the format:\n",
        "\n",
        "https://www.website-domain.com\n",
        "\n",
        "You’d like to extract the complete urls from the text automatically, instead of copying and pasting them by hand. Complete the function find_url() to extract all encrypted websites that begin with https:// and end with any top level domain, such as .org, .com, or .co from the text."
      ],
      "metadata": {
        "id": "TiMrZuk3snil"
      }
    },
    {
      "cell_type": "code",
      "source": [
        "def find_url(website):\n",
        " pattern = r\"https://[a-zA-Z0-9.-]+\\.[a-zA-Z]{2,}\"#enter the regex pattern here\n",
        " result = re.findall(pattern, website) #enter the re method here\n",
        " return result\n",
        "\n",
        "\n",
        "print(find_url(\"Go to the website https://www.coursera.com find more information about Google Certificate Programs. Then, visit https://www.python.org/ to learn more about Python. \")) # Should return ['https://www.coursera.com', 'https://www.python.org']\n",
        "print(find_url(\"You can find anything on https://www.google.com!\")) # Should return ['https://www.google.com']\n",
        "print(find_url(\"You can find anything on http://www.google.com!\")) # Should return []\n",
        "print(find_url(\"Check out python.org!\")) # Should return []\n"
      ],
      "metadata": {
        "id": "z8RDJOi-tBxg"
      },
      "execution_count": null,
      "outputs": []
    },
    {
      "cell_type": "markdown",
      "source": [
        "✅ Question 4\n",
        "\n",
        "Split sentences keeping punctuation with the word.\n",
        "\n",
        "You are exploring the punctuation at the end of sentences and want to split sentences so that each word is separate and any punctuation is included in the word next to it. Complete the parse_sentences() function to accomplish this task."
      ],
      "metadata": {
        "id": "qLPrN54isw6E"
      }
    },
    {
      "cell_type": "code",
      "source": [
        "def parse_sentences(sentence):\n",
        " pattern = r'\\w+[\\!\\?\\.]?|[^\\w\\s]' #enter the regex pattern here\n",
        " result = re.findall(pattern, sentence) #enter the re method  here\n",
        " return result\n",
        "\n",
        "print(parse_sentences(\"Hello! How are you doing?\")) # should return ['Hello!', 'How', 'are', 'you', 'doing?']\n",
        "print(parse_sentences(\"what a beautiful day it is\")) # should return ['what', 'a', 'beautiful', 'day', 'it', 'is']\n",
        "print(parse_sentences(\"2 + 2 is definitely 4!\")) # should return ['2', '+', '2', 'is', 'definitely', '4!']\n"
      ],
      "metadata": {
        "id": "h-KIx2XXs-N8"
      },
      "execution_count": null,
      "outputs": []
    },
    {
      "cell_type": "markdown",
      "source": [
        "✅ Question 5\n",
        "\n",
        "Extract 9-character employee IDs. A company uses unique, 9-character codes that begin with a capital letter, followed by a hyphen (-), followed by 7 or 8 digits as employee ID numbers, in the format:\n",
        "\n",
        "A-1234567 or A-12345678\n",
        "\n",
        "Project reports submitted to the company include the employee’s ID number and a summary of the work they completed on the project. A data analyst wants to pull all of the employee ID numbers out of these projects. Complete the find_eid() function to extract these employee ID numbers from the reports."
      ],
      "metadata": {
        "id": "7LBxTiYWtEkx"
      }
    },
    {
      "cell_type": "code",
      "source": [
        "def find_eid(report):\n",
        "  pattern = r'\\b[A-Z]-\\d{7,8}\\b' #enter the regex pattern here\n",
        "  result = re.findall(pattern, report) #enter the re method  here\n",
        "  return result\n",
        "\n",
        "\n",
        "print(find_eid(\"Employees B-1234567 and C-12345678 worked with products X-123456 and Z-123456789\")) # Should return ['B-1234567', 'C-12345678']\n",
        "print(find_eid(\"Employees B-1234567 and C-12345678, not employees b-1234567 and c-12345678\")) #Should return ['B-1234567', 'C-12345678']\n"
      ],
      "metadata": {
        "id": "krnvTzIrtLUr"
      },
      "execution_count": null,
      "outputs": []
    },
    {
      "cell_type": "markdown",
      "source": [
        "✅ Question 6\n",
        "\n",
        "Role of replace_domain() in the lab.\n",
        "\n",
        "Answer: To replace the old domain with the new domain in an email address\n",
        "\n"
      ],
      "metadata": {
        "id": "ecALCetGtPb8"
      }
    },
    {
      "cell_type": "code",
      "source": [
        "def replace_domain(address, old_domain, new_domain):\n",
        "  old_domain_pattern = r'' + old_domain + '$'\n",
        "  address = re.sub(old_domain_pattern, new_domain, address)\n",
        "  return address"
      ],
      "metadata": {
        "id": "c7ZlUApEtXbt"
      },
      "execution_count": null,
      "outputs": []
    },
    {
      "cell_type": "markdown",
      "source": [
        "✅ Question 7\n",
        "\n",
        "Purpose of old_domain_email_list.\n",
        "\n",
        "Answer: To store email addresses with the old domain that match the regex pattern"
      ],
      "metadata": {
        "id": "LgQmf_QMtZWU"
      }
    },
    {
      "cell_type": "markdown",
      "source": [
        "✅ Question 8\n",
        "\n",
        "Why write the updated list to an output file?\n",
        "\n",
        "Answer: To save the changes made to the email addresses and create a new CSV file with updated data"
      ],
      "metadata": {
        "id": "p_XaVubbtejw"
      }
    },
    {
      "cell_type": "markdown",
      "source": [
        "✅ Question 9\n",
        "\n",
        "Why replace domains and generate a new file?\n",
        "\n",
        "Answer: To enhance data security measures"
      ],
      "metadata": {
        "id": "zKhpd-prtg5X"
      }
    },
    {
      "cell_type": "markdown",
      "source": [
        "✅ Question 10\n",
        "\n",
        "How contains_domain() and replace_domain() work together.\n",
        "\n",
        "Answer:\n",
        "contains_domain() uses a regular expression to identify emails with a specific domain, and replace_domain() replaces these domains with new ones"
      ],
      "metadata": {
        "id": "4pLUYtOOtmVl"
      }
    },
    {
      "cell_type": "markdown",
      "source": [
        "### 🟢 **Module 4: Managing Data and Processes**"
      ],
      "metadata": {
        "id": "w2tOpPdnv__a"
      }
    },
    {
      "cell_type": "markdown",
      "source": [
        "\n",
        "#### ◽**Theme 1: Data Streams**"
      ],
      "metadata": {
        "id": "Faoyo3UStnv_"
      }
    },
    {
      "cell_type": "markdown",
      "source": [
        "##### 💠**Reading data interactively**"
      ],
      "metadata": {
        "id": "3Y5JJ1IPtnwA"
      }
    },
    {
      "cell_type": "markdown",
      "source": [
        "Python's `input()` function allows interactive user input during script execution. It always returns data as a string, so conversion to other types is necessary when needed."
      ],
      "metadata": {
        "id": "Rg3UHPt-tnwB"
      }
    },
    {
      "cell_type": "code",
      "execution_count": 2,
      "metadata": {
        "id": "RWKvT3xxtnwB",
        "colab": {
          "base_uri": "https://localhost:8080/"
        },
        "outputId": "1a1864a1-77b9-4242-f45e-e8613ad5c718"
      },
      "outputs": [
        {
          "output_type": "stream",
          "name": "stdout",
          "text": [
            "Please enter your name: Paco\n",
            "Hello, Paco\n"
          ]
        }
      ],
      "source": [
        "#!/usr/bin/env python3\n",
        "name = input(\"Please enter your name: \")\n",
        "print(\"Hello, \" + name)"
      ]
    },
    {
      "cell_type": "markdown",
      "source": [
        "When collecting numeric input, convert the string to the appropriate type:"
      ],
      "metadata": {
        "id": "FKFXfNK7E4kr"
      }
    },
    {
      "cell_type": "code",
      "source": [
        "def to_seconds(hours, minutes, seconds):\n",
        "    return hours*3600+minutes*60+seconds\n",
        "\n",
        "print(\"Welcome to this time converter\")\n",
        "\n",
        "cont = \"y\"\n",
        "while(cont.lower() == \"y\"):\n",
        "    hours = int(input(\"Enter the number of hours: \"))\n",
        "    minutes = int(input(\"Enter the number of minutes: \"))\n",
        "    seconds = int(input(\"Enter the number of seconds: \"))\n",
        "\n",
        "    print(\"That's {} seconds\".format(to_seconds(hours, minutes, seconds)))\n",
        "    print()\n",
        "    cont = input(\"Do you want to do another conversion? [y to continue] \")\n",
        "\n",
        "print(\"Goodbye!\")"
      ],
      "metadata": {
        "colab": {
          "base_uri": "https://localhost:8080/"
        },
        "id": "Ur-vmn7vE4JM",
        "outputId": "89786d9c-02d1-4d42-d111-3bf8cccda9d0"
      },
      "execution_count": 3,
      "outputs": [
        {
          "output_type": "stream",
          "name": "stdout",
          "text": [
            "Welcome to this time converter\n",
            "Enter the number of hours: 2\n",
            "Enter the number of minutes: 30\n",
            "Enter the number of seconds: 0\n",
            "That's 9000 seconds\n",
            "\n",
            "Do you want to do another conversion? [y to continue] n\n",
            "Goodbye!\n"
          ]
        }
      ]
    },
    {
      "cell_type": "markdown",
      "source": [
        "While interactive input isn't always the best solution for automation tasks, it's valuable for scenarios requiring user-specific information that can't be predetermined."
      ],
      "metadata": {
        "id": "CRSCIxW9E34Y"
      }
    },
    {
      "cell_type": "markdown",
      "source": [
        "##### 💠**Standard Streams**"
      ],
      "metadata": {
        "id": "nWKBtFvetnwC"
      }
    },
    {
      "cell_type": "markdown",
      "source": [
        "I/O streams are pathways for programs to receive input and send output. Python uses three default streams:\n",
        "\n",
        "* STDIN (Standard Input): Channel for receiving input data, typically from keyboard. Used when calling the input() function.\n",
        "* STDOUT (Standard Output): Channel for sending normal program output, usually displayed on screen. Used when calling the print() function.\n",
        "* STDERR (Standard Error): Channel specifically for error messages and diagnostics. Python error messages like TypeError appear here."
      ],
      "metadata": {
        "id": "Tugmor1ktnwC"
      }
    },
    {
      "cell_type": "code",
      "execution_count": 6,
      "metadata": {
        "id": "t3F1t9JdtnwC",
        "colab": {
          "base_uri": "https://localhost:8080/"
        },
        "outputId": "fd4cd53c-489c-42e0-b54e-99e037f1acd5"
      },
      "outputs": [
        {
          "output_type": "stream",
          "name": "stdout",
          "text": [
            "This will come from STDIN: Paco\n",
            "Now we write it to STDOUT: Paco\n"
          ]
        }
      ],
      "source": [
        "#!/usr/bin/env python3\n",
        "\n",
        "data = input(\"This will come from STDIN: \")\n",
        "print(\"Now we write it to STDOUT: \" + data)"
      ]
    },
    {
      "cell_type": "markdown",
      "source": [
        "These streams aren't exclusive to Python - all system commands use them. For instance, when using commands like cat or ls, their output goes to STDOUT and their errors to STDERR, though both typically display on screen."
      ],
      "metadata": {
        "id": "80PXRfbyHiJB"
      }
    },
    {
      "cell_type": "markdown",
      "source": [
        "##### 💠**Environment variables**"
      ],
      "metadata": {
        "id": "JQ14OEx4tnwC"
      }
    },
    {
      "cell_type": "markdown",
      "source": [
        "The shell is a command-line interface that executes commands on Linux systems. Common shells include bash (most common), Zsh, and Fish. Environment variables are values set in the shell environment that programs can access.\n",
        "Environment variables store information like:\n",
        "\n",
        "* PATH: Lists directories the shell searches for executable files\n",
        "* HOME: User's home directory location\n",
        "* SHELL: Current shell being used\n",
        "\n",
        "To view environment variables:\n",
        "\n",
        "* Use the env command to see all variables\n",
        "* Use echo $VARIABLE_NAME to see specific variables\n",
        "\n",
        "In Python, access environment variables using the os.environ dictionary from the os module:"
      ],
      "metadata": {
        "id": "2K-1CUuxtnwD"
      }
    },
    {
      "cell_type": "code",
      "source": [
        "!echo $PATH"
      ],
      "metadata": {
        "colab": {
          "base_uri": "https://localhost:8080/"
        },
        "id": "JQy9t-uULBTc",
        "outputId": "62c6b3dc-951c-4b72-d56c-b7791acf7d43"
      },
      "execution_count": 10,
      "outputs": [
        {
          "output_type": "stream",
          "name": "stdout",
          "text": [
            "/opt/bin:/usr/local/nvidia/bin:/usr/local/cuda/bin:/usr/local/sbin:/usr/local/bin:/usr/sbin:/usr/bin:/sbin:/bin:/tools/node/bin:/tools/google-cloud-sdk/bin\n"
          ]
        }
      ]
    },
    {
      "cell_type": "code",
      "execution_count": 7,
      "metadata": {
        "id": "Z7W9sy1ttnwD",
        "colab": {
          "base_uri": "https://localhost:8080/"
        },
        "outputId": "2851f4f8-fce7-41f8-df14-628d91341e88"
      },
      "outputs": [
        {
          "output_type": "stream",
          "name": "stdout",
          "text": [
            "HOME: /root\n",
            "SHELL: /bin/bash\n",
            "FRUIT: \n"
          ]
        }
      ],
      "source": [
        "#!/usr/bin/env python3\n",
        "import os\n",
        "print(\"HOME: \" + os.environ.get(\"HOME\", \"\"))\n",
        "print(\"SHELL: \" + os.environ.get(\"SHELL\", \"\"))\n",
        "print(\"FRUIT: \" + os.environ.get(\"FRUIT\", \"\"))"
      ]
    },
    {
      "cell_type": "markdown",
      "source": [
        "The get() method returns a default value (empty string) if the variable doesn't exist, preventing errors.\n",
        "\n",
        "To set environment variables for a Python script to access:"
      ],
      "metadata": {
        "id": "2xJXjLnCJqlc"
      }
    },
    {
      "cell_type": "code",
      "source": [
        "!export FRUIT=Strawberry"
      ],
      "metadata": {
        "id": "-vMR93TdL3dx"
      },
      "execution_count": 30,
      "outputs": []
    },
    {
      "cell_type": "code",
      "source": [
        "#!/usr/bin/env python3\n",
        "import os\n",
        "os.environ[\"FRUIT\"] = \"Strawberry\"\n",
        "\n",
        "print(\"HOME: \" + os.environ.get(\"HOME\", \"\"))\n",
        "print(\"SHELL: \" + os.environ.get(\"SHELL\", \"\"))\n",
        "print(\"FRUIT: \" + os.environ.get(\"FRUIT\", \"\"))"
      ],
      "metadata": {
        "colab": {
          "base_uri": "https://localhost:8080/"
        },
        "id": "4NLyXetPL3b9",
        "outputId": "229c4d0c-b87b-4be8-a37f-877aaf21aa11"
      },
      "execution_count": 31,
      "outputs": [
        {
          "output_type": "stream",
          "name": "stdout",
          "text": [
            "HOME: /root\n",
            "SHELL: /bin/bash\n",
            "FRUIT: Strawberry\n"
          ]
        }
      ]
    },
    {
      "cell_type": "markdown",
      "source": [
        "##### 💠**Sub-theme**"
      ],
      "metadata": {
        "id": "20B3scj9tnwD"
      }
    },
    {
      "cell_type": "markdown",
      "source": [
        "DESCRIPTION"
      ],
      "metadata": {
        "id": "w6k0tDfJtnwD"
      }
    },
    {
      "cell_type": "code",
      "execution_count": null,
      "metadata": {
        "id": "n801EY2CtnwE"
      },
      "outputs": [],
      "source": [
        "print(\"Code\")"
      ]
    },
    {
      "cell_type": "markdown",
      "source": [
        "##### 💠**Sub-theme**"
      ],
      "metadata": {
        "id": "rS5UBdYutnwE"
      }
    },
    {
      "cell_type": "markdown",
      "source": [
        "DESCRIPTION"
      ],
      "metadata": {
        "id": "Yv90O5-6tnwE"
      }
    },
    {
      "cell_type": "code",
      "execution_count": null,
      "metadata": {
        "id": "RBQ4RRN0tnwE"
      },
      "outputs": [],
      "source": [
        "print(\"Code\")"
      ]
    },
    {
      "cell_type": "markdown",
      "source": [
        "### 🟢 **Module X: XXX**"
      ],
      "metadata": {
        "id": "uno5nzKoyPqd"
      }
    },
    {
      "cell_type": "markdown",
      "source": [
        "#### ◽**Theme X: XXX**"
      ],
      "metadata": {
        "id": "QWd9WYIwyPqf"
      }
    },
    {
      "cell_type": "code",
      "source": [],
      "metadata": {
        "id": "bDpjXZw9yPqf"
      },
      "execution_count": null,
      "outputs": []
    },
    {
      "cell_type": "markdown",
      "source": [
        "##### 💠**Sub-theme**"
      ],
      "metadata": {
        "id": "sLhxAANQyPqg"
      }
    },
    {
      "cell_type": "markdown",
      "source": [
        "DESCRIPTION"
      ],
      "metadata": {
        "id": "mKNKBnfOyPqg"
      }
    },
    {
      "cell_type": "code",
      "execution_count": null,
      "metadata": {
        "id": "Z9Q7Z-6wyPqh"
      },
      "outputs": [],
      "source": [
        "print(\"Code\")"
      ]
    },
    {
      "cell_type": "markdown",
      "source": [
        "##### 💠**Sub-theme**"
      ],
      "metadata": {
        "id": "rDr5iO7pyPqh"
      }
    },
    {
      "cell_type": "markdown",
      "source": [
        "DESCRIPTION"
      ],
      "metadata": {
        "id": "fdYEeLvzyPqh"
      }
    },
    {
      "cell_type": "code",
      "execution_count": null,
      "metadata": {
        "id": "LtVogkdryPqh"
      },
      "outputs": [],
      "source": [
        "print(\"Code\")"
      ]
    },
    {
      "cell_type": "markdown",
      "source": [
        "##### 💠**Sub-theme**"
      ],
      "metadata": {
        "id": "CD0VG7qvyPqh"
      }
    },
    {
      "cell_type": "markdown",
      "source": [
        "DESCRIPTION"
      ],
      "metadata": {
        "id": "yabJ1WlTyPqh"
      }
    },
    {
      "cell_type": "code",
      "execution_count": null,
      "metadata": {
        "id": "nWUn-NjwyPqi"
      },
      "outputs": [],
      "source": [
        "print(\"Code\")"
      ]
    },
    {
      "cell_type": "markdown",
      "source": [
        "##### 💠**Sub-theme**"
      ],
      "metadata": {
        "id": "kkG4DETmyPqi"
      }
    },
    {
      "cell_type": "markdown",
      "source": [
        "DESCRIPTION"
      ],
      "metadata": {
        "id": "K9_QscNvyPqi"
      }
    },
    {
      "cell_type": "code",
      "execution_count": null,
      "metadata": {
        "id": "ceW7ABnNyPqi"
      },
      "outputs": [],
      "source": [
        "print(\"Code\")"
      ]
    },
    {
      "cell_type": "markdown",
      "source": [
        "##### 💠**Sub-theme**"
      ],
      "metadata": {
        "id": "wG2Fb2RpyPqi"
      }
    },
    {
      "cell_type": "markdown",
      "source": [
        "DESCRIPTION"
      ],
      "metadata": {
        "id": "uvnfmjGDyPqi"
      }
    },
    {
      "cell_type": "code",
      "execution_count": null,
      "metadata": {
        "id": "GBby4s2dyPqi"
      },
      "outputs": [],
      "source": [
        "print(\"Code\")"
      ]
    }
  ]
}