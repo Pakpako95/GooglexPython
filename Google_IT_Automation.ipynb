{
  "nbformat": 4,
  "nbformat_minor": 0,
  "metadata": {
    "colab": {
      "provenance": [],
      "collapsed_sections": [
        "vUryZVSJ3fjN",
        "vt2PTANsBWbD",
        "IRDYeUSpAVq9",
        "0EBaXzPmW-ip",
        "rO6u3F0ewHwu",
        "RUno6BMIc84q",
        "h96F0Eb92QYQ",
        "rwoMHQn4MQ-B",
        "1Byt_RPJMmO7",
        "3FHGdKF5M507",
        "yf4KTrm9NE_2",
        "N1d2GUprNUzk",
        "xhcOPtEfRAHl",
        "nYKweQyXRAHl",
        "GUhfOQKvRAHm"
      ],
      "authorship_tag": "ABX9TyNZ3kua1Hp/hk+pSTQ2PVts",
      "include_colab_link": true
    },
    "kernelspec": {
      "name": "python3",
      "display_name": "Python 3"
    },
    "language_info": {
      "name": "python"
    }
  },
  "cells": [
    {
      "cell_type": "markdown",
      "metadata": {
        "id": "view-in-github",
        "colab_type": "text"
      },
      "source": [
        "<a href=\"https://colab.research.google.com/github/Pakpako95/GooglexPython/blob/main/Google_IT_Automation.ipynb\" target=\"_parent\"><img src=\"https://colab.research.google.com/assets/colab-badge.svg\" alt=\"Open In Colab\"/></a>"
      ]
    },
    {
      "cell_type": "markdown",
      "source": [
        "# **Google IT Automation with Python Specialization**"
      ],
      "metadata": {
        "id": "HmJUR9sj5gpL"
      }
    },
    {
      "cell_type": "markdown",
      "source": [
        "## **Course 2: Using Python to Interact with the Operating System**"
      ],
      "metadata": {
        "id": "YRD9Uz5E34Vg"
      }
    },
    {
      "cell_type": "markdown",
      "source": [
        "### **Module 3: Regular Expressions**"
      ],
      "metadata": {
        "id": "QzUwXcLt34Ws"
      }
    },
    {
      "cell_type": "markdown",
      "source": [
        "#### **Theme 2: Basic Regular Expressions**"
      ],
      "metadata": {
        "id": "vUryZVSJ3fjN"
      }
    },
    {
      "cell_type": "markdown",
      "source": [
        "##### **Simple Matching in Python**"
      ],
      "metadata": {
        "id": "vt2PTANsBWbD"
      }
    },
    {
      "cell_type": "markdown",
      "source": [
        "In Python's regex implementation, the re module provides functions for string manipulation. Use r prefix to create rawstrings, preventing Python from interpreting special characters.\n",
        "\n",
        "The search function checks if a pattern exists in a string, returning a match object with information like position (span) and the matching substring.\n",
        "\n",
        "If no match is found, search returns None. Special regex characters include ^ to match the beginning of a line and . to match any character. Additional options like re.IGNORECASE can modify matching behavior."
      ],
      "metadata": {
        "id": "ijcqVrsKBWbE"
      }
    },
    {
      "cell_type": "code",
      "execution_count": null,
      "metadata": {
        "id": "CZijaxTPBWbE"
      },
      "outputs": [],
      "source": [
        "import re\n",
        "result = re.search(r\"aza\", \"plaza\")\n",
        "print(result)"
      ]
    },
    {
      "cell_type": "code",
      "source": [
        "import re\n",
        "result = re.search(r\"aza\", \"bazaar\")\n",
        "print(result)"
      ],
      "metadata": {
        "id": "dlIj1AzRBWbF"
      },
      "execution_count": null,
      "outputs": []
    },
    {
      "cell_type": "code",
      "source": [
        "import re\n",
        "result = re.search(r\"aza\", \"maze\")\n",
        "print(result)\n",
        "\n",
        "print(re.search(r\"^x\", \"xenon\"))"
      ],
      "metadata": {
        "collapsed": true,
        "id": "zqF_8QbWBWbF"
      },
      "execution_count": null,
      "outputs": []
    },
    {
      "cell_type": "code",
      "source": [
        "import re\n",
        "print(re.search(r\"p.ng\", \"penguin\"))"
      ],
      "metadata": {
        "id": "s4Uy5YGoBr5g"
      },
      "execution_count": null,
      "outputs": []
    },
    {
      "cell_type": "code",
      "source": [
        "import re\n",
        "print(re.search(r\"p.ng\", \"clapping\"))\n",
        "print(re.search(r\"p.ng\", \"sponge\"))"
      ],
      "metadata": {
        "id": "XGLQ_Ca8BsF0"
      },
      "execution_count": null,
      "outputs": []
    },
    {
      "cell_type": "code",
      "source": [
        "import re\n",
        "print(re.search(r\"p.ng\", \"Pangaea\", re.IGNORECASE))"
      ],
      "metadata": {
        "id": "tO9VlIiyBttm"
      },
      "execution_count": null,
      "outputs": []
    },
    {
      "cell_type": "markdown",
      "source": [
        "##### **Wildcards and Character Classes**"
      ],
      "metadata": {
        "id": "IRDYeUSpAVq9"
      }
    },
    {
      "cell_type": "markdown",
      "source": [
        "Character classes in regex allow matching specific character groups using square brackets.\n",
        "\n",
        "To match Python with either uppercase or lowercase p, use `[Pp]ython`. Ranges are defined with dashes: `[a-z]` for lowercase letters, `[A-Z]` for uppercase, `[0-9]` for digits.\n",
        "\n",
        "The `^` symbol inside brackets negates the class, matching anything not in the specified set. For example, `[^a-zA-Z]` matches characters that aren't letters.\n",
        "\n",
        "The pipe symbol `|` creates alternatives, matching either expression. For instance, cat|dog matches either \"cat\" or \"dog\".\n",
        "While search finds only the first match, findall returns all matches in a string."
      ],
      "metadata": {
        "id": "dBxJZj2uAVrA"
      }
    },
    {
      "cell_type": "code",
      "execution_count": null,
      "metadata": {
        "id": "uwSF0UC5AVrB"
      },
      "outputs": [],
      "source": [
        "import re\n",
        "print(re.search(r\"[Pp]ython\", \"Python\"))"
      ]
    },
    {
      "cell_type": "code",
      "source": [
        "import re\n",
        "print(re.search(r\"[a-z]way\", \"The end of the highway\"))\n",
        "print(re.search(r\"[a-z]way\", \"What a way to go\"))\n",
        "print(re.search(\"cloud[a-zA-Z0-9]\", \"cloudy\"))\n",
        "print(re.search(\"cloud[a-zA-Z0-9]\", \"cloud9\"))"
      ],
      "metadata": {
        "id": "sXDpvwF5AVrC"
      },
      "execution_count": null,
      "outputs": []
    },
    {
      "cell_type": "code",
      "source": [
        "import re\n",
        "print(re.search(r\"[^a-zA-Z]\", \"This is a sentence with spaces.\"))\n",
        "print(re.search(r\"[^a-zA-Z ]\", \"This is a sentence with spaces.\"))\n",
        "\n",
        "print(re.search(r\"cat|dog\", \"I like cats.\"))\n",
        "print(re.search(r\"cat|dog\", \"I love dogs!\"))\n",
        "print(re.search(r\"cat|dog\", \"I like both dogs and cats.\"))\n",
        "\n",
        "print(re.search(r\"cat|dog\", \"I like cats.\"))\n",
        "print(re.search(r\"cat|dog\", \"I love dogs!\"))\n",
        "print(re.search(r\"cat|dog\", \"I like both dogs and cats.\"))\n",
        "print(re.findall(r\"cat|dog\", \"I like both dogs and cats.\"))"
      ],
      "metadata": {
        "id": "_8r27jB-AVrD"
      },
      "execution_count": null,
      "outputs": []
    },
    {
      "cell_type": "markdown",
      "source": [
        "##### **Repetition Qualifiers**"
      ],
      "metadata": {
        "id": "0EBaXzPmW-ip"
      }
    },
    {
      "cell_type": "markdown",
      "source": [
        "Repetition qualifiers in regex allow matching characters multiple times.\n",
        "The ***** matches any character repeated zero or more times, but behaves greedily by matching as much as possible. For example, **p.*n matches from the first \"p\" to the last \"n\" in a string.\n",
        "\n",
        "The + qualifier matches one or more occurrences of the preceding character, while ? matches zero or one occurrence. For example, O+L+ matches one or more O's followed by one or more L's, and P?each matches both \"each\" and \"Peach\".\n",
        "\n",
        "These qualifiers help build more complex patterns for finding specific text patterns like the longest word in a string or hostnames in log files."
      ],
      "metadata": {
        "id": "eFVj0Op3xAu-"
      }
    },
    {
      "cell_type": "code",
      "execution_count": null,
      "metadata": {
        "id": "JtiC5Z3IL3y0"
      },
      "outputs": [],
      "source": [
        "import re\n",
        "print(re.search(r\"Py.*n\", \"Pygmalion\"))\n",
        "print(re.search(r\"Py.*n\", \"Python Programming\"))\n",
        "print(re.search(r\"Py.*?n\", \"Python Programming\"))\n",
        "print(re.search(r\"Py[a-z]*n\", \"Python Programming\"))\n",
        "print(re.search(r\"Py[a-z]*n\", \"Pyn\"))"
      ]
    },
    {
      "cell_type": "code",
      "source": [
        "import re\n",
        "print(re.search(r\"o+l+\", \"goldfish\"))\n",
        "print(re.search(r\"o+l+\", \"woolly\"))\n",
        "print(re.search(r\"o+l+\", \"boil\"))"
      ],
      "metadata": {
        "id": "WlOlpKc_MTPn"
      },
      "execution_count": null,
      "outputs": []
    },
    {
      "cell_type": "code",
      "source": [
        "import re\n",
        "print(re.search(r\"p?each\", \"To each their own\"))\n",
        "print(re.search(r\"p?each\", \"I like peaches\"))"
      ],
      "metadata": {
        "id": "3luHEsH-MU2z"
      },
      "execution_count": null,
      "outputs": []
    },
    {
      "cell_type": "markdown",
      "source": [
        "Greedy vs Non-Greedy in Regular Expressions\\\n",
        "\n",
        "**Greedy:** Matches as much as possible.\n",
        "Example: a.*a\n",
        "→ Captures from the first a to the last a.\n",
        "\n",
        "**Non-Greedy:** Matches as little as possible.\n",
        "Example: a.*?a\n",
        "→ Captures from the first a to the next closest a.\n",
        "\n",
        "Explaining the expression ( . * ? )\n",
        "\n",
        "( . ) means any character (except newlines).\n",
        "\n",
        "( * ) means zero or more repetitions of the preceding item (in this case, any character).\n",
        "\n",
        "( ? ) makes the * non-greedy, so it matches the smallest possible number of characters between the two letters.\n",
        "\n",
        "→ So ( . * ? ) means: “the fewest possible characters of any kind.”"
      ],
      "metadata": {
        "id": "K4_wtWdIdUu2"
      }
    },
    {
      "cell_type": "markdown",
      "source": [
        "##### **Escaping Characters**"
      ],
      "metadata": {
        "id": "rO6u3F0ewHwu"
      }
    },
    {
      "cell_type": "markdown",
      "source": [
        "Escaping special characters in regex requires using a backslash (). For example, to match a literal dot rather than any character, use . as in .com which matches \".com\" specifically.\n",
        "\n",
        "Python uses raw strings (r\"\") to avoid confusion with string escape sequences like \\n or \\t, as backslashes won't be interpreted when generating the string.\n",
        "Python provides special character sequences:\n",
        "\n",
        "* \\w matches alphanumeric characters (letters, numbers, underscores)\n",
        "* \\d matches digits\n",
        "* \\s matches whitespace (space, tab, newline)\n",
        "* \\b matches word boundaries\n",
        "\n",
        "For regex testing and analysis, regex101.com is a helpful resource."
      ],
      "metadata": {
        "id": "VIETjA5idvYd"
      }
    },
    {
      "cell_type": "code",
      "source": [
        "import re\n",
        "print(re.search(r\".com\", \"welcome\"))\n",
        "print(re.search(r\"\\.com\", \"welcome\"))\n",
        "print(re.search(r\"\\.com\", \"mydomain.com\"))"
      ],
      "metadata": {
        "colab": {
          "base_uri": "https://localhost:8080/"
        },
        "id": "eiC33Rrbd20k",
        "outputId": "8579879b-381d-47dd-dda5-db30ec74b828"
      },
      "execution_count": null,
      "outputs": [
        {
          "output_type": "stream",
          "name": "stdout",
          "text": [
            "<re.Match object; span=(2, 6), match='lcom'>\n",
            "None\n",
            "<re.Match object; span=(8, 12), match='.com'>\n"
          ]
        }
      ]
    },
    {
      "cell_type": "code",
      "source": [
        "import re\n",
        "print(re.search(r\"\\w*\", \"This is an example\"))\n",
        "print(re.search(r\"\\w*\", \"And_this_is_another\"))"
      ],
      "metadata": {
        "colab": {
          "base_uri": "https://localhost:8080/"
        },
        "id": "62AJhK3Bd-eK",
        "outputId": "6e3e1cf2-c053-4048-837a-8e80b9652d0b"
      },
      "execution_count": null,
      "outputs": [
        {
          "output_type": "stream",
          "name": "stdout",
          "text": [
            "<re.Match object; span=(0, 4), match='This'>\n",
            "<re.Match object; span=(0, 19), match='And_this_is_another'>\n"
          ]
        }
      ]
    },
    {
      "cell_type": "markdown",
      "source": [
        "##### **Regular Expressions in Action**"
      ],
      "metadata": {
        "id": "RUno6BMIc84q"
      }
    },
    {
      "cell_type": "markdown",
      "source": [
        "Regular expressions can be combined to create powerful pattern matching. To match countries that start and end with \"a\", use `^a.*a$`, where `^` marks the beginning and `$` marks the end of the string.\n",
        "\n",
        "To validate Python variable names (starting with letter or underscore, containing letters, numbers or underscores):\n",
        "\n",
        "Start with:\n",
        "\n",
        "1. `^[a-zA-Z_]` to match first character\n",
        "2. Add `[a-zA-Z0-9_]*$` to match remaining characters\n",
        "3. The complete pattern is ` ^[a-zA-Z_][a-zA-Z0-9_]*$ `\n",
        "\n",
        "This pattern correctly validates variable names like \"my_var1\" while rejecting invalid ones like \"123var\" (starts with number) or \"my var\" (contains space).\n",
        "\n",
        "Practice with regex builds comfort with this powerful tool for text processing."
      ],
      "metadata": {
        "id": "zXm3FcqczUSV"
      }
    },
    {
      "cell_type": "code",
      "source": [
        "import re\n",
        "print(re.search(r\"A.*a\", \"Argentina\"))\n",
        "print(re.search(r\"A.*a\", \"Azerbaijan\"))\n",
        "print(re.search(r\"^A.*a$\", \"Azerbaijan\"))\n",
        "print(re.search(r\"^A.*a$\", \"Argentina\"))"
      ],
      "metadata": {
        "id": "YLXvh4mJx1zQ"
      },
      "execution_count": null,
      "outputs": []
    },
    {
      "cell_type": "code",
      "source": [
        "import re\n",
        "pattern = r\"^[a-zA-Z_][a-zA-Z0-9_]*$\"\n",
        "print(re.search(pattern, \"_this_is_a_valid_variable_name\"))\n",
        "print(re.search(pattern, \"this isn't a valid variable\"))\n",
        "print(re.search(pattern, \"my_variable1\"))\n",
        "print(re.search(pattern, \"2my_variable1\"))"
      ],
      "metadata": {
        "id": "31bqMZ5gyBMB"
      },
      "execution_count": null,
      "outputs": []
    },
    {
      "cell_type": "markdown",
      "source": [
        "Explanation of the regex `r\"^[A-Z][a-z\\s]+[.?!]$`:\n",
        "\n",
        "`^` — Start of string\n",
        "\n",
        "`[A-Z]` — First character must be an uppercase letter\n",
        "\n",
        "`[a-z\\s]+` — At least one lowercase letter or space\n",
        "\n",
        "`[.?!]` — Ends with a period, question mark, or exclamation mark\n",
        "\n",
        "`$` — End of string"
      ],
      "metadata": {
        "id": "rCacKMWWAjog"
      }
    },
    {
      "cell_type": "markdown",
      "source": [
        "##### **Practice of the Theme: Basic Regular Expressions**"
      ],
      "metadata": {
        "id": "h96F0Eb92QYQ"
      }
    },
    {
      "cell_type": "markdown",
      "source": [
        "Question 1\n",
        "The check_web_address() function checks if the text passed qualifies as a top-level web address, meaning that it contains alphanumeric characters (which includes letters, numbers, and underscores), as well as periods, dashes, and a plus sign, followed by a period and a character-only top-level domain such as \".com\", \".info\", \".edu\", etc. Fill in the regular expression to do that, using escape characters, wildcards, repetition qualifiers, beginning and end-of-line characters, and character classes."
      ],
      "metadata": {
        "id": "Ls5v2dzZ2QYQ"
      }
    },
    {
      "cell_type": "code",
      "source": [
        "import re\n",
        "def check_web_address(text):\n",
        "  pattern = r\"^[\\w\\.\\-\\+]+\\.([a-zA-Z]+)$\"\n",
        "  result = re.search(pattern, text)\n",
        "  return result != None\n",
        "\n",
        "print(check_web_address(\"gmail.com\")) # True\n",
        "print(check_web_address(\"www@google\")) # False\n",
        "print(check_web_address(\"www.Coursera.org\")) # True\n",
        "print(check_web_address(\"web-address.com/homepage\")) # False\n",
        "print(check_web_address(\"My_Favorite-Blog.US\")) # True\n"
      ],
      "metadata": {
        "id": "a4qA9mL12QYR"
      },
      "execution_count": null,
      "outputs": []
    },
    {
      "cell_type": "markdown",
      "source": [
        "Question 2\n",
        "The check_time() function checks for the time format of a 12-hour clock, as follows: the hour is between 1 and 12, with no leading zero, followed by a colon, then minutes between 00 and 59, then an optional space, and then AM or PM, in upper or lower case. Fill in the regular expression to do that. How many of the concepts that you just learned can you use here?"
      ],
      "metadata": {
        "id": "tppYTeJC2ua5"
      }
    },
    {
      "cell_type": "code",
      "source": [
        "import re\n",
        "def check_time(text):\n",
        "  pattern = r\"^(1[0-2]|[1-9]):[0-5][0-9]\\s?(am|pm|AM|PM)$\"\n",
        "  result = re.search(pattern, text)\n",
        "  return result != None\n",
        "\n",
        "print(check_time(\"12:45pm\")) # True\n",
        "print(check_time(\"9:59 AM\")) # True\n",
        "print(check_time(\"6:60am\")) # False\n",
        "print(check_time(\"five o'clock\")) # False\n",
        "print(check_time(\"6:02 am\")) # True\n",
        "print(check_time(\"6:02km\")) # False\n"
      ],
      "metadata": {
        "id": "Zw1lmVjV2QYR"
      },
      "execution_count": null,
      "outputs": []
    },
    {
      "cell_type": "markdown",
      "source": [
        "Question 3\n",
        "The contains_acronym() function checks the text for the presence of 2 or more characters or digits surrounded by parentheses, with at least the first character in uppercase (if it's a letter), returning True if the condition is met, or False otherwise. For example, \"Instant messaging (IM) is a set of communication technologies used for text-based communication\" should return True since (IM) satisfies the match conditions.\" Fill in the regular expression in this function:"
      ],
      "metadata": {
        "id": "Tp60C0xB27Fk"
      }
    },
    {
      "cell_type": "code",
      "source": [
        "import re\n",
        "def contains_acronym(text):\n",
        "  pattern = r\"\\(([A-Z][a-zA-Z0-9]+)\\)\"\n",
        "  result = re.search(pattern, text)\n",
        "  return result != None\n",
        "\n",
        "print(contains_acronym(\"Instant messaging (IM) is a set of communication technologies used for text-based communication\")) # True\n",
        "print(contains_acronym(\"American Standard Code for Information Interchange (ASCII) is a character encoding standard for electronic communication\")) # True\n",
        "print(contains_acronym(\"Please do NOT enter without permission!\")) # False\n",
        "print(contains_acronym(\"PostScript is a fourth-generation programming language (4GL)\")) # True\n",
        "print(contains_acronym(\"Have fun using a self-contained underwater breathing apparatus (Scuba)!\")) # True\n"
      ],
      "metadata": {
        "id": "ZSaT7jlA26AV"
      },
      "execution_count": null,
      "outputs": []
    },
    {
      "cell_type": "markdown",
      "source": [
        "What does the r before the pattern string in re.search(r\"Py.*n\", sample.txt) indicate?\n",
        "\n",
        "Raw Strings\n",
        "\n",
        "What does the plus character [+] do in regex?\n",
        "\n",
        "Matches one or more occurrences of the character before it.\n",
        "\n"
      ],
      "metadata": {
        "id": "QlmpdbFV2QYR"
      }
    },
    {
      "cell_type": "markdown",
      "source": [
        "An intern implemented a zip code checker, but it works only with five-digit zip codes. Your task is to update the checker so that it includes all nine digits of the zip code; the leading five digits and the optional four after the hyphen. The zip code needs to be preceded by at least one space, and cannot be at the start of the text. Update the regular expression."
      ],
      "metadata": {
        "id": "a8TzZmba3NZj"
      }
    },
    {
      "cell_type": "code",
      "source": [
        "import re\n",
        "\n",
        "def correct_function(text):\n",
        "  result = re.search(r\"\\s\\d{5}(-\\d{4})?\", text)  # Corrected regex pattern with space\n",
        "  return result is not None\n",
        "\n",
        "def check_zip_code(text):\n",
        "  return correct_function(text)  # Call the correct_function\n",
        "\n",
        "# Call the check_zip_code function with test cases\n",
        "print(check_zip_code(\"The zip codes for New York are 10001 thru 11104.\"))  # True\n",
        "print(check_zip_code(\"90210 is a TV show\"))  # False (no space before 90210)\n",
        "print(check_zip_code(\"Their address is: 123 Main Street, Anytown, AZ 85258-0001.\"))  # True\n",
        "print(check_zip_code(\"The Parliament of Canada is at 111 Wellington St, Ottawa, ON K1A0A9.\"))  # False\n"
      ],
      "metadata": {
        "id": "5NRaR20M3PHk"
      },
      "execution_count": null,
      "outputs": []
    },
    {
      "cell_type": "markdown",
      "source": [
        "#### **Theme 3: Advanced Regular Expressions**"
      ],
      "metadata": {
        "id": "SKSebztwL-JN"
      }
    },
    {
      "cell_type": "markdown",
      "source": [
        "##### **Capturing Groups**"
      ],
      "metadata": {
        "id": "rwoMHQn4MQ-B"
      }
    },
    {
      "cell_type": "markdown",
      "source": [
        "Capturing groups in regex allow extracting matched portions for further processing. Created by enclosing patterns in parentheses, they store matched text that can be accessed using the `groups()` method or index notation.\n",
        "\n",
        "When working with names in \"lastname, firstname\" format, use `(\\w+)`, `(\\w+)` to capture both parts separately. The complete match is accessed at index 0, while captured groups start at index 1.\n",
        "\n",
        "To handle more complex names with spaces, dots, or dashes, expand the character class: `([a-zA-Z .-]+)`, `([a-zA-Z .-]+)`\n",
        "\n",
        "This pattern can be implemented in a rearrange_name function that returns \"firstname lastname\" when the pattern matches, or the original string if no match is found."
      ],
      "metadata": {
        "id": "b-N3CtXfMWSs"
      }
    },
    {
      "cell_type": "code",
      "execution_count": null,
      "metadata": {
        "id": "LpIK5rwgMaZs",
        "colab": {
          "base_uri": "https://localhost:8080/",
          "height": 128
        },
        "outputId": "a139ee95-fc5c-4a83-c057-dfacc7b7932a"
      },
      "outputs": [
        {
          "output_type": "stream",
          "name": "stdout",
          "text": [
            "<re.Match object; span=(0, 13), match='Lovelace, Ada'>\n",
            "('Lovelace', 'Ada')\n",
            "Lovelace, Ada\n",
            "Lovelace\n",
            "Ada\n"
          ]
        },
        {
          "output_type": "execute_result",
          "data": {
            "text/plain": [
              "'Ada Lovelace'"
            ],
            "application/vnd.google.colaboratory.intrinsic+json": {
              "type": "string"
            }
          },
          "metadata": {},
          "execution_count": 9
        }
      ],
      "source": [
        "import re\n",
        "result = re.search(r\" ^(\\w*), (\\w*)$\", \"Lovelace, Ada\")\n",
        "print(result)\n",
        "print(result.groups())\n",
        "print(result[0])\n",
        "print(result[1])\n",
        "print(result[2])\n",
        "\"{} {}\".format(result[2], result[1])"
      ]
    },
    {
      "cell_type": "code",
      "source": [
        "import re\n",
        "def rearrange_name(name):\n",
        "    result = re.search(r\"^(\\w*), (\\w*)$\", name)\n",
        "    if result is None:\n",
        "        return name\n",
        "    return \"{} {}\".format(result[2], result[1])\n",
        "rearrange_name(\"Lovelace, Ada\")\n",
        "rearrange_name(\"Lovelace, Ada\")"
      ],
      "metadata": {
        "colab": {
          "base_uri": "https://localhost:8080/",
          "height": 36
        },
        "id": "uqGEKGbrCHTU",
        "outputId": "5d8cf490-42d8-4978-e14f-dfaa4b153c3c"
      },
      "execution_count": null,
      "outputs": [
        {
          "output_type": "execute_result",
          "data": {
            "text/plain": [
              "'Ada Lovelace'"
            ],
            "application/vnd.google.colaboratory.intrinsic+json": {
              "type": "string"
            }
          },
          "metadata": {},
          "execution_count": 12
        }
      ]
    },
    {
      "cell_type": "code",
      "source": [
        "import re\n",
        "def rearrange_name(name):\n",
        "    result = re.search(r\"^(\\w*), (\\w*)$\", name)\n",
        "    if result is None:\n",
        "        return name\n",
        "    return \"{} {}\".format(result[2], result[1])\n",
        "rearrange_name(\"Ritchie, Dennis\")"
      ],
      "metadata": {
        "colab": {
          "base_uri": "https://localhost:8080/",
          "height": 36
        },
        "id": "KMB6O9mOCI9c",
        "outputId": "30fa997b-4732-49fd-a544-fcd881db7f2e"
      },
      "execution_count": null,
      "outputs": [
        {
          "output_type": "execute_result",
          "data": {
            "text/plain": [
              "'Dennis Ritchie'"
            ],
            "application/vnd.google.colaboratory.intrinsic+json": {
              "type": "string"
            }
          },
          "metadata": {},
          "execution_count": 13
        }
      ]
    },
    {
      "cell_type": "code",
      "source": [
        "import re\n",
        "def rearrange_name(name):\n",
        "    result = re.search(r\"^([\\w \\.-]*), ([\\w \\.-]*)$\", name)\n",
        "    if result == None:\n",
        "        return name\n",
        "    return \"{} {}\".format(result[2], result[1])\n",
        "rearrange_name(\"Hopper, Grace M.\")"
      ],
      "metadata": {
        "colab": {
          "base_uri": "https://localhost:8080/",
          "height": 36
        },
        "id": "OZMFTdT6CLUz",
        "outputId": "60b3e5d9-fc21-4076-c87a-e3d4f8611168"
      },
      "execution_count": null,
      "outputs": [
        {
          "output_type": "execute_result",
          "data": {
            "text/plain": [
              "'Grace M. Hopper'"
            ],
            "application/vnd.google.colaboratory.intrinsic+json": {
              "type": "string"
            }
          },
          "metadata": {},
          "execution_count": 14
        }
      ]
    },
    {
      "cell_type": "markdown",
      "source": [
        "##### **More on Repetition Qualifiers**"
      ],
      "metadata": {
        "id": "1Byt_RPJMmO7"
      }
    },
    {
      "cell_type": "markdown",
      "source": [
        "Numeric repetition qualifiers in regex allow matching patterns a specific number of times using curly brackets:\n",
        "\n",
        "* `{n}`: Exactly n repetitions\n",
        "* `{n,m}`: Between n and m repetitions\n",
        "* `{n,}`: At least n repetitions\n",
        "* `{,m}`: Up to m repetitions (from zero)\n",
        "\n",
        "For example, `[a-zA-Z]{5}` matches exactly 5 letters. To match complete words of exactly 5 letters, use `\\b[a-zA-Z]{5}\\b` where `\\b` marks word boundaries.\n",
        "\n",
        "The findall function returns all matches rather than just the first one. For instance, `[a-zA-Z0-9]{5,10}` finds all alphanumeric sequences between 5-10 characters long, while `s[a-zA-Z0-9]{,20}` matches \"s\" followed by up to 20 alphanumeric characters."
      ],
      "metadata": {
        "id": "JnE9npC4MnbI"
      }
    },
    {
      "cell_type": "code",
      "execution_count": null,
      "metadata": {
        "id": "t8jr-95PM38o",
        "colab": {
          "base_uri": "https://localhost:8080/"
        },
        "outputId": "911a1722-c67e-4891-af3d-a639c19d7cdb"
      },
      "outputs": [
        {
          "output_type": "stream",
          "name": "stdout",
          "text": [
            "<re.Match object; span=(2, 7), match='ghost'>\n"
          ]
        }
      ],
      "source": [
        "import re\n",
        "print(re.search(r\"[a-zA-Z]{5}\", \"a ghost\"))"
      ]
    },
    {
      "cell_type": "code",
      "source": [
        "import re\n",
        "print(re.search(r\"[a-zA-Z]{5}\", \"a scary ghost appeared\"))"
      ],
      "metadata": {
        "colab": {
          "base_uri": "https://localhost:8080/"
        },
        "id": "lNRcdbafGnq4",
        "outputId": "59aa41af-4e4b-4456-835a-58bb5a46bc48"
      },
      "execution_count": null,
      "outputs": [
        {
          "output_type": "stream",
          "name": "stdout",
          "text": [
            "<re.Match object; span=(2, 7), match='scary'>\n"
          ]
        }
      ]
    },
    {
      "cell_type": "code",
      "source": [
        "import re\n",
        "print(re.findall(r\"[a-zA-Z]{5}\", \"a scary ghost appeared\"))"
      ],
      "metadata": {
        "colab": {
          "base_uri": "https://localhost:8080/"
        },
        "id": "HbNof2xZGoCD",
        "outputId": "df725774-6f6b-491d-e3b3-5fc1ee679fec"
      },
      "execution_count": null,
      "outputs": [
        {
          "output_type": "stream",
          "name": "stdout",
          "text": [
            "['scary', 'ghost', 'appea']\n"
          ]
        }
      ]
    },
    {
      "cell_type": "code",
      "source": [
        "import re\n",
        "re.findall(r\"\\b[a-zA-Z]{5}\\b\", \"A scary ghost appeared\")"
      ],
      "metadata": {
        "colab": {
          "base_uri": "https://localhost:8080/"
        },
        "id": "G302fTGOGoPx",
        "outputId": "0b97f5ce-2e6f-4567-a0b2-7047119baa1e"
      },
      "execution_count": null,
      "outputs": [
        {
          "output_type": "execute_result",
          "data": {
            "text/plain": [
              "['scary', 'ghost']"
            ]
          },
          "metadata": {},
          "execution_count": 18
        }
      ]
    },
    {
      "cell_type": "code",
      "source": [
        "import re\n",
        "print(re.findall(r\"\\w{5,10}\", \"I really like strawberries\"))"
      ],
      "metadata": {
        "colab": {
          "base_uri": "https://localhost:8080/"
        },
        "id": "eiUu96LwGt2_",
        "outputId": "842abc44-3680-4649-da12-7b592b97a565"
      },
      "execution_count": null,
      "outputs": [
        {
          "output_type": "stream",
          "name": "stdout",
          "text": [
            "['really', 'strawberri']\n"
          ]
        }
      ]
    },
    {
      "cell_type": "code",
      "source": [
        "import re\n",
        "print(re.findall(r\"\\w{5,}\", \"I really like strawberries\"))"
      ],
      "metadata": {
        "colab": {
          "base_uri": "https://localhost:8080/"
        },
        "id": "gNNomu2MGvmX",
        "outputId": "8f07459b-977a-4d70-fb4e-8e0dc0c582b0"
      },
      "execution_count": null,
      "outputs": [
        {
          "output_type": "stream",
          "name": "stdout",
          "text": [
            "['really', 'strawberries']\n"
          ]
        }
      ]
    },
    {
      "cell_type": "code",
      "source": [
        "import re\n",
        "print(re.search(r\"s\\w{,20}\", \"I really like strawberries\"))"
      ],
      "metadata": {
        "colab": {
          "base_uri": "https://localhost:8080/"
        },
        "id": "apkOulrfGxm8",
        "outputId": "6036fe09-0c64-4850-9497-3b8586536a09"
      },
      "execution_count": null,
      "outputs": [
        {
          "output_type": "stream",
          "name": "stdout",
          "text": [
            "<re.Match object; span=(14, 26), match='strawberries'>\n"
          ]
        }
      ]
    },
    {
      "cell_type": "markdown",
      "source": [
        "**Reflection:**"
      ],
      "metadata": {
        "id": "OYt1CNYTLDwk"
      }
    },
    {
      "cell_type": "code",
      "source": [
        "import re\n",
        "\n",
        "def long_words(text):\n",
        "  pattern = r\"\\b\\w{7,}\\b\"\n",
        "  result = re.findall(pattern, text)\n",
        "  return result\n",
        "\n",
        "# Test cases\n",
        "print(long_words(\"I like to drink coffee in the morning.\"))  # ['morning']\n",
        "print(long_words(\"I also have a taste for hot chocolate in the afternoon.\"))  # ['chocolate', 'afternoon']\n",
        "print(long_words(\"I never drink tea late at night.\"))  # []"
      ],
      "metadata": {
        "colab": {
          "base_uri": "https://localhost:8080/"
        },
        "id": "fGGePhxWLD_o",
        "outputId": "d68e19ce-4a26-427a-f12e-ee4cbc160208"
      },
      "execution_count": null,
      "outputs": [
        {
          "output_type": "stream",
          "name": "stdout",
          "text": [
            "['morning']\n",
            "['chocolate', 'afternoon']\n",
            "[]\n"
          ]
        }
      ]
    },
    {
      "cell_type": "markdown",
      "source": [
        "##### **Extracting a PID Using regexes in Python**"
      ],
      "metadata": {
        "id": "3FHGdKF5M507"
      }
    },
    {
      "cell_type": "markdown",
      "source": [
        "The process ID extraction example uses capturing groups to get numbers between square brackets:\n",
        "\n",
        "`[(\\d+)]` matches a pattern where:\n",
        "\n",
        "* `[` is an escaped opening square bracket\n",
        "* `(\\d+)` is a capturing group matching one or more digits\n",
        "* `]` is an escaped closing square bracket\n",
        "\n",
        "To safely extract PIDs from log lines, the extract_pid function:\n",
        "\n",
        "1. Searches for the pattern in the string\n",
        "2. Checks if the result exists (not None)\n",
        "3. Returns the first capturing group if found\n",
        "4. Returns an empty string if no match exists\n",
        "\n",
        "This approach prevents errors when processing lines without PIDs. For example, given \"[12345]\" it returns \"12345\", while for strings without this pattern it returns an empty string."
      ],
      "metadata": {
        "id": "9eMuZjFOM61A"
      }
    },
    {
      "cell_type": "code",
      "execution_count": 3,
      "metadata": {
        "id": "JAaYbbofM75o",
        "colab": {
          "base_uri": "https://localhost:8080/"
        },
        "outputId": "a230891e-06b9-47bd-8d69-d623d57e6bf6"
      },
      "outputs": [
        {
          "output_type": "stream",
          "name": "stdout",
          "text": [
            "12345\n"
          ]
        }
      ],
      "source": [
        "import re\n",
        "log = \"July 31 07:51:48 mycomputer bad_process[12345]: ERROR Performing package upgrade\"\n",
        "regex = r\"\\[(\\d+)\\]\"\n",
        "result = re.search(regex, log)\n",
        "print(result[1])"
      ]
    },
    {
      "cell_type": "code",
      "source": [
        "import re\n",
        "log = \"July 31 07:51:48 mycomputer bad_process[12345]: ERROR Performing package upgrade\"\n",
        "regex = r\"\\[(\\d+)\\]\"\n",
        "result = re.search(regex, log)\n",
        "result = re.search(regex, \"A completely different string that also has numbers [34567]\")\n",
        "print(result[1])"
      ],
      "metadata": {
        "colab": {
          "base_uri": "https://localhost:8080/"
        },
        "id": "y1tP_1NzsQYi",
        "outputId": "fe61b41c-1b69-4654-8ad3-dd026e534fa3"
      },
      "execution_count": 4,
      "outputs": [
        {
          "output_type": "stream",
          "name": "stdout",
          "text": [
            "34567\n"
          ]
        }
      ]
    },
    {
      "cell_type": "code",
      "source": [
        "import re\n",
        "log = \"July 31 07:51:48 mycomputer bad_process[12345]: ERROR Performing package upgrade\"\n",
        "regex = r\"\\[(\\d+)\\]\"\n",
        "result = re.search(regex, log)\n",
        "result = re.search(regex, \"A completely different string that also has numbers [34567]\")\n",
        "result = re.search(regex, \"99 elephants in a [cage]\")\n",
        "print(result[1])\n",
        "#Note that this print command results in an error as shown in the video."
      ],
      "metadata": {
        "colab": {
          "base_uri": "https://localhost:8080/",
          "height": 203
        },
        "id": "TT4pokI8sSZd",
        "outputId": "1e15cbc9-41c8-4e32-91a5-d61fb52cd8ee"
      },
      "execution_count": 12,
      "outputs": [
        {
          "output_type": "error",
          "ename": "TypeError",
          "evalue": "'NoneType' object is not subscriptable",
          "traceback": [
            "\u001b[0;31m---------------------------------------------------------------------------\u001b[0m",
            "\u001b[0;31mTypeError\u001b[0m                                 Traceback (most recent call last)",
            "\u001b[0;32m<ipython-input-12-86ccb106aa99>\u001b[0m in \u001b[0;36m<cell line: 0>\u001b[0;34m()\u001b[0m\n\u001b[1;32m      5\u001b[0m \u001b[0mresult\u001b[0m \u001b[0;34m=\u001b[0m \u001b[0mre\u001b[0m\u001b[0;34m.\u001b[0m\u001b[0msearch\u001b[0m\u001b[0;34m(\u001b[0m\u001b[0mregex\u001b[0m\u001b[0;34m,\u001b[0m \u001b[0;34m\"A completely different string that also has numbers [34567]\"\u001b[0m\u001b[0;34m)\u001b[0m\u001b[0;34m\u001b[0m\u001b[0;34m\u001b[0m\u001b[0m\n\u001b[1;32m      6\u001b[0m \u001b[0mresult\u001b[0m \u001b[0;34m=\u001b[0m \u001b[0mre\u001b[0m\u001b[0;34m.\u001b[0m\u001b[0msearch\u001b[0m\u001b[0;34m(\u001b[0m\u001b[0mregex\u001b[0m\u001b[0;34m,\u001b[0m \u001b[0;34m\"99 elephants in a [cage]\"\u001b[0m\u001b[0;34m)\u001b[0m\u001b[0;34m\u001b[0m\u001b[0;34m\u001b[0m\u001b[0m\n\u001b[0;32m----> 7\u001b[0;31m \u001b[0mprint\u001b[0m\u001b[0;34m(\u001b[0m\u001b[0mresult\u001b[0m\u001b[0;34m[\u001b[0m\u001b[0;36m1\u001b[0m\u001b[0;34m]\u001b[0m\u001b[0;34m)\u001b[0m\u001b[0;34m\u001b[0m\u001b[0;34m\u001b[0m\u001b[0m\n\u001b[0m\u001b[1;32m      8\u001b[0m \u001b[0;31m#Note that this print command results in an error as shown in the video.\u001b[0m\u001b[0;34m\u001b[0m\u001b[0;34m\u001b[0m\u001b[0m\n",
            "\u001b[0;31mTypeError\u001b[0m: 'NoneType' object is not subscriptable"
          ]
        }
      ]
    },
    {
      "cell_type": "code",
      "source": [
        "import re\n",
        "log = \"July 31 07:51:48 mycomputer bad_process[12345]: ERROR Performing package upgrade\"\n",
        "regex = r\"\\[(\\d+)\\]\"\n",
        "result = re.search(regex, log)\n",
        "result = re.search(regex, \"A completely different string that also has numbers [34567]\")\n",
        "result = re.search(regex, \"99 elephants in a [cage]\")\n",
        "def extract_pid(log_line):\n",
        "    regex = r\"\\[(\\d+)\\]\"\n",
        "    result = re.search(regex, log_line)\n",
        "    if result is None:\n",
        "        return \"\"\n",
        "    return result[1]\n",
        "print(extract_pid(log))"
      ],
      "metadata": {
        "colab": {
          "base_uri": "https://localhost:8080/"
        },
        "id": "LheYMsqTsTul",
        "outputId": "1857356f-f0be-42e4-ffe4-3ad56448741a"
      },
      "execution_count": 6,
      "outputs": [
        {
          "output_type": "stream",
          "name": "stdout",
          "text": [
            "12345\n"
          ]
        }
      ]
    },
    {
      "cell_type": "code",
      "source": [
        "import re\n",
        "log = \"July 31 07:51:48 mycomputer bad_process[12345]: ERROR Performing package upgrade\"\n",
        "regex = r\"\\[(\\d+)\\]\"\n",
        "result = re.search(regex, log)\n",
        "result = re.search(regex, \"A completely different string that also has numbers [34567]\")\n",
        "result = re.search(regex, \"99 elephants in a [cage]\")\n",
        "def extract_pid(log_line):\n",
        "    regex = r\"\\[(\\d+)\\]\"\n",
        "    result = re.search(regex, log_line)\n",
        "    if result is None:\n",
        "        return \"\"\n",
        "    return result[1]\n",
        "print(extract_pid(\"99 elephants in a [cage]\"))"
      ],
      "metadata": {
        "colab": {
          "base_uri": "https://localhost:8080/"
        },
        "id": "QDNKXbnesVLm",
        "outputId": "f0d6eed2-0827-45f0-cebc-cd27a0031d3b"
      },
      "execution_count": 8,
      "outputs": [
        {
          "output_type": "stream",
          "name": "stdout",
          "text": [
            "\n"
          ]
        }
      ]
    },
    {
      "cell_type": "markdown",
      "source": [
        "**Reflection:** Add to the regular expression used in the extract_pid function, to return the uppercase message in parenthesis, after the process id."
      ],
      "metadata": {
        "id": "RzlM8HtRt3tZ"
      }
    },
    {
      "cell_type": "code",
      "source": [
        "import re\n",
        "def extract_pid(log_line):\n",
        "    regex = r\"\\[(\\d+)\\]:\\s+([A-Z]+)\"\n",
        "    result = re.search(regex, log_line)\n",
        "    if result is None:\n",
        "        return None\n",
        "    return \"{} ({})\".format(result.group(1), result.group(2))\n",
        "\n",
        "print(extract_pid(\"July 31 07:51:48 mycomputer bad_process[12345]: ERROR Performing package upgrade\")) # 12345 (ERROR)\n",
        "print(extract_pid(\"99 elephants in a [cage]\")) # None\n",
        "print(extract_pid(\"A string that also has numbers [34567] but no uppercase message\")) # None\n",
        "print(extract_pid(\"July 31 08:08:08 mycomputer new_process[67890]: RUNNING Performing backup\")) # 67890 (RUNNING)"
      ],
      "metadata": {
        "colab": {
          "base_uri": "https://localhost:8080/"
        },
        "id": "UcErWkrxt5x_",
        "outputId": "02ca6319-2abe-43c9-c6f3-6971e9d68381"
      },
      "execution_count": 11,
      "outputs": [
        {
          "output_type": "stream",
          "name": "stdout",
          "text": [
            "12345 (ERROR)\n",
            "None\n",
            "None\n",
            "67890 (RUNNING)\n"
          ]
        }
      ]
    },
    {
      "cell_type": "code",
      "source": [
        "# Regular Expression Explanation:\n",
        "    # r\"\\[(\\d+)\\]:\\s+([A-Z]+)\"\n",
        "    #\n",
        "    # \\[         => Match a literal '[' character. The backslash escapes the special meaning of '['.\n",
        "    # (\\d+)      => Match one or more digits and capture them in group 1 (this is the PID).\n",
        "    # \\]         => Match a literal ']' character.\n",
        "    # :          => Match a literal colon ':'.\n",
        "    # \\s+        => Match one or more whitespace characters (space, tab, etc.).\n",
        "    # ([A-Z]+)   => Match one or more uppercase letters and capture them in group 2 (the status message)."
      ],
      "metadata": {
        "id": "6ZpFggYhvwtN"
      },
      "execution_count": null,
      "outputs": []
    },
    {
      "cell_type": "markdown",
      "source": [
        "##### **Splitting and Replacing**"
      ],
      "metadata": {
        "id": "yf4KTrm9NE_2"
      }
    },
    {
      "cell_type": "markdown",
      "source": [
        "* **The `split()` Function**\n",
        "\n",
        "Divides text using regex patterns as separators\n",
        "\n",
        "Example: `re.split(r\"[.?!]\", text)` splits text into sentences\n",
        "Using capturing parentheses (pattern) keeps separators in the result list\n",
        "\n",
        "* **The `sub()` Function**\n",
        "\n",
        "Substitutes matching patterns with replacement text\n",
        "For anonymizing emails: `re.sub(r\"[\\w.%+-]+@[\\w.-]+\", \"[REDACTED]\", text)`\n",
        "\n",
        "Captured groups can be referenced in replacements using `\\1`, `\\2`, etc.\n",
        "\n",
        "Example for name rearrangement: `re.sub(r\"([a-zA-Z \\.-]+), ([a-zA-Z \\.-]+)\", r\"\\2 \\1\", name)`\n",
        "\n",
        "These functions expand regex capabilities for text processing, making them powerful tools for data manipulation despite their complexity."
      ],
      "metadata": {
        "id": "kwxmVnxUNGK8"
      }
    },
    {
      "cell_type": "code",
      "execution_count": 13,
      "metadata": {
        "id": "SvLlN9yUNIoI",
        "colab": {
          "base_uri": "https://localhost:8080/"
        },
        "outputId": "3e049d8f-da01-484c-97d7-8c20d4b33ad0"
      },
      "outputs": [
        {
          "output_type": "execute_result",
          "data": {
            "text/plain": [
              "['One sentence', ' Another one', ' And the last one', '']"
            ]
          },
          "metadata": {},
          "execution_count": 13
        }
      ],
      "source": [
        "import re\n",
        "re.split(r\"[.?!]\", \"One sentence. Another one? And the last one!\")"
      ]
    },
    {
      "cell_type": "code",
      "source": [
        "import re\n",
        "re.split(r\"([.?!])\", \"One sentence. Another one? And the last one!\")"
      ],
      "metadata": {
        "colab": {
          "base_uri": "https://localhost:8080/"
        },
        "id": "-kwGi4sbwENK",
        "outputId": "68786fc4-74cc-42f1-8224-b2587ceed3af"
      },
      "execution_count": 14,
      "outputs": [
        {
          "output_type": "execute_result",
          "data": {
            "text/plain": [
              "['One sentence', '.', ' Another one', '?', ' And the last one', '!', '']"
            ]
          },
          "metadata": {},
          "execution_count": 14
        }
      ]
    },
    {
      "cell_type": "code",
      "source": [
        "import re\n",
        "re.sub(r\"[\\w.%+-]+@[\\w.-]+\", \"[REDACTED]\", \"Received an email for go_nuts95@my.example.com\")"
      ],
      "metadata": {
        "colab": {
          "base_uri": "https://localhost:8080/",
          "height": 36
        },
        "id": "6NAkW2BywEWl",
        "outputId": "311a899e-ffee-445a-8be0-4712c5f4e5b4"
      },
      "execution_count": 15,
      "outputs": [
        {
          "output_type": "execute_result",
          "data": {
            "text/plain": [
              "'Received an email for [REDACTED]'"
            ],
            "application/vnd.google.colaboratory.intrinsic+json": {
              "type": "string"
            }
          },
          "metadata": {},
          "execution_count": 15
        }
      ]
    },
    {
      "cell_type": "code",
      "source": [
        "import re\n",
        "re.sub(r\"^([\\w .-]*), ([\\w .-]*)$\", r\"\\2 \\1\", \"Lovelace, Ada\")"
      ],
      "metadata": {
        "colab": {
          "base_uri": "https://localhost:8080/",
          "height": 36
        },
        "id": "CSOXTPwLwEfK",
        "outputId": "ff7de60a-48fe-4e2d-ca1d-e3b6d00f42dc"
      },
      "execution_count": 16,
      "outputs": [
        {
          "output_type": "execute_result",
          "data": {
            "text/plain": [
              "'Ada Lovelace'"
            ],
            "application/vnd.google.colaboratory.intrinsic+json": {
              "type": "string"
            }
          },
          "metadata": {},
          "execution_count": 16
        }
      ]
    },
    {
      "cell_type": "code",
      "source": [
        "re.split(r\"the|a\", \"One sentence. Another one? And the last one!\")"
      ],
      "metadata": {
        "colab": {
          "base_uri": "https://localhost:8080/"
        },
        "id": "HXXETcRTz9MQ",
        "outputId": "d5fe6990-40e5-4cf2-e7bf-bd0894f1a92a"
      },
      "execution_count": 17,
      "outputs": [
        {
          "output_type": "execute_result",
          "data": {
            "text/plain": [
              "['One sentence. Ano', 'r one? And ', ' l', 'st one!']"
            ]
          },
          "metadata": {},
          "execution_count": 17
        }
      ]
    },
    {
      "cell_type": "markdown",
      "source": [
        "##### **Practice**"
      ],
      "metadata": {
        "id": "N1d2GUprNUzk"
      }
    },
    {
      "cell_type": "markdown",
      "source": [
        "**Advanced regex techniques expand pattern matching capabilities:**\n",
        "\n",
        "Alterations use pipe symbol `(|)` to match any one of multiple options:\n",
        "\n",
        "`r\"location.*(London|Berlin|Madrid)\"` matches `\"location\"` followed by any of the three cities\n",
        "\n",
        "Position anchors limit where matches can occur:\n",
        "\n",
        "`^` at beginning matches only at start of string\n",
        "`$` at end matches only at end of string\n",
        "Example: `r\"^My name is (\\w+)\"` only matches if string begins with `\"My name is\"`\n",
        "\n",
        "**Character ranges match single characters from defined sets:**\n",
        "\n",
        "`r\"[A-Z]\"` matches any uppercase letter\n",
        "`r\"[0-9$-,.]\"` matches digits or specific symbols\n",
        "Combined with quantities: `r\"([0-9]{3}-[0-9]{3}-[0-9]{4})\"` matches phone numbers like \"888-123-7612\"\n",
        "\n",
        "Backreferences in substitutions refer to captured groups:\n",
        "\n",
        "`re.sub(r\"([A-Z]).\\s+(\\w+)\", r\"Ms. \\2\", text)` changes \"A. Weber\" to \"Ms. Weber\"\n",
        "\n",
        "Lookahead matches patterns only when followed by another pattern:\n",
        "\n",
        "`r\"(Test\\d)-(?=Passed)\"` matches Test numbers only if followed by \"Passed\""
      ],
      "metadata": {
        "id": "U1aaSjUaNZh2"
      }
    },
    {
      "cell_type": "markdown",
      "source": [
        "Question 1\n",
        "You’re working with a CSV file that contains employee information. Each record has a name field, followed by a phone number field, and a role field. The phone number field contains U.S. phone numbers and needs to be modified to the international format, with +1- in front of the phone number. The rest of the phone number should not change. Fill in the regular expression, using groups, to use the transform_record() function to do that."
      ],
      "metadata": {
        "id": "56KwlRae048X"
      }
    },
    {
      "cell_type": "code",
      "execution_count": null,
      "metadata": {
        "id": "Xm_TCJLVNa7a"
      },
      "outputs": [],
      "source": [
        "import re\n",
        "def transform_record(record):\n",
        "  new_record = re.sub(r\"(\\d{3}-\\d{3}-\\d{4}|\\d{3}-\\d{7})\", r\"+1-\\1\", record)\n",
        "  return new_record\n",
        "\n",
        "print(transform_record(\"Sabrina Green,802-867-5309,System Administrator\"))\n",
        "# Sabrina Green,+1-802-867-5309,System Administrator\n",
        "\n",
        "print(transform_record(\"Eli Jones,684-3481127,IT specialist\"))\n",
        "# Eli Jones,+1-684-3481127,IT specialist\n",
        "\n",
        "print(transform_record(\"Melody Daniels,846-687-7436,Programmer\"))\n",
        "# Melody Daniels,+1-846-687-7436,Programmer\n",
        "\n",
        "print(transform_record(\"Charlie Rivera,698-746-3357,Web Developer\"))\n",
        "# Charlie Rivera,+1-698-746-3357,Web Developer"
      ]
    },
    {
      "cell_type": "markdown",
      "source": [
        "The multi_vowel_words() function returns all words with 3 or more consecutive vowels (a, e, i, o, u). Fill in the regular expression to do that."
      ],
      "metadata": {
        "id": "Zyx9590P1J8T"
      }
    },
    {
      "cell_type": "code",
      "source": [
        "import re\n",
        "def multi_vowel_words(text):\n",
        "  pattern = r'\\b\\w*[aeiou]{3,}\\w*\\b'\n",
        "  result = re.findall(pattern, text)\n",
        "  return result\n",
        "\n",
        "print(multi_vowel_words(\"Life is beautiful\"))\n",
        "# ['beautiful']\n",
        "\n",
        "print(multi_vowel_words(\"Obviously, the queen is courageous and gracious.\"))\n",
        "# ['Obviously', 'queen', 'courageous', 'gracious']\n",
        "\n",
        "print(multi_vowel_words(\"The rambunctious children had to sit quietly and await their delicious dinner.\"))\n",
        "# ['rambunctious', 'quietly', 'delicious']\n",
        "\n",
        "print(multi_vowel_words(\"The order of a data queue is First In First Out (FIFO)\"))\n",
        "# ['queue']\n",
        "\n",
        "print(multi_vowel_words(\"Hello world!\"))\n",
        "# []"
      ],
      "metadata": {
        "id": "1hBGmYw21KZE"
      },
      "execution_count": null,
      "outputs": []
    },
    {
      "cell_type": "markdown",
      "source": [
        "When capturing regex groups, what datatype does the groups method return?"
      ],
      "metadata": {
        "id": "NpScSkKN1bQU"
      }
    },
    {
      "cell_type": "markdown",
      "source": [
        "A tuple"
      ],
      "metadata": {
        "id": "uTsdGxx01kFr"
      }
    },
    {
      "cell_type": "markdown",
      "source": [
        "The transform_comments() function converts comments in a Python script into those usable by a C compiler. This means looking for text that begins with a hash mark (#) and replacing it with double slashes (//), which is the C single-line comment indicator. For the purpose of this exercise, we'll ignore the possibility of a hash mark embedded inside of a Python command, and assume that it's only used to indicate a comment. We also want to treat repetitive hash marks (##), (###), etc., as a single comment indicator, to be replaced with just (//) and not (#//) or (//#). Fill in the parameters of the substitution method to complete this function:"
      ],
      "metadata": {
        "id": "iAskeudh1j3b"
      }
    },
    {
      "cell_type": "code",
      "source": [
        "import re\n",
        "def transform_comments(line_of_code):\n",
        "  result = re.sub(r'#+', '//', line_of_code)\n",
        "  return result\n",
        "\n",
        "print(transform_comments(\"### Start of program\"))\n",
        "# Should be \"// Start of program\"\n",
        "print(transform_comments(\"  number = 0   ## Initialize the variable\"))\n",
        "# Should be \"  number = 0   // Initialize the variable\"\n",
        "print(transform_comments(\"  number += 1   # Increment the variable\"))\n",
        "# Should be \"  number += 1   // Increment the variable\"\n",
        "print(transform_comments(\"  return(number)\"))\n",
        "# Should be \"  return(number)\""
      ],
      "metadata": {
        "id": "qBNxWvoN1kT6"
      },
      "execution_count": null,
      "outputs": []
    },
    {
      "cell_type": "markdown",
      "source": [
        "The convert_phone_number() function checks for a U.S. phone number format: XXX-XXX-XXXX (3 digits followed by a dash, 3 more digits followed by a dash, and 4 digits), and converts it to a more formal format that looks like this: (XXX) XXX-XXXX. Fill in the regular expression to complete this function."
      ],
      "metadata": {
        "id": "8zcuI5LG1wm6"
      }
    },
    {
      "cell_type": "code",
      "source": [
        "import re\n",
        "def convert_phone_number(phone):\n",
        "  result = re.sub(r'(\\b\\d{3})-(\\d{3})-(\\d{4}\\b)', r'(\\1) \\2-\\3', phone)\n",
        "  return result\n",
        "\n",
        "print(convert_phone_number(\"My number is 212-345-9999.\")) # My number is (212) 345-9999.\n",
        "print(convert_phone_number(\"Please call 888-555-1234\")) # Please call (888) 555-1234\n",
        "print(convert_phone_number(\"123-123-12345\")) # 123-123-12345\n",
        "print(convert_phone_number(\"Phone number of Buckingham Palace is +44 303 123 7300\"))\n",
        "# Phone number of Buckingham Palace is +44 303 123 7300"
      ],
      "metadata": {
        "id": "IGwwxYR51xAE"
      },
      "execution_count": null,
      "outputs": []
    },
    {
      "cell_type": "markdown",
      "source": [
        "#### **Theme X: \" \"**"
      ],
      "metadata": {
        "id": "xhcOPtEfRAHl"
      }
    },
    {
      "cell_type": "markdown",
      "source": [
        "##### **Sub-theme**"
      ],
      "metadata": {
        "id": "nYKweQyXRAHl"
      }
    },
    {
      "cell_type": "markdown",
      "source": [
        "DESCRIPTION"
      ],
      "metadata": {
        "id": "-909-O2fRAHm"
      }
    },
    {
      "cell_type": "code",
      "execution_count": null,
      "metadata": {
        "id": "dS5f_jPVRAHm"
      },
      "outputs": [],
      "source": [
        "print(\"Code\")"
      ]
    },
    {
      "cell_type": "markdown",
      "source": [
        "##### **Sub-theme**"
      ],
      "metadata": {
        "id": "GUhfOQKvRAHm"
      }
    },
    {
      "cell_type": "markdown",
      "source": [
        "DESCRIPTION"
      ],
      "metadata": {
        "id": "m3_b6nWJRAHm"
      }
    },
    {
      "cell_type": "code",
      "execution_count": null,
      "metadata": {
        "id": "B_cV9mcVRAHm"
      },
      "outputs": [],
      "source": [
        "print(\"Code\")"
      ]
    },
    {
      "cell_type": "markdown",
      "source": [
        "##### **Sub-theme**"
      ],
      "metadata": {
        "id": "ER3bUTY-RAHm"
      }
    },
    {
      "cell_type": "markdown",
      "source": [
        "DESCRIPTION"
      ],
      "metadata": {
        "id": "323U98K9RAHn"
      }
    },
    {
      "cell_type": "code",
      "execution_count": null,
      "metadata": {
        "id": "tqCfm4_FRAHn"
      },
      "outputs": [],
      "source": [
        "print(\"Code\")"
      ]
    },
    {
      "cell_type": "markdown",
      "source": [
        "##### **Sub-theme**"
      ],
      "metadata": {
        "id": "0d2HiXGdRAHn"
      }
    },
    {
      "cell_type": "markdown",
      "source": [
        "DESCRIPTION"
      ],
      "metadata": {
        "id": "LcYPy6KBRAHn"
      }
    },
    {
      "cell_type": "code",
      "execution_count": null,
      "metadata": {
        "id": "kLGQrzPARAHn"
      },
      "outputs": [],
      "source": [
        "print(\"Code\")"
      ]
    },
    {
      "cell_type": "markdown",
      "source": [
        "##### **Sub-theme**"
      ],
      "metadata": {
        "id": "1p4uBXBZRAHn"
      }
    },
    {
      "cell_type": "markdown",
      "source": [
        "DESCRIPTION"
      ],
      "metadata": {
        "id": "WmhxPy2QRAHn"
      }
    },
    {
      "cell_type": "code",
      "execution_count": null,
      "metadata": {
        "id": "K5InMMD9RAHo"
      },
      "outputs": [],
      "source": [
        "print(\"Code\")"
      ]
    }
  ]
}