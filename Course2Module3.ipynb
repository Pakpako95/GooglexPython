{
  "nbformat": 4,
  "nbformat_minor": 0,
  "metadata": {
    "colab": {
      "provenance": [],
      "toc_visible": true,
      "authorship_tag": "ABX9TyOnZBB1Sr1j2VUIH6Fk4huL",
      "include_colab_link": true
    },
    "kernelspec": {
      "name": "python3",
      "display_name": "Python 3"
    },
    "language_info": {
      "name": "python"
    }
  },
  "cells": [
    {
      "cell_type": "markdown",
      "metadata": {
        "id": "view-in-github",
        "colab_type": "text"
      },
      "source": [
        "<a href=\"https://colab.research.google.com/github/Pakpako95/GooglexPython/blob/main/Course2Module3.ipynb\" target=\"_parent\"><img src=\"https://colab.research.google.com/assets/colab-badge.svg\" alt=\"Open In Colab\"/></a>"
      ]
    },
    {
      "cell_type": "markdown",
      "source": [
        "# **Google IT Automation with Python Specialization**"
      ],
      "metadata": {
        "id": "HmJUR9sj5gpL"
      }
    },
    {
      "cell_type": "markdown",
      "source": [
        "## **Course 2: Using Python to Interact with the Operating System**"
      ],
      "metadata": {
        "id": "YRD9Uz5E34Vg"
      }
    },
    {
      "cell_type": "markdown",
      "source": [
        "### **Module 3: Regular Expressions**"
      ],
      "metadata": {
        "id": "QzUwXcLt34Ws"
      }
    },
    {
      "cell_type": "markdown",
      "source": [
        "#### **Theme 2: Basic Regular Expressions**"
      ],
      "metadata": {
        "id": "vUryZVSJ3fjN"
      }
    },
    {
      "cell_type": "markdown",
      "source": [
        "##### **Repetition Qualifiers**"
      ],
      "metadata": {
        "id": "0EBaXzPmW-ip"
      }
    },
    {
      "cell_type": "markdown",
      "source": [
        "**Course 2:** Using Python to Interact with the Operating System. |\n",
        "**Module 3:** Regular Expressions | **Theme:** Basic Regular Expressions\n",
        "\n",
        "---\n",
        "**Sub-theme:** Repetition Qualifiers"
      ],
      "metadata": {
        "id": "aOS67YdnMgof"
      }
    },
    {
      "cell_type": "markdown",
      "source": [
        "Repetition qualifiers in regex allow matching characters multiple times.\n",
        "The ***** matches any character repeated zero or more times, but behaves greedily by matching as much as possible. For example, **p.*n matches from the first \"p\" to the last \"n\" in a string.\n",
        "\n",
        "The + qualifier matches one or more occurrences of the preceding character, while ? matches zero or one occurrence. For example, O+L+ matches one or more O's followed by one or more L's, and P?each matches both \"each\" and \"Peach\".\n",
        "\n",
        "These qualifiers help build more complex patterns for finding specific text patterns like the longest word in a string or hostnames in log files."
      ],
      "metadata": {
        "id": "eFVj0Op3xAu-"
      }
    },
    {
      "cell_type": "code",
      "execution_count": null,
      "metadata": {
        "id": "JtiC5Z3IL3y0"
      },
      "outputs": [],
      "source": [
        "import re\n",
        "print(re.search(r\"Py.*n\", \"Pygmalion\"))\n",
        "print(re.search(r\"Py.*n\", \"Python Programming\"))\n",
        "print(re.search(r\"Py[a-z]*n\", \"Python Programming\"))\n",
        "print(re.search(r\"Py[a-z]*n\", \"Pyn\"))"
      ]
    },
    {
      "cell_type": "code",
      "source": [
        "import re\n",
        "print(re.search(r\"o+l+\", \"goldfish\"))\n",
        "print(re.search(r\"o+l+\", \"woolly\"))\n",
        "print(re.search(r\"o+l+\", \"boil\"))"
      ],
      "metadata": {
        "id": "WlOlpKc_MTPn"
      },
      "execution_count": null,
      "outputs": []
    },
    {
      "cell_type": "code",
      "source": [
        "import re\n",
        "print(re.search(r\"p?each\", \"To each their own\"))\n",
        "print(re.search(r\"p?each\", \"I like peaches\"))"
      ],
      "metadata": {
        "id": "3luHEsH-MU2z"
      },
      "execution_count": null,
      "outputs": []
    },
    {
      "cell_type": "markdown",
      "source": [
        "Greedy vs Non-Greedy in Regular Expressions\n",
        "**Greedy:**\n",
        "\n",
        "Matches as much as possible.\n",
        "Example: a.*a\n",
        "→ Captures from the first a to the last a.\n",
        "\n",
        "**Non-Greedy:**\n",
        "\n",
        "Matches as little as possible.\n",
        "Example: a.*?a\n",
        "→ Captures from the first a to the next closest a.\n",
        "___\n",
        "\n",
        "Explaining the expression ( . * ? )\n",
        "\n",
        "( . ) means any character (except newlines).\n",
        "\n",
        "( * ) means zero or more repetitions of the preceding item (in this case, any character).\n",
        "\n",
        "( ? ) makes the * non-greedy, so it matches the smallest possible number of characters between the two letters.\n",
        "\n",
        "→ So ( . * ? ) means: “the fewest possible characters of any kind.”"
      ],
      "metadata": {
        "id": "K4_wtWdIdUu2"
      }
    },
    {
      "cell_type": "markdown",
      "source": [
        "##### **Escaping Characters**"
      ],
      "metadata": {
        "id": "rO6u3F0ewHwu"
      }
    },
    {
      "cell_type": "markdown",
      "source": [
        "**Course 2:** Using Python to Interact with the Operating System. |\n",
        "**Module 3:** Regular Expressions | **Theme:** Basic Regular Expressions\n",
        "\n",
        "---\n",
        "**Sub-theme:** Escaping Characters\n"
      ],
      "metadata": {
        "id": "zKLBfTVRcnZs"
      }
    },
    {
      "cell_type": "markdown",
      "source": [
        "Escaping special characters in regex requires using a backslash (). For example, to match a literal dot rather than any character, use . as in .com which matches \".com\" specifically.\n",
        "\n",
        "Python uses raw strings (r\"\") to avoid confusion with string escape sequences like \\n or \\t, as backslashes won't be interpreted when generating the string.\n",
        "Python provides special character sequences:\n",
        "\n",
        "* \\w matches alphanumeric characters (letters, numbers, underscores)\n",
        "* \\d matches digits\n",
        "* \\s matches whitespace (space, tab, newline)\n",
        "* \\b matches word boundaries\n",
        "\n",
        "For regex testing and analysis, regex101.com is a helpful resource."
      ],
      "metadata": {
        "id": "VIETjA5idvYd"
      }
    },
    {
      "cell_type": "code",
      "source": [
        "import re\n",
        "print(re.search(r\".com\", \"welcome\"))\n",
        "print(re.search(r\"\\.com\", \"welcome\"))\n",
        "print(re.search(r\"\\.com\", \"mydomain.com\"))"
      ],
      "metadata": {
        "colab": {
          "base_uri": "https://localhost:8080/"
        },
        "id": "eiC33Rrbd20k",
        "outputId": "8579879b-381d-47dd-dda5-db30ec74b828"
      },
      "execution_count": null,
      "outputs": [
        {
          "output_type": "stream",
          "name": "stdout",
          "text": [
            "<re.Match object; span=(2, 6), match='lcom'>\n",
            "None\n",
            "<re.Match object; span=(8, 12), match='.com'>\n"
          ]
        }
      ]
    },
    {
      "cell_type": "code",
      "source": [
        "import re\n",
        "print(re.search(r\"\\w*\", \"This is an example\"))\n",
        "print(re.search(r\"\\w*\", \"And_this_is_another\"))"
      ],
      "metadata": {
        "colab": {
          "base_uri": "https://localhost:8080/"
        },
        "id": "62AJhK3Bd-eK",
        "outputId": "58fe3a31-e798-4bc3-885f-7060af2aa81b"
      },
      "execution_count": null,
      "outputs": [
        {
          "output_type": "stream",
          "name": "stdout",
          "text": [
            "<re.Match object; span=(0, 4), match='This'>\n",
            "<re.Match object; span=(0, 19), match='And_this_is_another'>\n"
          ]
        }
      ]
    },
    {
      "cell_type": "markdown",
      "source": [
        "##### **Regular Expressions in Action**"
      ],
      "metadata": {
        "id": "RUno6BMIc84q"
      }
    },
    {
      "cell_type": "markdown",
      "source": [
        "**Course 2:** Using Python to Interact with the Operating System. |\n",
        "**Module 3:** Regular Expressions | **Theme:** Basic Regular Expressions\n",
        "\n",
        "---\n",
        "**Sub-theme:** Regular Expressions in Action\n"
      ],
      "metadata": {
        "id": "HVtSheiGwN0J"
      }
    },
    {
      "cell_type": "markdown",
      "source": [
        "Regular expressions can be combined to create powerful pattern matching. To match countries that start and end with \"a\", use `^a.*a$`, where `^` marks the beginning and `$` marks the end of the string.\n",
        "\n",
        "To validate Python variable names (starting with letter or underscore, containing letters, numbers or underscores):\n",
        "\n",
        "Start with:\n",
        "\n",
        "1. `^[a-zA-Z_]` to match first character\n",
        "2. Add `[a-zA-Z0-9_]*$` to match remaining characters\n",
        "3. The complete pattern is ` ^[a-zA-Z_][a-zA-Z0-9_]*$ `\n",
        "\n",
        "This pattern correctly validates variable names like \"my_var1\" while rejecting invalid ones like \"123var\" (starts with number) or \"my var\" (contains space).\n",
        "\n",
        "Practice with regex builds comfort with this powerful tool for text processing."
      ],
      "metadata": {
        "id": "zXm3FcqczUSV"
      }
    },
    {
      "cell_type": "code",
      "source": [
        "import re\n",
        "print(re.search(r\"A.*a\", \"Argentina\"))\n",
        "print(re.search(r\"A.*a\", \"Azerbaijan\"))\n",
        "print(re.search(r\"^A.*a$\", \"Azerbaijan\"))\n",
        "print(re.search(r\"^A.*a$\", \"Argentina\"))"
      ],
      "metadata": {
        "id": "YLXvh4mJx1zQ"
      },
      "execution_count": null,
      "outputs": []
    },
    {
      "cell_type": "code",
      "source": [
        "import re\n",
        "pattern = r\"^[a-zA-Z_][a-zA-Z0-9_]*$\"\n",
        "print(re.search(pattern, \"_this_is_a_valid_variable_name\"))\n",
        "print(re.search(pattern, \"this isn't a valid variable\"))\n",
        "print(re.search(pattern, \"my_variable1\"))\n",
        "print(re.search(pattern, \"2my_variable1\"))"
      ],
      "metadata": {
        "id": "31bqMZ5gyBMB"
      },
      "execution_count": null,
      "outputs": []
    },
    {
      "cell_type": "markdown",
      "source": [
        "Explanation of the regex `r\"^[A-Z][a-z\\s]+[.?!]$`:\n",
        "\n",
        "`^` — Start of string\n",
        "\n",
        "`[A-Z]` — First character must be an uppercase letter\n",
        "\n",
        "`[a-z\\s]+` — At least one lowercase letter or space\n",
        "\n",
        "`[.?!]` — Ends with a period, question mark, or exclamation mark\n",
        "\n",
        "`$` — End of string"
      ],
      "metadata": {
        "id": "rCacKMWWAjog"
      }
    },
    {
      "cell_type": "markdown",
      "source": [
        "##### **Practice of the Theme: Basic Regular Expressions**"
      ],
      "metadata": {
        "id": "h96F0Eb92QYQ"
      }
    },
    {
      "cell_type": "markdown",
      "source": [
        "**Course 2:** Using Python to Interact with the Operating System. |\n",
        "**Module 3:** Regular Expressions | **Theme:** Basic Regular Expressions\n",
        "\n",
        "---\n",
        "**Sub-theme:** Practice\n"
      ],
      "metadata": {
        "id": "8l-irr022QYQ"
      }
    },
    {
      "cell_type": "markdown",
      "source": [
        "Question 1\n",
        "The check_web_address() function checks if the text passed qualifies as a top-level web address, meaning that it contains alphanumeric characters (which includes letters, numbers, and underscores), as well as periods, dashes, and a plus sign, followed by a period and a character-only top-level domain such as \".com\", \".info\", \".edu\", etc. Fill in the regular expression to do that, using escape characters, wildcards, repetition qualifiers, beginning and end-of-line characters, and character classes."
      ],
      "metadata": {
        "id": "Ls5v2dzZ2QYQ"
      }
    },
    {
      "cell_type": "code",
      "source": [
        "import re\n",
        "def check_web_address(text):\n",
        "  pattern = r\"^[\\w\\.\\-\\+]+\\.([a-zA-Z]+)$\"\n",
        "  result = re.search(pattern, text)\n",
        "  return result != None\n",
        "\n",
        "print(check_web_address(\"gmail.com\")) # True\n",
        "print(check_web_address(\"www@google\")) # False\n",
        "print(check_web_address(\"www.Coursera.org\")) # True\n",
        "print(check_web_address(\"web-address.com/homepage\")) # False\n",
        "print(check_web_address(\"My_Favorite-Blog.US\")) # True\n"
      ],
      "metadata": {
        "id": "a4qA9mL12QYR"
      },
      "execution_count": null,
      "outputs": []
    },
    {
      "cell_type": "markdown",
      "source": [
        "Question 2\n",
        "The check_time() function checks for the time format of a 12-hour clock, as follows: the hour is between 1 and 12, with no leading zero, followed by a colon, then minutes between 00 and 59, then an optional space, and then AM or PM, in upper or lower case. Fill in the regular expression to do that. How many of the concepts that you just learned can you use here?"
      ],
      "metadata": {
        "id": "tppYTeJC2ua5"
      }
    },
    {
      "cell_type": "code",
      "source": [
        "import re\n",
        "def check_time(text):\n",
        "  pattern = r\"^(1[0-2]|[1-9]):[0-5][0-9]\\s?(am|pm|AM|PM)$\"\n",
        "  result = re.search(pattern, text)\n",
        "  return result != None\n",
        "\n",
        "print(check_time(\"12:45pm\")) # True\n",
        "print(check_time(\"9:59 AM\")) # True\n",
        "print(check_time(\"6:60am\")) # False\n",
        "print(check_time(\"five o'clock\")) # False\n",
        "print(check_time(\"6:02 am\")) # True\n",
        "print(check_time(\"6:02km\")) # False\n"
      ],
      "metadata": {
        "id": "Zw1lmVjV2QYR"
      },
      "execution_count": null,
      "outputs": []
    },
    {
      "cell_type": "markdown",
      "source": [
        "Question 3\n",
        "The contains_acronym() function checks the text for the presence of 2 or more characters or digits surrounded by parentheses, with at least the first character in uppercase (if it's a letter), returning True if the condition is met, or False otherwise. For example, \"Instant messaging (IM) is a set of communication technologies used for text-based communication\" should return True since (IM) satisfies the match conditions.\" Fill in the regular expression in this function:"
      ],
      "metadata": {
        "id": "Tp60C0xB27Fk"
      }
    },
    {
      "cell_type": "code",
      "source": [
        "import re\n",
        "def contains_acronym(text):\n",
        "  pattern = r\"\\(([A-Z][a-zA-Z0-9]+)\\)\"\n",
        "  result = re.search(pattern, text)\n",
        "  return result != None\n",
        "\n",
        "print(contains_acronym(\"Instant messaging (IM) is a set of communication technologies used for text-based communication\")) # True\n",
        "print(contains_acronym(\"American Standard Code for Information Interchange (ASCII) is a character encoding standard for electronic communication\")) # True\n",
        "print(contains_acronym(\"Please do NOT enter without permission!\")) # False\n",
        "print(contains_acronym(\"PostScript is a fourth-generation programming language (4GL)\")) # True\n",
        "print(contains_acronym(\"Have fun using a self-contained underwater breathing apparatus (Scuba)!\")) # True\n"
      ],
      "metadata": {
        "id": "ZSaT7jlA26AV"
      },
      "execution_count": null,
      "outputs": []
    },
    {
      "cell_type": "markdown",
      "source": [
        "What does the r before the pattern string in re.search(r\"Py.*n\", sample.txt) indicate?\n",
        "\n",
        "Raw Strings\n",
        "\n",
        "What does the plus character [+] do in regex?\n",
        "\n",
        "Matches one or more occurrences of the character before it.\n",
        "\n"
      ],
      "metadata": {
        "id": "QlmpdbFV2QYR"
      }
    },
    {
      "cell_type": "markdown",
      "source": [
        "An intern implemented a zip code checker, but it works only with five-digit zip codes. Your task is to update the checker so that it includes all nine digits of the zip code; the leading five digits and the optional four after the hyphen. The zip code needs to be preceded by at least one space, and cannot be at the start of the text. Update the regular expression."
      ],
      "metadata": {
        "id": "a8TzZmba3NZj"
      }
    },
    {
      "cell_type": "code",
      "source": [
        "import re\n",
        "\n",
        "def correct_function(text):\n",
        "  result = re.search(r\"\\s\\d{5}(-\\d{4})?\", text)  # Corrected regex pattern with space\n",
        "  return result is not None\n",
        "\n",
        "def check_zip_code(text):\n",
        "  return correct_function(text)  # Call the correct_function\n",
        "\n",
        "# Call the check_zip_code function with test cases\n",
        "print(check_zip_code(\"The zip codes for New York are 10001 thru 11104.\"))  # True\n",
        "print(check_zip_code(\"90210 is a TV show\"))  # False (no space before 90210)\n",
        "print(check_zip_code(\"Their address is: 123 Main Street, Anytown, AZ 85258-0001.\"))  # True\n",
        "print(check_zip_code(\"The Parliament of Canada is at 111 Wellington St, Ottawa, ON K1A0A9.\"))  # False\n"
      ],
      "metadata": {
        "id": "5NRaR20M3PHk"
      },
      "execution_count": null,
      "outputs": []
    }
  ]
}