{
  "nbformat": 4,
  "nbformat_minor": 0,
  "metadata": {
    "colab": {
      "provenance": [],
      "authorship_tag": "ABX9TyN8mPn/7Eq2ENuqankimrmu",
      "include_colab_link": true
    },
    "kernelspec": {
      "name": "python3",
      "display_name": "Python 3"
    },
    "language_info": {
      "name": "python"
    }
  },
  "cells": [
    {
      "cell_type": "markdown",
      "metadata": {
        "id": "view-in-github",
        "colab_type": "text"
      },
      "source": [
        "<a href=\"https://colab.research.google.com/github/Pakpako95/GooglexPython/blob/main/Course2Module3.ipynb\" target=\"_parent\"><img src=\"https://colab.research.google.com/assets/colab-badge.svg\" alt=\"Open In Colab\"/></a>"
      ]
    },
    {
      "cell_type": "markdown",
      "source": [
        "### Repetition Qualifiers"
      ],
      "metadata": {
        "id": "0EBaXzPmW-ip"
      }
    },
    {
      "cell_type": "markdown",
      "source": [
        "**Course 2:** Using Python to Interact with the Operating System. |\n",
        "**Module 3:** Regular Expressions | **Theme:** Basic Regular Expressions\n",
        "\n",
        "---\n",
        "**Sub-theme:** Repetition Qualifiers"
      ],
      "metadata": {
        "id": "aOS67YdnMgof"
      }
    },
    {
      "cell_type": "markdown",
      "source": [
        "Repetition qualifiers in regex allow matching characters multiple times.\n",
        "The ***** matches any character repeated zero or more times, but behaves greedily by matching as much as possible. For example, **p.*n matches from the first \"p\" to the last \"n\" in a string.\n",
        "\n",
        "The + qualifier matches one or more occurrences of the preceding character, while ? matches zero or one occurrence. For example, O+L+ matches one or more O's followed by one or more L's, and P?each matches both \"each\" and \"Peach\".\n",
        "\n",
        "These qualifiers help build more complex patterns for finding specific text patterns like the longest word in a string or hostnames in log files."
      ],
      "metadata": {
        "id": "eFVj0Op3xAu-"
      }
    },
    {
      "cell_type": "code",
      "execution_count": null,
      "metadata": {
        "id": "JtiC5Z3IL3y0"
      },
      "outputs": [],
      "source": [
        "import re\n",
        "print(re.search(r\"Py.*n\", \"Pygmalion\"))\n",
        "print(re.search(r\"Py.*n\", \"Python Programming\"))\n",
        "print(re.search(r\"Py[a-z]*n\", \"Python Programming\"))\n",
        "print(re.search(r\"Py[a-z]*n\", \"Pyn\"))"
      ]
    },
    {
      "cell_type": "code",
      "source": [
        "import re\n",
        "print(re.search(r\"o+l+\", \"goldfish\"))\n",
        "print(re.search(r\"o+l+\", \"woolly\"))\n",
        "print(re.search(r\"o+l+\", \"boil\"))"
      ],
      "metadata": {
        "id": "WlOlpKc_MTPn"
      },
      "execution_count": null,
      "outputs": []
    },
    {
      "cell_type": "code",
      "source": [
        "import re\n",
        "print(re.search(r\"p?each\", \"To each their own\"))\n",
        "print(re.search(r\"p?each\", \"I like peaches\"))"
      ],
      "metadata": {
        "id": "3luHEsH-MU2z"
      },
      "execution_count": null,
      "outputs": []
    },
    {
      "cell_type": "markdown",
      "source": [
        "#### Greedy vs Non-Greedy in Regular Expressions\n",
        "**Greedy:**\n",
        "\n",
        "Matches as much as possible.\n",
        "Example: a.*a\n",
        "→ Captures from the first a to the last a.\n",
        "\n",
        "**Non-Greedy:**\n",
        "\n",
        "Matches as little as possible.\n",
        "Example: a.*?a\n",
        "→ Captures from the first a to the next closest a.\n",
        "___\n",
        "\n",
        "#### Explaining the expression ( . * ? )\n",
        "\n",
        "( . ) means any character (except newlines).\n",
        "\n",
        "( * ) means zero or more repetitions of the preceding item (in this case, any character).\n",
        "\n",
        "( ? ) makes the * non-greedy, so it matches the smallest possible number of characters between the two letters.\n",
        "\n",
        "→ So ( . * ? ) means: “the fewest possible characters of any kind.”"
      ],
      "metadata": {
        "id": "K4_wtWdIdUu2"
      }
    },
    {
      "cell_type": "markdown",
      "source": [
        "### Escaping Characters"
      ],
      "metadata": {
        "id": "rO6u3F0ewHwu"
      }
    },
    {
      "cell_type": "markdown",
      "source": [
        "**Course 2:** Using Python to Interact with the Operating System. |\n",
        "**Module 3:** Regular Expressions | **Theme:** Basic Regular Expressions\n",
        "\n",
        "---\n",
        "**Sub-theme:** Escaping Characters\n"
      ],
      "metadata": {
        "id": "zKLBfTVRcnZs"
      }
    },
    {
      "cell_type": "markdown",
      "source": [
        "Escaping special characters in regex requires using a backslash (). For example, to match a literal dot rather than any character, use . as in .com which matches \".com\" specifically.\n",
        "\n",
        "Python uses raw strings (r\"\") to avoid confusion with string escape sequences like \\n or \\t, as backslashes won't be interpreted when generating the string.\n",
        "Python provides special character sequences:\n",
        "\n",
        "* \\w matches alphanumeric characters (letters, numbers, underscores)\n",
        "* \\d matches digits\n",
        "* \\s matches whitespace (space, tab, newline)\n",
        "* \\b matches word boundaries\n",
        "\n",
        "For regex testing and analysis, regex101.com is a helpful resource."
      ],
      "metadata": {
        "id": "VIETjA5idvYd"
      }
    },
    {
      "cell_type": "code",
      "source": [
        "import re\n",
        "print(re.search(r\".com\", \"welcome\"))\n",
        "print(re.search(r\"\\.com\", \"welcome\"))\n",
        "print(re.search(r\"\\.com\", \"mydomain.com\"))"
      ],
      "metadata": {
        "colab": {
          "base_uri": "https://localhost:8080/"
        },
        "id": "eiC33Rrbd20k",
        "outputId": "8579879b-381d-47dd-dda5-db30ec74b828"
      },
      "execution_count": null,
      "outputs": [
        {
          "output_type": "stream",
          "name": "stdout",
          "text": [
            "<re.Match object; span=(2, 6), match='lcom'>\n",
            "None\n",
            "<re.Match object; span=(8, 12), match='.com'>\n"
          ]
        }
      ]
    },
    {
      "cell_type": "code",
      "source": [
        "import re\n",
        "print(re.search(r\"\\w*\", \"This is an example\"))\n",
        "print(re.search(r\"\\w*\", \"And_this_is_another\"))"
      ],
      "metadata": {
        "colab": {
          "base_uri": "https://localhost:8080/"
        },
        "id": "62AJhK3Bd-eK",
        "outputId": "58fe3a31-e798-4bc3-885f-7060af2aa81b"
      },
      "execution_count": null,
      "outputs": [
        {
          "output_type": "stream",
          "name": "stdout",
          "text": [
            "<re.Match object; span=(0, 4), match='This'>\n",
            "<re.Match object; span=(0, 19), match='And_this_is_another'>\n"
          ]
        }
      ]
    },
    {
      "cell_type": "code",
      "source": [],
      "metadata": {
        "id": "_BjrI8jbd_6L"
      },
      "execution_count": null,
      "outputs": []
    },
    {
      "cell_type": "markdown",
      "source": [
        "### Regular Expressions in Action"
      ],
      "metadata": {
        "id": "RUno6BMIc84q"
      }
    },
    {
      "cell_type": "markdown",
      "source": [
        "**Course 2:** Using Python to Interact with the Operating System. |\n",
        "**Module 3:** Regular Expressions | **Theme:** Basic Regular Expressions\n",
        "\n",
        "---\n",
        "**Sub-theme:** Regular Expressions in Action\n"
      ],
      "metadata": {
        "id": "HVtSheiGwN0J"
      }
    },
    {
      "cell_type": "markdown",
      "source": [
        "Regular expressions can be combined to create powerful pattern matching. To match countries that start and end with \"a\", use `^a.*a$`, where `^` marks the beginning and `$` marks the end of the string.\n",
        "\n",
        "To validate Python variable names (starting with letter or underscore, containing letters, numbers or underscores):\n",
        "\n",
        "Start with:\n",
        "\n",
        "1. `^[a-zA-Z_]` to match first character\n",
        "2. Add `[a-zA-Z0-9_]*$` to match remaining characters\n",
        "3. The complete pattern is ` ^[a-zA-Z_][a-zA-Z0-9_]*$ `\n",
        "\n",
        "This pattern correctly validates variable names like \"my_var1\" while rejecting invalid ones like \"123var\" (starts with number) or \"my var\" (contains space).\n",
        "\n",
        "Practice with regex builds comfort with this powerful tool for text processing."
      ],
      "metadata": {
        "id": "zXm3FcqczUSV"
      }
    },
    {
      "cell_type": "code",
      "source": [
        "import re\n",
        "print(re.search(r\"A.*a\", \"Argentina\"))\n",
        "print(re.search(r\"A.*a\", \"Azerbaijan\"))\n",
        "print(re.search(r\"^A.*a$\", \"Australia\"))"
      ],
      "metadata": {
        "colab": {
          "base_uri": "https://localhost:8080/"
        },
        "id": "YLXvh4mJx1zQ",
        "outputId": "b63e6c47-3dea-4edc-c601-364cedba2853"
      },
      "execution_count": null,
      "outputs": [
        {
          "output_type": "stream",
          "name": "stdout",
          "text": [
            "<re.Match object; span=(0, 9), match='Argentina'>\n",
            "<re.Match object; span=(0, 9), match='Azerbaija'>\n",
            "<re.Match object; span=(0, 9), match='Australia'>\n"
          ]
        }
      ]
    },
    {
      "cell_type": "code",
      "source": [
        "import re\n",
        "pattern = r\"^[a-zA-Z_][a-zA-Z0-9_]*$\"\n",
        "print(re.search(pattern, \"_this_is_a_valid_variable_name\"))\n",
        "print(re.search(pattern, \"this isn't a valid variable\"))\n",
        "print(re.search(pattern, \"my_variable1\"))\n",
        "print(re.search(pattern, \"2my_variable1\"))"
      ],
      "metadata": {
        "colab": {
          "base_uri": "https://localhost:8080/"
        },
        "id": "31bqMZ5gyBMB",
        "outputId": "26f441d7-8f4c-4be8-eb61-beafe7ac2b93"
      },
      "execution_count": null,
      "outputs": [
        {
          "output_type": "stream",
          "name": "stdout",
          "text": [
            "<re.Match object; span=(0, 30), match='_this_is_a_valid_variable_name'>\n",
            "None\n",
            "<re.Match object; span=(0, 12), match='my_variable1'>\n",
            "None\n"
          ]
        }
      ]
    }
  ]
}